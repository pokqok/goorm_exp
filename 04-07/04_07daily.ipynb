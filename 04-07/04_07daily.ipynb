{
 "cells": [
  {
   "cell_type": "markdown",
   "id": "b119eb50",
   "metadata": {},
   "source": [
    "# 데일리 미션 0407"
   ]
  },
  {
   "cell_type": "markdown",
   "id": "8494ab6d",
   "metadata": {},
   "source": [
    "## 1. 리스트에서 최댓값 구하기 (max 함수 사용 금지)\n",
    "\n",
    "**문제 설명:**\n",
    "사용자로부터 N개의 정수를 입력받아 리스트에 저장한 뒤, 가장 큰 값을 찾아 출력하세요.\n",
    "단, 내장 함수 max()를 사용하지 말고 직접 비교 알고리즘을 구현하세요."
   ]
  },
  {
   "cell_type": "code",
   "execution_count": 4,
   "id": "892312e9",
   "metadata": {},
   "outputs": [
    {
     "name": "stdout",
     "output_type": "stream",
     "text": [
      "최댓값: 3\n"
     ]
    }
   ],
   "source": [
    "n = list(map(int, input().split()))\n",
    "max = 0\n",
    "for i in n:\n",
    "    if i > max:\n",
    "        max = i\n",
    "\n",
    "print(\"최댓값:\", max)"
   ]
  },
  {
   "cell_type": "markdown",
   "id": "144d9978",
   "metadata": {},
   "source": [
    "## 2. 짝수만 필터링하여 리스트에 저장하기\n",
    "\n",
    "**문제 설명:**\n",
    "사용자로부터 정수를 입력받아 짝수만 리스트에 저장하고 출력하세요."
   ]
  },
  {
   "cell_type": "code",
   "execution_count": 2,
   "id": "acc588d5",
   "metadata": {},
   "outputs": [
    {
     "name": "stdout",
     "output_type": "stream",
     "text": [
      "짝수: [2, 4]\n"
     ]
    }
   ],
   "source": [
    "n = list(map(int, input().split()))\n",
    "\n",
    "even_numbers = [num for num in n if num % 2 == 0]\n",
    "\n",
    "print(\"짝수:\", even_numbers)"
   ]
  },
  {
   "cell_type": "markdown",
   "id": "7427a979",
   "metadata": {},
   "source": [
    "## 3. 반복문과 수학 공식으로 1부터 N까지 합 구하기\n",
    "\n",
    "**문제 설명:**\n",
    "1부터 N까지의 합을 반복문으로 구한 값과 수학 공식을 이용한 값을 각각 출력해 비교하세요."
   ]
  },
  {
   "cell_type": "code",
   "execution_count": 5,
   "id": "e0c9020d",
   "metadata": {},
   "outputs": [
    {
     "name": "stdout",
     "output_type": "stream",
     "text": [
      "반복문으로 구한 합: 231\n",
      "수학 공식으로 구한 합: 231\n",
      "두 방법의 결과가 일치합니다.\n"
     ]
    }
   ],
   "source": [
    "n = int(input())\n",
    "\n",
    "# 반복문을 사용하여 합 구하기\n",
    "result1 = 0\n",
    "for i in range(1, n + 1):\n",
    "    result1 += i\n",
    "\n",
    "# 수학 공식(가우스 공식)을 사용하여 합 구하기\n",
    "result2 = (n * (n + 1)) // 2\n",
    "\n",
    "# 결과 출력\n",
    "print(\"반복문으로 구한 합:\", result1)\n",
    "print(\"수학 공식으로 구한 합:\", result2)\n",
    "\n",
    "# 두 방법의 결과 비교\n",
    "if result1 == result2:\n",
    "    print(\"두 방법의 결과가 일치합니다.\")\n",
    "else:\n",
    "    print(\"두 방법의 결과가 다릅니다.\")"
   ]
  },
  {
   "cell_type": "markdown",
   "id": "1c0cd26a",
   "metadata": {},
   "source": [
    "## 4. 숫자 맞추기 게임 (입력 제한 및 기록 저장)\n",
    "\n",
    "**문제 설명:**\n",
    "정답 숫자를 맞출 때까지 입력을 받고, 최대 7회까지만 시도할 수 있습니다. 모든 입력 기록을 리스트에 저장한 후 출력하세요."
   ]
  },
  {
   "cell_type": "code",
   "execution_count": null,
   "id": "002f3631",
   "metadata": {},
   "outputs": [
    {
     "name": "stdout",
     "output_type": "stream",
     "text": [
      "정답입니다! 4번 만에 맞췄습니다.\n",
      "\n",
      "전체 시도 기록: [1, 2, 3, 4]\n"
     ]
    }
   ],
   "source": [
    "import random\n",
    "\n",
    "answer = random.randint(1, 10)\n",
    "try_list = []\n",
    "\n",
    "for i in range(1, 8):\n",
    "    num = int(input(f\"{i}번째 시도 - 1~10 사이의 숫자를 입력하세요: \"))\n",
    "    \n",
    "    # 입력 기록 저장\n",
    "    try_list.append(num)\n",
    "    \n",
    "    if num == answer:\n",
    "        print(f\"정답입니다 {i}번 만에 맞췄습니다.\")\n",
    "        break\n",
    "\n",
    "# 모든 시도 기록 출력\n",
    "print(\"\\n전체 시도 기록:\", try_list)\n",
    "\n",
    "if num != answer:\n",
    "    print(f\"\\n7번의 기회를 모두 사용했습니다. 정답은 {answer}입니다.\")"
   ]
  },
  {
   "cell_type": "markdown",
   "id": "1c64e729",
   "metadata": {},
   "source": [
    "## 5. 다중 조건 분기 처리\n",
    "\n",
    "**문제 설명:**\n",
    "정수를 입력받아 2의 배수면 2배, 3의 배수면 3배, 둘 다 아니면 1을 더해 출력하세요."
   ]
  },
  {
   "cell_type": "code",
   "execution_count": 10,
   "id": "b243b871",
   "metadata": {},
   "outputs": [
    {
     "name": "stdout",
     "output_type": "stream",
     "text": [
      "결과: 2\n"
     ]
    }
   ],
   "source": [
    "num = int(input())\n",
    "\n",
    "if num % 2 == 0 and num % 3 == 0:\n",
    "    # 2와 3의 공배수\n",
    "    result = num * 6\n",
    "elif num % 2 == 0:\n",
    "    # 2의 배수\n",
    "    result = num * 2\n",
    "elif num % 3 == 0:\n",
    "    # 3의 배수\n",
    "    result = num * 3\n",
    "else:\n",
    "    result = num + 1\n",
    "\n",
    "# 결과 출력\n",
    "print(\"결과:\", result)"
   ]
  }
 ],
 "metadata": {
  "kernelspec": {
   "display_name": "base",
   "language": "python",
   "name": "python3"
  },
  "language_info": {
   "codemirror_mode": {
    "name": "ipython",
    "version": 3
   },
   "file_extension": ".py",
   "mimetype": "text/x-python",
   "name": "python",
   "nbconvert_exporter": "python",
   "pygments_lexer": "ipython3",
   "version": "3.12.7"
  }
 },
 "nbformat": 4,
 "nbformat_minor": 5
}

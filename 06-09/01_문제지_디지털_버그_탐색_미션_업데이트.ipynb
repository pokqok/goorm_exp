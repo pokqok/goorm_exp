{
 "cells": [
  {
   "cell_type": "markdown",
   "id": "49a29f8c",
   "metadata": {},
   "source": [
    "# 🌟 초급 알고리즘 미션 문제지 🌟\n",
    "## 🕵️‍♂️ 미션 배경 스토리\n",
    "당신은 유명한 탐정 ‘코난 파이썬’입니다. 이번 사건은 디지털 세계에 숨어 있는 악성 코드 ‘버그’를 추적하는 임무입니다.\n",
    "이 버그는 다양한 데이터 구조와 알고리즘 속에 숨겨져 있으며, 문제를 하나씩 해결할 때마다 버그의 위치에 가까워집니다.\n",
    "여러 알고리즘과 자료구조 기술을 사용하여 버그를 검거해 주세요!\n",
    "\n",
    "---\n",
    "\n",
    "## 🔍 미션 1: 병합 정렬로 로그 정리하기\n",
    "### 설명:\n",
    "서버 로그가 시간 순서 없이 뒤섞여 있습니다. 병합 정렬을 활용하여 로그를 타임스탬프 기준으로 오름차순 정렬하세요.\n",
    "\n"
   ]
  },
  {
   "cell_type": "code",
   "execution_count": 2,
   "id": "fdef296d",
   "metadata": {},
   "outputs": [
    {
     "name": "stdout",
     "output_type": "stream",
     "text": [
      "정렬된 로그: [('2023-09-30 23:59', 'Logout'), ('2023-10-01 08:00', 'Upload'), ('2023-10-01 09:00', 'Download'), ('2023-10-01 12:00', 'Login'), ('2023-10-01 13:00', 'View')]\n"
     ]
    }
   ],
   "source": [
    "def merge_sort(arr):\n",
    "    if len(arr) <= 1:\n",
    "        return arr\n",
    "    mid = len(arr) // 2\n",
    "    left = merge_sort(arr[:mid])\n",
    "    right = merge_sort(arr[mid:])\n",
    "    return merge(left, right)\n",
    "\n",
    "def merge(left, right):\n",
    "    sorted_arr = []\n",
    "    i = j = 0\n",
    "    while i < len(left) and j < len(right):\n",
    "        if left[i][0] <= right[j][0]:  # 타임스탬프 기준 정렬\n",
    "            sorted_arr.append(left[i])\n",
    "            i += 1\n",
    "        else:\n",
    "            sorted_arr.append(right[j])\n",
    "            j += 1\n",
    "    sorted_arr.extend(left[i:])\n",
    "    sorted_arr.extend(right[j:])\n",
    "    return sorted_arr\n",
    "\n",
    "logs = [\n",
    "    (\"2023-10-01 12:00\", \"Login\"),\n",
    "    (\"2023-09-30 23:59\", \"Logout\"),\n",
    "    (\"2023-10-01 09:00\", \"Download\"),\n",
    "    (\"2023-10-01 08:00\", \"Upload\"),\n",
    "    (\"2023-10-01 13:00\", \"View\"),\n",
    "]\n",
    "print(\"정렬된 로그:\", merge_sort(logs))\n"
   ]
  },
  {
   "cell_type": "markdown",
   "id": "27db0e70",
   "metadata": {},
   "source": [
    "\n",
    "---\n",
    "\n",
    "## 🧮 미션 2: 도수 정렬로 점수 정리하기\n",
    "### 설명:\n",
    "시험 점수를 가장 빠르게 정렬하고자 합니다. 점수는 0~100 사이의 정수입니다. 도수 정렬을 사용하세요.\n",
    "\n"
   ]
  },
  {
   "cell_type": "code",
   "execution_count": 3,
   "id": "f5af1c68",
   "metadata": {},
   "outputs": [
    {
     "name": "stdout",
     "output_type": "stream",
     "text": [
      "정렬된 점수: [67, 75, 88, 88, 88, 92, 97, 100]\n"
     ]
    }
   ],
   "source": [
    "def counting_sort(arr):\n",
    "    count = [0] * 101  # 점수는 0~100\n",
    "    for num in arr:\n",
    "        count[num] += 1\n",
    "\n",
    "    sorted_arr = []\n",
    "    for i in range(101):\n",
    "        sorted_arr.extend([i] * count[i])\n",
    "    return sorted_arr\n",
    "\n",
    "scores = [88, 97, 75, 88, 100, 92, 67, 88]\n",
    "print(\"정렬된 점수:\", counting_sort(scores))\n"
   ]
  },
  {
   "cell_type": "markdown",
   "id": "57c3bc06",
   "metadata": {},
   "source": [
    "\n",
    "---\n",
    "\n",
    "## ⛏ 미션 3: 힙 정렬로 작업 우선순위 처리하기\n",
    "### 설명:\n",
    "우선순위 큐로 작업을 정렬하려 합니다. 작업에는 우선순위 점수가 주어집니다. 최소 힙을 이용하여 우선순위가 높은 순서대로 정렬하세요.\n",
    "\n"
   ]
  },
  {
   "cell_type": "code",
   "execution_count": 4,
   "id": "6ae7a58b",
   "metadata": {},
   "outputs": [
    {
     "name": "stdout",
     "output_type": "stream",
     "text": [
      "정렬된 작업 우선순위: [1, 2, 3, 4, 5, 6]\n"
     ]
    }
   ],
   "source": [
    "def heapify(arr, n, i):\n",
    "    smallest = i\n",
    "    left = 2 * i + 1\n",
    "    right = 2 * i + 2\n",
    "\n",
    "    if left < n and arr[left] < arr[smallest]:\n",
    "        smallest = left\n",
    "    if right < n and arr[right] < arr[smallest]:\n",
    "        smallest = right\n",
    "    if smallest != i:\n",
    "        arr[i], arr[smallest] = arr[smallest], arr[i]\n",
    "        heapify(arr, n, smallest)\n",
    "\n",
    "def heap_sort(arr):\n",
    "    n = len(arr)\n",
    "    for i in range(n // 2 - 1, -1, -1):\n",
    "        heapify(arr, n, i)\n",
    "    for i in range(n - 1, 0, -1):\n",
    "        arr[0], arr[i] = arr[i], arr[0]\n",
    "        heapify(arr, i, 0)\n",
    "    return arr[::-1]  # 최소 힙이므로 역순 정렬\n",
    "\n",
    "tasks = [3, 1, 6, 5, 2, 4]\n",
    "print(\"정렬된 작업 우선순위:\", heap_sort(tasks))\n"
   ]
  },
  {
   "cell_type": "markdown",
   "id": "487f5bf8",
   "metadata": {},
   "source": [
    "\n",
    "---\n",
    "\n",
    "## 🔍 미션 4: KMP 알고리즘으로 버그 코드 찾기\n",
    "### 설명:\n",
    "소스 코드 중 버그로 의심되는 특정 패턴을 빠르게 찾아야 합니다.\n",
    "\n"
   ]
  },
  {
   "cell_type": "code",
   "execution_count": 5,
   "id": "938043e0",
   "metadata": {},
   "outputs": [
    {
     "name": "stdout",
     "output_type": "stream",
     "text": [
      "패턴 위치: [0, 5, 10]\n"
     ]
    }
   ],
   "source": [
    "def compute_lps(pattern):\n",
    "    lps = [0] * len(pattern)\n",
    "    length = 0\n",
    "    i = 1\n",
    "    while i < len(pattern):\n",
    "        if pattern[i] == pattern[length]:\n",
    "            length += 1\n",
    "            lps[i] = length\n",
    "            i += 1\n",
    "        else:\n",
    "            if length != 0:\n",
    "                length = lps[length - 1]\n",
    "            else:\n",
    "                lps[i] = 0\n",
    "                i += 1\n",
    "    return lps\n",
    "\n",
    "def kmp_search(text, pattern):\n",
    "    lps = compute_lps(pattern)\n",
    "    result = []\n",
    "    i = j = 0\n",
    "    while i < len(text):\n",
    "        if text[i] == pattern[j]:\n",
    "            i += 1\n",
    "            j += 1\n",
    "        if j == len(pattern):\n",
    "            result.append(i - j)\n",
    "            j = lps[j - 1]\n",
    "        elif i < len(text) and text[i] != pattern[j]:\n",
    "            if j != 0:\n",
    "                j = lps[j - 1]\n",
    "            else:\n",
    "                i += 1\n",
    "    return result\n",
    "\n",
    "text = \"ababcababcababc\"\n",
    "pattern = \"ababc\"\n",
    "print(\"패턴 위치:\", kmp_search(text, pattern))\n"
   ]
  },
  {
   "cell_type": "markdown",
   "id": "1f03df6e",
   "metadata": {},
   "source": [
    "\n",
    "---\n",
    "\n",
    "## 🕵️ 미션 5: 연결 리스트로 버그 로그 추적하기\n",
    "### 설명:\n",
    "각 로그는 연결 리스트로 저장되어 있습니다. 이 리스트를 역순으로 출력하세요.\n",
    "\n"
   ]
  },
  {
   "cell_type": "code",
   "execution_count": 6,
   "id": "dc79d09d",
   "metadata": {},
   "outputs": [
    {
     "name": "stdout",
     "output_type": "stream",
     "text": [
      "Download Upload Login "
     ]
    }
   ],
   "source": [
    "class Node:\n",
    "    def __init__(self, data):\n",
    "        self.data = data\n",
    "        self.next = None\n",
    "\n",
    "def print_reverse(head):\n",
    "    stack = []\n",
    "    while head:\n",
    "        stack.append(head.data)\n",
    "        head = head.next\n",
    "    while stack:\n",
    "        print(stack.pop(), end=\" \")\n",
    "\n",
    "# 연결 리스트 생성\n",
    "head = Node(\"Login\")\n",
    "head.next = Node(\"Upload\")\n",
    "head.next.next = Node(\"Download\")\n",
    "# 출력: Download Upload Login\n",
    "print_reverse(head)\n"
   ]
  },
  {
   "cell_type": "markdown",
   "id": "26859958",
   "metadata": {},
   "source": [
    "\n",
    "---\n",
    "\n",
    "## 🎄 미션 6: 트리 구조로 폴더 탐색하기\n",
    "### 설명:\n",
    "디렉토리 구조를 트리 형태로 구현하고, 모든 노드를 전위 순회하세요.\n",
    "\n"
   ]
  },
  {
   "cell_type": "code",
   "execution_count": 7,
   "id": "16106bff",
   "metadata": {},
   "outputs": [
    {
     "name": "stdout",
     "output_type": "stream",
     "text": [
      "root\n",
      "home\n",
      "user\n",
      "var\n",
      "log\n"
     ]
    }
   ],
   "source": [
    "class TreeNode:\n",
    "    def __init__(self, name):\n",
    "        self.name = name\n",
    "        self.children = []\n",
    "\n",
    "def preorder(node):\n",
    "    if node is None:\n",
    "        return\n",
    "    print(node.name)\n",
    "    for child in node.children:\n",
    "        preorder(child)\n",
    "\n",
    "# 트리 구조 생성\n",
    "root = TreeNode(\"root\")\n",
    "child1 = TreeNode(\"home\")\n",
    "child2 = TreeNode(\"var\")\n",
    "child1.children.append(TreeNode(\"user\"))\n",
    "child2.children.append(TreeNode(\"log\"))\n",
    "root.children = [child1, child2]\n",
    "\n",
    "preorder(root)\n"
   ]
  },
  {
   "cell_type": "markdown",
   "id": "5c6026ac",
   "metadata": {},
   "source": [
    "\n",
    "---\n",
    "\n",
    "### ✨ 모든 문제를 해결하면 디지털 버그를 제거한 완전한 시스템 로그를 얻을 수 있습니다. 행운을 빕니다, 탐정님!\n"
   ]
  }
 ],
 "metadata": {
  "kernelspec": {
   "display_name": "base",
   "language": "python",
   "name": "python3"
  },
  "language_info": {
   "codemirror_mode": {
    "name": "ipython",
    "version": 3
   },
   "file_extension": ".py",
   "mimetype": "text/x-python",
   "name": "python",
   "nbconvert_exporter": "python",
   "pygments_lexer": "ipython3",
   "version": "3.12.7"
  }
 },
 "nbformat": 4,
 "nbformat_minor": 5
}

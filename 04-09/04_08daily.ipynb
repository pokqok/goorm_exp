{
 "cells": [
  {
   "cell_type": "markdown",
   "id": "8b50a0e7",
   "metadata": {},
   "source": [
    "# 🔍 배열 기반 검색 알고리즘 문제 세트\n",
    "본 노트북은 인공지능을 위한 알고리즘 및 자료구조 수업의 **기초 검색 알고리즘 실습**을 위해 작성되었습니다.\n",
    "다음 문제들을 직접 해결해보며 선형 검색, 이진 검색, 해시 검색의 원리를 익혀보세요."
   ]
  },
  {
   "cell_type": "markdown",
   "id": "f39a4786",
   "metadata": {},
   "source": [
    "## ✅ 문제 1. 선형 검색 구현\n",
    "**설명**: 주어진 정수 배열에서 특정 값을 선형 검색(linear search) 방식으로 찾는 함수를 작성하세요.  \n",
    "- 입력: 정수 배열 `arr`과 정수 `target`  \n",
    "- 출력: `target`이 존재하면 인덱스, 존재하지 않으면 `-1` 반환\n",
    "```python\n",
    "def linear_search(arr: list[int], target: int) -> int:\n",
    "    pass  # 여기에 구현\n",
    "```\n",
    "**예시**\n",
    "```python\n",
    ">>> linear_search([3, 5, 2, 9], 5)\n",
    "1\n",
    ">>> linear_search([3, 5, 2, 9], 7)\n",
    "-1\n",
    "```"
   ]
  },
  {
   "cell_type": "code",
   "execution_count": 7,
   "id": "97e14ec4",
   "metadata": {},
   "outputs": [],
   "source": [
    "def linear_search(arr: list[int], target: int) -> int:\n",
    "    for i in range(len(arr)):\n",
    "        if arr[i] == target:\n",
    "            return i\n",
    "    return -1"
   ]
  },
  {
   "cell_type": "markdown",
   "id": "8c53d145",
   "metadata": {},
   "source": [
    "## ✅ 문제 2. 이진 검색 구현\n",
    "**설명**: 정렬된 배열에서 이진 검색(binary search)을 구현하세요.  \n",
    "- 입력: 오름차순 정렬된 정수 배열 `arr`과 정수 `target`\n",
    "- 출력: `target`의 인덱스, 없으면 `-1`\n",
    "```python\n",
    "def binary_search(arr: list[int], target: int) -> int:\n",
    "    pass  # 여기에 구현\n",
    "```\n",
    "**예시**\n",
    "```python\n",
    ">>> binary_search([1, 3, 5, 7, 9], 7)\n",
    "3\n",
    ">>> binary_search([1, 3, 5, 7, 9], 4)\n",
    "-1\n",
    "```"
   ]
  },
  {
   "cell_type": "code",
   "execution_count": 8,
   "id": "9ca8d362",
   "metadata": {},
   "outputs": [],
   "source": [
    "def binary_search(arr: list[int], target: int) -> int:\n",
    "    left = 0\n",
    "    right = len(arr) - 1\n",
    "    \n",
    "    while left <= right:\n",
    "        mid = (left + right) // 2\n",
    "        \n",
    "        if arr[mid] == target:\n",
    "            return mid\n",
    "        elif arr[mid] < target:\n",
    "            left = mid + 1\n",
    "        else:\n",
    "            right = mid - 1\n",
    "            \n",
    "    return -1"
   ]
  },
  {
   "cell_type": "markdown",
   "id": "43dcb28a",
   "metadata": {},
   "source": [
    "## ✅ 문제 3. 체이닝 해시맵 구현 (기초 버전)\n",
    "**설명**: 해시 충돌을 체이닝(chaining) 방식으로 해결하는 해시맵을 클래스 형태로 구현하세요.\n",
    "- 제공 기능:\n",
    "  - `put(key, value)`: 키-값 삽입\n",
    "  - `get(key)`: 키로 값 검색\n",
    "  - `remove(key)`: 키 삭제\n",
    "```python\n",
    "class ChainedHashMap:\n",
    "    def __init__(self, size: int = 10):\n",
    "        pass\n",
    "    def put(self, key: str, value: int) -> None:\n",
    "        pass\n",
    "    def get(self, key: str) -> int | None:\n",
    "        pass\n",
    "    def remove(self, key: str) -> None:\n",
    "        pass\n",
    "```"
   ]
  },
  {
   "cell_type": "code",
   "execution_count": null,
   "id": "b2edf217",
   "metadata": {},
   "outputs": [],
   "source": [
    "class ChainedHashMap:\n",
    "    def __init__(self, size: int = 10):\n",
    "        self.size = size\n",
    "        self.table = [[] for _ in range(size)]  # 각 버킷은 리스트(체인)\n",
    "    \n",
    "    def _hash(self, key: str) -> int:\n",
    "        # 간단한 해시 함수\n",
    "        return sum(ord(c) for c in key) % self.size\n",
    "    \n",
    "    def put(self, key: str, value: int) -> None:\n",
    "        index = self._hash(key)\n",
    "        # 이미 키가 존재하는지 확인\n",
    "        for item in self.table[index]:\n",
    "            if item[0] == key:\n",
    "                item[1] = value  # 값 업데이트\n",
    "                return\n",
    "        # 새로운 키-값 쌍 추가\n",
    "        self.table[index].append([key, value])\n",
    "    \n",
    "    def get(self, key: str) -> int | None:\n",
    "        index = self._hash(key)\n",
    "        # 체인에서 키 검색\n",
    "        for item in self.table[index]:\n",
    "            if item[0] == key:\n",
    "                return item[1]\n",
    "        return None\n",
    "    \n",
    "    def remove(self, key: str) -> None:\n",
    "        index = self._hash(key)\n",
    "        # 체인에서 키 검색 후 삭제\n",
    "        for i, item in enumerate(self.table[index]):\n",
    "            if item[0] == key:\n",
    "                self.table[index].pop(i)\n",
    "                return"
   ]
  },
  {
   "cell_type": "markdown",
   "id": "82a7ac26",
   "metadata": {},
   "source": [
    "## ✅ 문제 4. 해시 충돌 시나리오 실습\n",
    "**설명**: 같은 해시값이 나오도록 `size=1`인 해시맵을 만들고, 여러 key를 넣고 체이닝 충돌 상황을 관찰하세요.\n",
    "```python\n",
    "# 직접 put 여러 번 실행 후 내부 구조를 출력해보세요.\n",
    "```"
   ]
  },
  {
   "cell_type": "code",
   "execution_count": 10,
   "id": "812d5414",
   "metadata": {},
   "outputs": [
    {
     "name": "stdout",
     "output_type": "stream",
     "text": [
      "해시맵의 내부 구조:\n",
      "Bucket 0: [['apple', 5], ['banana', 8], ['orange', 3], ['grape', 7]]\n"
     ]
    }
   ],
   "source": [
    "class ChainedHashMap:\n",
    "    def __init__(self, size: int = 10):\n",
    "        self.size = size\n",
    "        self.table = [[] for _ in range(size)]\n",
    "    \n",
    "    def _hash(self, key: str) -> int:\n",
    "        return sum(ord(c) for c in key) % self.size\n",
    "    \n",
    "    def put(self, key: str, value: int) -> None:\n",
    "        index = self._hash(key)\n",
    "        for item in self.table[index]:\n",
    "            if item[0] == key:\n",
    "                item[1] = value\n",
    "                return\n",
    "        self.table[index].append([key, value])\n",
    "    \n",
    "    # 내부 구조를 보기 위한 메서드 추가\n",
    "    def display(self):\n",
    "        for i in range(self.size):\n",
    "            print(f\"Bucket {i}: {self.table[i]}\")\n",
    "\n",
    "# 테스트 코드\n",
    "hash_map = ChainedHashMap(size=1)  # 크기가 1인 해시맵 생성\n",
    "\n",
    "# 여러 키-값 쌍 삽입\n",
    "hash_map.put(\"apple\", 5)\n",
    "hash_map.put(\"banana\", 8)\n",
    "hash_map.put(\"orange\", 3)\n",
    "hash_map.put(\"grape\", 7)\n",
    "\n",
    "# 내부 구조 출력\n",
    "print(\"해시맵의 내부 구조:\")\n",
    "hash_map.display()"
   ]
  },
  {
   "cell_type": "markdown",
   "id": "89e79398",
   "metadata": {},
   "source": [
    "## ✅ 문제 5. 검색 알고리즘 비교 실험\n",
    "**설명**: 10만 개의 랜덤 숫자 배열을 만들어 선형 검색과 이진 검색의 속도 차이를 실험하세요.  \n",
    "- `random.randint(0, 1_000_000)`으로 배열 생성\n",
    "- 타이밍 측정에 `time` 모듈 사용\n",
    "```python\n",
    "# 실험 결과를 print로 비교해보세요.\n",
    "```"
   ]
  },
  {
   "cell_type": "code",
   "execution_count": 12,
   "id": "0b061dd0",
   "metadata": {},
   "outputs": [
    {
     "name": "stdout",
     "output_type": "stream",
     "text": [
      "배열 크기: 100,000\n",
      "찾은 값: 589837\n",
      "선형 검색 평균 시간: 0.00589678초\n",
      "이진 검색 평균 시간: 0.00001873초\n",
      "속도 차이: 314.8배\n"
     ]
    }
   ],
   "source": [
    "import random\n",
    "import time\n",
    "\n",
    "def linear_search(arr: list[int], target: int) -> int:\n",
    "    for i in range(len(arr)):\n",
    "        if arr[i] == target:\n",
    "            return i\n",
    "    return -1\n",
    "\n",
    "def binary_search(arr: list[int], target: int) -> int:\n",
    "    left = 0\n",
    "    right = len(arr) - 1\n",
    "    while left <= right:\n",
    "        mid = (left + right) // 2\n",
    "        if arr[mid] == target:\n",
    "            return mid\n",
    "        elif arr[mid] < target:\n",
    "            left = mid + 1\n",
    "        else:\n",
    "            right = mid - 1\n",
    "    return -1\n",
    "\n",
    "size = 100_000\n",
    "numbers = [random.randint(0, 1_000_000) for _ in range(size)]\n",
    "sorted_numbers = sorted(numbers)\n",
    "\n",
    "target = numbers[random.randint(0, size-1)]\n",
    "\n",
    "# 여러 번 반복 실행\n",
    "iterations = 1000\n",
    "linear_total_time = 0\n",
    "binary_total_time = 0\n",
    "\n",
    "for _ in range(iterations):\n",
    "    # 선형 검색 시간 측정\n",
    "    start_time = time.time()\n",
    "    linear_result = linear_search(numbers, target)\n",
    "    linear_total_time += time.time() - start_time\n",
    "    \n",
    "    # 이진 검색 시간 측정\n",
    "    start_time = time.time()\n",
    "    binary_result = binary_search(sorted_numbers, target)\n",
    "    binary_total_time += time.time() - start_time\n",
    "\n",
    "# 평균 시간 계산\n",
    "linear_avg_time = linear_total_time / iterations\n",
    "binary_avg_time = binary_total_time / iterations\n",
    "\n",
    "print(f\"배열 크기: {size:,}\")\n",
    "print(f\"찾은 값: {target}\")\n",
    "print(f\"선형 검색 평균 시간: {linear_avg_time:.8f}초\")\n",
    "print(f\"이진 검색 평균 시간: {binary_avg_time:.8f}초\")\n",
    "print(f\"속도 차이: {linear_avg_time/binary_avg_time:.1f}배\")"
   ]
  },
  {
   "cell_type": "markdown",
   "id": "86bca655",
   "metadata": {},
   "source": [
    "## ✅ 문제 6. 체인드 해시의 시간복잡도 분석\n",
    "**설명**: 아래 각 연산에 대해 평균적인 경우와 최악의 경우의 시간복잡도 Big-O를 분석해보세요.\n",
    "1. `put(key, value)` – 키-값 추가\n",
    "2. `get(key)` – 키를 이용한 검색\n",
    "3. `remove(key)` – 키에 해당하는 값 삭제\n",
    "\n",
    "**힌트**: 해시 테이블의 크기와 충돌 수에 따라 성능이 어떻게 달라질까요?\n",
    "\n",
    "**답안 예시**:\n",
    "```python\n",
    "# 평균 시간복잡도:\n",
    "# put: O(1), get: O(1), remove: O(1)\n",
    "\n",
    "# 최악 시간복잡도:\n",
    "# put: O(n), get: O(n), remove: O(n)\n",
    "```\n",
    "※ `n`은 테이블 전체에 저장된 키의 수입니다."
   ]
  },
  {
   "cell_type": "code",
   "execution_count": null,
   "id": "cd93f088",
   "metadata": {},
   "outputs": [],
   "source": [
    "\"\"\"\n",
    "평균 시간복잡도:\n",
    "put: O(1)   - 해시 함수 계산과 체인 끝에 추가는 상수 시간\n",
    "get: O(1)   - 해시 함수 계산과 짧은 체인 검색은 상수 시간\n",
    "remove: O(1) - 해시 함수 계산과 짧은 체인에서 삭제는 상수 시간\n",
    "\n",
    "최악 시간복잡도:\n",
    "put: O(n)   - 모든 키가 같은 버킷에 있을 때 체인 전체 검색 필요\n",
    "get: O(n)   - 모든 키가 같은 버킷에 있을 때 체인 전체 검색 필요\n",
    "remove: O(n) - 모든 키가 같은 버킷에 있을 때 체인 전체 검색 필요\n",
    "\"\"\""
   ]
  },
  {
   "cell_type": "markdown",
   "id": "221a997b",
   "metadata": {},
   "source": [
    "---\n",
    "### 🎯 보너스 과제\n",
    "1. 해시맵에 학생 이름(key)과 점수(value)를 저장하고, 이름으로 검색 및 삭제 기능을 구현하시오.\n",
    "2. 이진 검색은 정렬된 배열에서만 동작한다. 정렬되지 않은 배열에서 이진 검색을 사용할 경우 어떤 문제가 발생하는지 예를 들어 설명하시오."
   ]
  },
  {
   "cell_type": "code",
   "execution_count": 13,
   "id": "75676bae",
   "metadata": {},
   "outputs": [
    {
     "name": "stdout",
     "output_type": "stream",
     "text": [
      "87\n",
      "None\n"
     ]
    }
   ],
   "source": [
    "class StudentScores:\n",
    "    def __init__(self, size: int = 10):\n",
    "        self.size = size\n",
    "        self.table = [[] for _ in range(size)]\n",
    "    \n",
    "    def _hash(self, name: str) -> int:\n",
    "        return sum(ord(c) for c in name) % self.size\n",
    "    \n",
    "    def add_score(self, name: str, score: int) -> None:\n",
    "        index = self._hash(name)\n",
    "        for item in self.table[index]:\n",
    "            if item[0] == name:\n",
    "                item[1] = score  # 기존 점수 업데이트\n",
    "                return\n",
    "        self.table[index].append([name, score])\n",
    "    \n",
    "    def get_score(self, name: str) -> int | None:\n",
    "        index = self._hash(name)\n",
    "        for item in self.table[index]:\n",
    "            if item[0] == name:\n",
    "                return item[1]\n",
    "        return None\n",
    "    \n",
    "    def remove_student(self, name: str) -> None:\n",
    "        index = self._hash(name)\n",
    "        for i, item in enumerate(self.table[index]):\n",
    "            if item[0] == name:\n",
    "                self.table[index].pop(i)\n",
    "                return\n",
    "\n",
    "scores = StudentScores()\n",
    "scores.add_score(\"Alice\", 95)\n",
    "scores.add_score(\"Bob\", 87)\n",
    "scores.add_score(\"Charlie\", 92)\n",
    "\n",
    "print(scores.get_score(\"Bob\"))      \n",
    "scores.remove_student(\"Bob\")\n",
    "print(scores.get_score(\"Bob\"))    "
   ]
  },
  {
   "cell_type": "markdown",
   "id": "56fed0fa",
   "metadata": {},
   "source": [
    "정렬되지 않은 배열 [7, 2, 9, 1, 5]에서 5를 찾기\n",
    "\n",
    "중간값 9 확인 -> 5가 더 작으므로 왼쪽 탐색\n",
    "왼쪽 부분 [7, 2]의 중간값 7 확인 -> 5가 더 작으므로 왼쪽 탐색\n",
    "왼쪽에는 2만 남음 → 5를 찾지 못함"
   ]
  }
 ],
 "metadata": {
  "kernelspec": {
   "display_name": "base",
   "language": "python",
   "name": "python3"
  },
  "language_info": {
   "codemirror_mode": {
    "name": "ipython",
    "version": 3
   },
   "file_extension": ".py",
   "mimetype": "text/x-python",
   "name": "python",
   "nbconvert_exporter": "python",
   "pygments_lexer": "ipython3",
   "version": "3.12.7"
  }
 },
 "nbformat": 4,
 "nbformat_minor": 5
}

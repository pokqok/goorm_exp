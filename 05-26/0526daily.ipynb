{
  "cells": [
    {
      "cell_type": "markdown",
      "id": "4a7dd655",
      "metadata": {
        "id": "4a7dd655"
      },
      "source": [
        "# 📝 미션 문제지: 한국어 BERT 감성 분류\n",
        "\n",
        "## 📜 배경 스토리\n",
        "당신은 **“코딩 요정 카카라”**가 이끄는 스타트업 **“마음 번역소”**의 신입 NLP 엔지니어입니다.  \n",
        "영화 리뷰 속 팬들의 감정을 실시간으로 읽어 🍿 **“팝콘 지수”**를 예측하는 첫 프로젝트에 착수했습니다.\n",
        "\n",
        "### 목표\n",
        "1. **한국어 BERT**를 파인튜닝하여 리뷰의 긍·부정을 분류한다.  \n",
        "2. 사용자가 한글 문장을 입력하면 즉시 감정을 예측하는 **`predict_sentiment`** 함수를 완성한다.  \n",
        "\n",
        "모든 과제는 **PyTorch & Hugging Face Transformers** 생태계를 기반으로 진행합니다.\n"
      ]
    },
    {
      "cell_type": "markdown",
      "id": "8625b981",
      "metadata": {
        "id": "8625b981"
      },
      "source": [
        "## 🛠️ 과제 단계\n",
        "| 단계 | 내용 | 완료 조건 |\n",
        "|-----|------|-----------|\n",
        "|1|환경 설정, 데이터셋(NSMC) 로드|셀 실행 결과 데이터셋 정보 출력|\n",
        "|2|토큰화 및 전처리 함수 구현|`encoded` 데이터셋 생성|\n",
        "|3|BERT 분류 모델 불러오기 & `Trainer` 설정|`Trainer` 인스턴스 생성|\n",
        "|4|모델 학습|학습 로그 출력 & 최종 에폭 완료|\n",
        "|5|검증·테스트 평가|`accuracy` 0.75 이상 달성|\n",
        "|6|실시간 예측 함수 작성|임의 문장 2개 예측 결과 출력|\n",
        "\n",
        "> **힌트:** 각 코드 블록의 `### TODO` 부분을 채우면 됩니다.  \n",
        "> 전체 코드의 **~50%**는 이미 제공되었습니다.\n"
      ]
    },
    {
      "cell_type": "markdown",
      "id": "c6d05771",
      "metadata": {
        "id": "c6d05771"
      },
      "source": [
        "### 1️⃣ 환경 설정 및 데이터 로드"
      ]
    },
    {
      "cell_type": "code",
      "execution_count": 1,
      "id": "4bc5d27b",
      "metadata": {
        "colab": {
          "base_uri": "https://localhost:8080/"
        },
        "id": "4bc5d27b",
        "outputId": "17b982e2-2bb8-4d93-fb06-12d4895543dc"
      },
      "outputs": [
        {
          "output_type": "stream",
          "name": "stderr",
          "text": [
            "/usr/local/lib/python3.11/dist-packages/huggingface_hub/utils/_auth.py:94: UserWarning: \n",
            "The secret `HF_TOKEN` does not exist in your Colab secrets.\n",
            "To authenticate with the Hugging Face Hub, create a token in your settings tab (https://huggingface.co/settings/tokens), set it as secret in your Google Colab and restart your session.\n",
            "You will be able to reuse this secret in all of your notebooks.\n",
            "Please note that authentication is recommended but still optional to access public models or datasets.\n",
            "  warnings.warn(\n"
          ]
        },
        {
          "output_type": "stream",
          "name": "stdout",
          "text": [
            "DatasetDict({\n",
            "    train: Dataset({\n",
            "        features: ['id', 'document', 'label'],\n",
            "        num_rows: 150000\n",
            "    })\n",
            "    test: Dataset({\n",
            "        features: ['id', 'document', 'label'],\n",
            "        num_rows: 50000\n",
            "    })\n",
            "})\n"
          ]
        }
      ],
      "source": [
        "# 🚨 최초 1회만 설치 (주석 해제 후 실행)\n",
        "#!pip install -q transformers datasets accelerate tqdm\n",
        "#!pip install -U datasets huggingface_hub fsspec\n",
        "#!pip install evaluate\n",
        "#!pip install -U transformers datasets\n",
        "\n",
        "\n",
        "from datasets import load_dataset\n",
        "\n",
        "# 재현성을 위해 시드 고정\n",
        "import random, numpy as np, torch\n",
        "def set_seed(seed=42):\n",
        "    random.seed(seed); np.random.seed(seed); torch.manual_seed(seed)\n",
        "    if torch.cuda.is_available(): torch.cuda.manual_seed_all(seed)\n",
        "set_seed()\n",
        "\n",
        "# NSMC (Naver Sentiment Movie Corpus) 로드\n",
        "dataset = load_dataset(\"nsmc\")\n",
        "print(dataset)\n"
      ]
    },
    {
      "cell_type": "markdown",
      "id": "915cbc59",
      "metadata": {
        "id": "915cbc59"
      },
      "source": [
        "### 2️⃣ 토큰화 & 전처리"
      ]
    },
    {
      "cell_type": "code",
      "execution_count": 2,
      "id": "37efe741",
      "metadata": {
        "colab": {
          "base_uri": "https://localhost:8080/"
        },
        "id": "37efe741",
        "outputId": "90923f74-3cbc-4a48-e628-8af01e6b0736"
      },
      "outputs": [
        {
          "output_type": "stream",
          "name": "stdout",
          "text": [
            "{'id': '9746412', 'document': '이건뭐 영화도아니다 재미도없는대 비싸기만하고 짜증나게 재미없네', 'labels': 0, 'input_ids': [2, 5370, 3005, 3771, 2119, 2227, 3606, 4697, 2119, 2899, 2259, 2104, 8092, 2015, 2154, 19521, 9801, 2075, 2318, 19113, 2203, 3, 0, 0, 0, 0, 0, 0, 0, 0, 0, 0, 0, 0, 0, 0, 0, 0, 0, 0, 0, 0, 0, 0, 0, 0, 0, 0, 0, 0, 0, 0, 0, 0, 0, 0, 0, 0, 0, 0, 0, 0, 0, 0, 0, 0, 0, 0, 0, 0, 0, 0, 0, 0, 0, 0, 0, 0, 0, 0, 0, 0, 0, 0, 0, 0, 0, 0, 0, 0, 0, 0, 0, 0, 0, 0, 0, 0, 0, 0, 0, 0, 0, 0, 0, 0, 0, 0, 0, 0, 0, 0, 0, 0, 0, 0, 0, 0, 0, 0, 0, 0, 0, 0, 0, 0, 0, 0, 0, 0, 0, 0, 0, 0, 0, 0, 0, 0, 0, 0, 0, 0, 0, 0, 0, 0, 0, 0, 0, 0, 0, 0, 0, 0, 0, 0, 0, 0, 0, 0, 0, 0, 0, 0, 0, 0, 0, 0, 0, 0, 0, 0, 0, 0, 0, 0, 0, 0, 0, 0, 0, 0, 0, 0, 0, 0, 0, 0, 0, 0, 0, 0, 0, 0, 0, 0, 0, 0, 0, 0, 0, 0, 0, 0, 0, 0, 0, 0, 0, 0, 0, 0, 0, 0, 0, 0, 0, 0, 0, 0, 0, 0, 0, 0, 0, 0, 0, 0, 0, 0, 0, 0, 0, 0, 0, 0, 0, 0, 0, 0, 0, 0, 0, 0, 0, 0, 0, 0, 0, 0, 0, 0, 0, 0, 0, 0, 0, 0, 0, 0, 0, 0, 0, 0, 0, 0, 0, 0, 0, 0, 0, 0, 0, 0, 0, 0, 0, 0, 0, 0, 0, 0, 0, 0, 0, 0, 0, 0, 0, 0, 0, 0, 0, 0, 0, 0, 0, 0, 0, 0, 0, 0, 0, 0, 0, 0, 0, 0, 0, 0, 0, 0, 0, 0, 0, 0, 0, 0, 0, 0, 0, 0, 0, 0, 0, 0, 0, 0, 0, 0, 0, 0, 0, 0, 0, 0, 0, 0, 0, 0, 0, 0, 0, 0, 0, 0, 0, 0, 0, 0, 0, 0, 0, 0, 0, 0, 0, 0, 0, 0, 0, 0, 0, 0, 0, 0, 0, 0, 0, 0, 0, 0, 0, 0, 0, 0, 0, 0, 0, 0, 0, 0, 0, 0, 0, 0, 0, 0, 0, 0, 0, 0, 0, 0, 0, 0, 0, 0, 0, 0, 0, 0, 0, 0, 0, 0, 0, 0, 0, 0, 0, 0, 0, 0, 0, 0, 0, 0, 0, 0, 0, 0, 0, 0, 0, 0, 0, 0, 0, 0, 0, 0, 0, 0, 0, 0, 0, 0, 0, 0, 0, 0, 0, 0, 0, 0, 0, 0, 0, 0, 0, 0, 0, 0, 0, 0, 0, 0, 0, 0, 0, 0, 0, 0, 0, 0, 0, 0, 0, 0, 0, 0, 0, 0, 0, 0, 0, 0, 0, 0, 0, 0, 0, 0, 0, 0, 0, 0, 0, 0, 0, 0, 0, 0, 0, 0, 0, 0, 0, 0, 0, 0, 0, 0, 0, 0, 0, 0, 0, 0, 0, 0], 'token_type_ids': [0, 0, 0, 0, 0, 0, 0, 0, 0, 0, 0, 0, 0, 0, 0, 0, 0, 0, 0, 0, 0, 0, 0, 0, 0, 0, 0, 0, 0, 0, 0, 0, 0, 0, 0, 0, 0, 0, 0, 0, 0, 0, 0, 0, 0, 0, 0, 0, 0, 0, 0, 0, 0, 0, 0, 0, 0, 0, 0, 0, 0, 0, 0, 0, 0, 0, 0, 0, 0, 0, 0, 0, 0, 0, 0, 0, 0, 0, 0, 0, 0, 0, 0, 0, 0, 0, 0, 0, 0, 0, 0, 0, 0, 0, 0, 0, 0, 0, 0, 0, 0, 0, 0, 0, 0, 0, 0, 0, 0, 0, 0, 0, 0, 0, 0, 0, 0, 0, 0, 0, 0, 0, 0, 0, 0, 0, 0, 0, 0, 0, 0, 0, 0, 0, 0, 0, 0, 0, 0, 0, 0, 0, 0, 0, 0, 0, 0, 0, 0, 0, 0, 0, 0, 0, 0, 0, 0, 0, 0, 0, 0, 0, 0, 0, 0, 0, 0, 0, 0, 0, 0, 0, 0, 0, 0, 0, 0, 0, 0, 0, 0, 0, 0, 0, 0, 0, 0, 0, 0, 0, 0, 0, 0, 0, 0, 0, 0, 0, 0, 0, 0, 0, 0, 0, 0, 0, 0, 0, 0, 0, 0, 0, 0, 0, 0, 0, 0, 0, 0, 0, 0, 0, 0, 0, 0, 0, 0, 0, 0, 0, 0, 0, 0, 0, 0, 0, 0, 0, 0, 0, 0, 0, 0, 0, 0, 0, 0, 0, 0, 0, 0, 0, 0, 0, 0, 0, 0, 0, 0, 0, 0, 0, 0, 0, 0, 0, 0, 0, 0, 0, 0, 0, 0, 0, 0, 0, 0, 0, 0, 0, 0, 0, 0, 0, 0, 0, 0, 0, 0, 0, 0, 0, 0, 0, 0, 0, 0, 0, 0, 0, 0, 0, 0, 0, 0, 0, 0, 0, 0, 0, 0, 0, 0, 0, 0, 0, 0, 0, 0, 0, 0, 0, 0, 0, 0, 0, 0, 0, 0, 0, 0, 0, 0, 0, 0, 0, 0, 0, 0, 0, 0, 0, 0, 0, 0, 0, 0, 0, 0, 0, 0, 0, 0, 0, 0, 0, 0, 0, 0, 0, 0, 0, 0, 0, 0, 0, 0, 0, 0, 0, 0, 0, 0, 0, 0, 0, 0, 0, 0, 0, 0, 0, 0, 0, 0, 0, 0, 0, 0, 0, 0, 0, 0, 0, 0, 0, 0, 0, 0, 0, 0, 0, 0, 0, 0, 0, 0, 0, 0, 0, 0, 0, 0, 0, 0, 0, 0, 0, 0, 0, 0, 0, 0, 0, 0, 0, 0, 0, 0, 0, 0, 0, 0, 0, 0, 0, 0, 0, 0, 0, 0, 0, 0, 0, 0, 0, 0, 0, 0, 0, 0, 0, 0, 0, 0, 0, 0, 0, 0, 0, 0, 0, 0, 0, 0, 0, 0, 0, 0, 0, 0, 0, 0, 0, 0, 0, 0, 0, 0, 0, 0, 0, 0, 0, 0, 0, 0, 0, 0, 0, 0, 0, 0, 0, 0, 0, 0, 0, 0, 0, 0, 0, 0, 0, 0, 0, 0, 0, 0, 0, 0, 0], 'attention_mask': [1, 1, 1, 1, 1, 1, 1, 1, 1, 1, 1, 1, 1, 1, 1, 1, 1, 1, 1, 1, 1, 1, 0, 0, 0, 0, 0, 0, 0, 0, 0, 0, 0, 0, 0, 0, 0, 0, 0, 0, 0, 0, 0, 0, 0, 0, 0, 0, 0, 0, 0, 0, 0, 0, 0, 0, 0, 0, 0, 0, 0, 0, 0, 0, 0, 0, 0, 0, 0, 0, 0, 0, 0, 0, 0, 0, 0, 0, 0, 0, 0, 0, 0, 0, 0, 0, 0, 0, 0, 0, 0, 0, 0, 0, 0, 0, 0, 0, 0, 0, 0, 0, 0, 0, 0, 0, 0, 0, 0, 0, 0, 0, 0, 0, 0, 0, 0, 0, 0, 0, 0, 0, 0, 0, 0, 0, 0, 0, 0, 0, 0, 0, 0, 0, 0, 0, 0, 0, 0, 0, 0, 0, 0, 0, 0, 0, 0, 0, 0, 0, 0, 0, 0, 0, 0, 0, 0, 0, 0, 0, 0, 0, 0, 0, 0, 0, 0, 0, 0, 0, 0, 0, 0, 0, 0, 0, 0, 0, 0, 0, 0, 0, 0, 0, 0, 0, 0, 0, 0, 0, 0, 0, 0, 0, 0, 0, 0, 0, 0, 0, 0, 0, 0, 0, 0, 0, 0, 0, 0, 0, 0, 0, 0, 0, 0, 0, 0, 0, 0, 0, 0, 0, 0, 0, 0, 0, 0, 0, 0, 0, 0, 0, 0, 0, 0, 0, 0, 0, 0, 0, 0, 0, 0, 0, 0, 0, 0, 0, 0, 0, 0, 0, 0, 0, 0, 0, 0, 0, 0, 0, 0, 0, 0, 0, 0, 0, 0, 0, 0, 0, 0, 0, 0, 0, 0, 0, 0, 0, 0, 0, 0, 0, 0, 0, 0, 0, 0, 0, 0, 0, 0, 0, 0, 0, 0, 0, 0, 0, 0, 0, 0, 0, 0, 0, 0, 0, 0, 0, 0, 0, 0, 0, 0, 0, 0, 0, 0, 0, 0, 0, 0, 0, 0, 0, 0, 0, 0, 0, 0, 0, 0, 0, 0, 0, 0, 0, 0, 0, 0, 0, 0, 0, 0, 0, 0, 0, 0, 0, 0, 0, 0, 0, 0, 0, 0, 0, 0, 0, 0, 0, 0, 0, 0, 0, 0, 0, 0, 0, 0, 0, 0, 0, 0, 0, 0, 0, 0, 0, 0, 0, 0, 0, 0, 0, 0, 0, 0, 0, 0, 0, 0, 0, 0, 0, 0, 0, 0, 0, 0, 0, 0, 0, 0, 0, 0, 0, 0, 0, 0, 0, 0, 0, 0, 0, 0, 0, 0, 0, 0, 0, 0, 0, 0, 0, 0, 0, 0, 0, 0, 0, 0, 0, 0, 0, 0, 0, 0, 0, 0, 0, 0, 0, 0, 0, 0, 0, 0, 0, 0, 0, 0, 0, 0, 0, 0, 0, 0, 0, 0, 0, 0, 0, 0, 0, 0, 0, 0, 0, 0, 0, 0, 0, 0, 0, 0, 0, 0, 0, 0, 0, 0, 0, 0, 0, 0, 0, 0, 0, 0, 0, 0, 0, 0, 0, 0, 0, 0, 0, 0, 0, 0, 0, 0, 0, 0, 0, 0, 0, 0, 0, 0, 0]}\n"
          ]
        }
      ],
      "source": [
        "from transformers import AutoTokenizer\n",
        "\n",
        "checkpoint = \"klue/bert-base\"\n",
        "tokenizer = AutoTokenizer.from_pretrained(checkpoint)\n",
        "\n",
        "def tokenize_fn(batch):\n",
        "    \"\"\"문장-> 토큰 ID 변환\"\"\"\n",
        "    return tokenizer(\n",
        "        batch[\"document\"],\n",
        "        padding=\"max_length\",\n",
        "        truncation=True\n",
        "    )\n",
        "\n",
        "\n",
        "# map 함수 적용 (batched=True)\n",
        "encoded = dataset.map(tokenize_fn, batched=True)\n",
        "encoded = encoded.rename_column(\"label\", \"labels\")\n",
        "\n",
        "# 작은 샘플 세트(학습 5k/검증 1k/테스트 1k) 선택\n",
        "small_train = encoded[\"train\"].shuffle(seed=0).select(range(5000))\n",
        "small_valid = encoded[\"train\"].shuffle(seed=1).select(range(1000))\n",
        "small_test  = encoded[\"test\"].shuffle(seed=2).select(range(1000))\n",
        "\n",
        "print(small_train[0])\n"
      ]
    },
    {
      "cell_type": "markdown",
      "source": [
        "### 3️⃣ 모델 불러오기 & Trainer 설정"
      ],
      "metadata": {
        "id": "AiIak2y9U5jK"
      },
      "id": "AiIak2y9U5jK"
    },
    {
      "cell_type": "code",
      "execution_count": 8,
      "id": "12568b58",
      "metadata": {
        "colab": {
          "base_uri": "https://localhost:8080/"
        },
        "id": "12568b58",
        "outputId": "fb1291cd-cde0-49dd-b431-bda8e70a29f5"
      },
      "outputs": [
        {
          "output_type": "stream",
          "name": "stderr",
          "text": [
            "Some weights of BertForSequenceClassification were not initialized from the model checkpoint at klue/bert-base and are newly initialized: ['classifier.bias', 'classifier.weight']\n",
            "You should probably TRAIN this model on a down-stream task to be able to use it for predictions and inference.\n"
          ]
        }
      ],
      "source": [
        "from transformers import AutoModelForSequenceClassification, TrainingArguments, Trainer\n",
        "import evaluate\n",
        "\n",
        "# BERT 분류 모델\n",
        "model = AutoModelForSequenceClassification.from_pretrained(checkpoint, num_labels=2)\n",
        "\n",
        "# TrainingArguments (일부 파라미터는 채워져 있음)\n",
        "args = TrainingArguments(\n",
        "    output_dir=\"./bert-nsmc\",\n",
        "    learning_rate=2e-5,\n",
        "    per_device_train_batch_size=16,\n",
        "    per_device_eval_batch_size=32,\n",
        "    num_train_epochs=3,\n",
        "    eval_strategy=\"epoch\",\n",
        "    logging_strategy=\"epoch\",\n",
        "    save_strategy=\"epoch\",\n",
        "    load_best_model_at_end=True,\n",
        "    metric_for_best_model=\"accuracy\",\n",
        "    seed=42,\n",
        ")\n",
        "\n",
        "\n",
        "args = TrainingArguments(\n",
        "    save_strategy=\"epoch\",\n",
        "    learning_rate=2e-5,\n",
        "    num_train_epochs=3,\n",
        "    weight_decay=0.01,\n",
        ")\n",
        "\n",
        "\n",
        "# 정확도 metric\n",
        "metric = evaluate.load(\"accuracy\")\n",
        "def compute_metrics(eval_pred):\n",
        "    logits, labels = eval_pred\n",
        "    preds = np.argmax(logits, axis=-1)\n",
        "    return metric.compute(predictions=preds, references=labels)\n",
        "\n",
        "# TODO: Trainer 인스턴스 생성\n",
        "trainer = Trainer(\n",
        "    model=model,\n",
        "    args=args,\n",
        "    train_dataset=small_train,\n",
        "    eval_dataset=small_valid,\n",
        "    compute_metrics=compute_metrics,\n",
        ")\n",
        "\n"
      ]
    },
    {
      "cell_type": "markdown",
      "id": "89991ad1",
      "metadata": {
        "id": "89991ad1"
      },
      "source": [
        "### 4️⃣ 모델 학습"
      ]
    },
    {
      "cell_type": "code",
      "execution_count": 10,
      "id": "37dee349",
      "metadata": {
        "colab": {
          "base_uri": "https://localhost:8080/",
          "height": 497
        },
        "id": "37dee349",
        "outputId": "04c67efa-060a-43b5-c835-ba7034df03ec"
      },
      "outputs": [
        {
          "output_type": "display_data",
          "data": {
            "text/plain": [
              "<IPython.core.display.Javascript object>"
            ],
            "application/javascript": [
              "\n",
              "        window._wandbApiKey = new Promise((resolve, reject) => {\n",
              "            function loadScript(url) {\n",
              "            return new Promise(function(resolve, reject) {\n",
              "                let newScript = document.createElement(\"script\");\n",
              "                newScript.onerror = reject;\n",
              "                newScript.onload = resolve;\n",
              "                document.body.appendChild(newScript);\n",
              "                newScript.src = url;\n",
              "            });\n",
              "            }\n",
              "            loadScript(\"https://cdn.jsdelivr.net/npm/postmate/build/postmate.min.js\").then(() => {\n",
              "            const iframe = document.createElement('iframe')\n",
              "            iframe.style.cssText = \"width:0;height:0;border:none\"\n",
              "            document.body.appendChild(iframe)\n",
              "            const handshake = new Postmate({\n",
              "                container: iframe,\n",
              "                url: 'https://wandb.ai/authorize'\n",
              "            });\n",
              "            const timeout = setTimeout(() => reject(\"Couldn't auto authenticate\"), 5000)\n",
              "            handshake.then(function(child) {\n",
              "                child.on('authorize', data => {\n",
              "                    clearTimeout(timeout)\n",
              "                    resolve(data)\n",
              "                });\n",
              "            });\n",
              "            })\n",
              "        });\n",
              "    "
            ]
          },
          "metadata": {}
        },
        {
          "output_type": "stream",
          "name": "stderr",
          "text": [
            "\u001b[34m\u001b[1mwandb\u001b[0m: (1) Private W&B dashboard, no account required\n",
            "\u001b[34m\u001b[1mwandb\u001b[0m: (2) Use an existing W&B account\n"
          ]
        },
        {
          "name": "stdout",
          "output_type": "stream",
          "text": [
            "\u001b[34m\u001b[1mwandb\u001b[0m: Enter your choice: \n",
            "\u001b[34m\u001b[1mwandb\u001b[0m: Enter your choice: 1\n"
          ]
        },
        {
          "output_type": "stream",
          "name": "stderr",
          "text": [
            "\u001b[34m\u001b[1mwandb\u001b[0m: You chose 'Private W&B dashboard, no account required'\n",
            "\u001b[34m\u001b[1mwandb\u001b[0m: \u001b[33mWARNING\u001b[0m If you're specifying your api key in code, ensure this code is not shared publicly.\n",
            "\u001b[34m\u001b[1mwandb\u001b[0m: \u001b[33mWARNING\u001b[0m Consider setting the WANDB_API_KEY environment variable, or running `wandb login` from the command line.\n",
            "\u001b[34m\u001b[1mwandb\u001b[0m: No netrc file found, creating one.\n",
            "\u001b[34m\u001b[1mwandb\u001b[0m: Appending key for api.wandb.ai to your netrc file: /root/.netrc\n",
            "\u001b[34m\u001b[1mwandb\u001b[0m: Currently logged in as: \u001b[33manony-mouse-921091980337686677\u001b[0m to \u001b[32mhttps://api.wandb.ai\u001b[0m. Use \u001b[1m`wandb login --relogin`\u001b[0m to force relogin\n"
          ]
        },
        {
          "output_type": "display_data",
          "data": {
            "text/plain": [
              "<IPython.core.display.HTML object>"
            ],
            "text/html": [
              "Tracking run with wandb version 0.19.11"
            ]
          },
          "metadata": {}
        },
        {
          "output_type": "display_data",
          "data": {
            "text/plain": [
              "<IPython.core.display.HTML object>"
            ],
            "text/html": [
              "Run data is saved locally in <code>/content/wandb/run-20250526_064737-b6coht8p</code>"
            ]
          },
          "metadata": {}
        },
        {
          "output_type": "display_data",
          "data": {
            "text/plain": [
              "<IPython.core.display.HTML object>"
            ],
            "text/html": [
              "Syncing run <strong><a href='https://wandb.ai/anony-mouse-921091980337686677/uncategorized/runs/b6coht8p?apiKey=71d388a317d428c2488413b0a4fb3af99269adbf' target=\"_blank\">youthful-cosmos-1</a></strong> to <a href='https://wandb.ai/anony-mouse-921091980337686677/uncategorized?apiKey=71d388a317d428c2488413b0a4fb3af99269adbf' target=\"_blank\">Weights & Biases</a> (<a href='https://wandb.me/developer-guide' target=\"_blank\">docs</a>)<br>"
            ]
          },
          "metadata": {}
        },
        {
          "output_type": "display_data",
          "data": {
            "text/plain": [
              "<IPython.core.display.HTML object>"
            ],
            "text/html": [
              " View project at <a href='https://wandb.ai/anony-mouse-921091980337686677/uncategorized?apiKey=71d388a317d428c2488413b0a4fb3af99269adbf' target=\"_blank\">https://wandb.ai/anony-mouse-921091980337686677/uncategorized?apiKey=71d388a317d428c2488413b0a4fb3af99269adbf</a>"
            ]
          },
          "metadata": {}
        },
        {
          "output_type": "display_data",
          "data": {
            "text/plain": [
              "<IPython.core.display.HTML object>"
            ],
            "text/html": [
              " View run at <a href='https://wandb.ai/anony-mouse-921091980337686677/uncategorized/runs/b6coht8p?apiKey=71d388a317d428c2488413b0a4fb3af99269adbf' target=\"_blank\">https://wandb.ai/anony-mouse-921091980337686677/uncategorized/runs/b6coht8p?apiKey=71d388a317d428c2488413b0a4fb3af99269adbf</a>"
            ]
          },
          "metadata": {}
        },
        {
          "output_type": "display_data",
          "data": {
            "text/plain": [
              "<IPython.core.display.HTML object>"
            ],
            "text/html": [
              "Do NOT share these links with anyone. They can be used to claim your runs."
            ]
          },
          "metadata": {}
        },
        {
          "output_type": "display_data",
          "data": {
            "text/plain": [
              "<IPython.core.display.HTML object>"
            ],
            "text/html": [
              "\n",
              "    <div>\n",
              "      \n",
              "      <progress value='1875' max='1875' style='width:300px; height:20px; vertical-align: middle;'></progress>\n",
              "      [1875/1875 23:50, Epoch 3/3]\n",
              "    </div>\n",
              "    <table border=\"1\" class=\"dataframe\">\n",
              "  <thead>\n",
              " <tr style=\"text-align: left;\">\n",
              "      <th>Step</th>\n",
              "      <th>Training Loss</th>\n",
              "    </tr>\n",
              "  </thead>\n",
              "  <tbody>\n",
              "    <tr>\n",
              "      <td>500</td>\n",
              "      <td>0.408800</td>\n",
              "    </tr>\n",
              "    <tr>\n",
              "      <td>1000</td>\n",
              "      <td>0.277100</td>\n",
              "    </tr>\n",
              "    <tr>\n",
              "      <td>1500</td>\n",
              "      <td>0.180600</td>\n",
              "    </tr>\n",
              "  </tbody>\n",
              "</table><p>"
            ]
          },
          "metadata": {}
        },
        {
          "output_type": "execute_result",
          "data": {
            "text/plain": [
              "TrainOutput(global_step=1875, training_loss=0.26171563517252605, metrics={'train_runtime': 1432.7327, 'train_samples_per_second': 10.47, 'train_steps_per_second': 1.309, 'total_flos': 3946665830400000.0, 'train_loss': 0.26171563517252605, 'epoch': 3.0})"
            ]
          },
          "metadata": {},
          "execution_count": 10
        }
      ],
      "source": [
        "# TODO: trainer.train() 호출\n",
        "### TODO ###\n",
        "import wandb\n",
        "\n",
        "wandb.init(anonymous=\"allow\")\n",
        "\n",
        "trainer.train()"
      ]
    },
    {
      "cell_type": "markdown",
      "id": "64613c13",
      "metadata": {
        "id": "64613c13"
      },
      "source": [
        "### 5️⃣ 모델 평가"
      ]
    },
    {
      "cell_type": "code",
      "execution_count": 11,
      "id": "7f1bdc53",
      "metadata": {
        "colab": {
          "base_uri": "https://localhost:8080/",
          "height": 56
        },
        "id": "7f1bdc53",
        "outputId": "63a34b28-5518-4b54-a3e4-8c9eb5a1b72f"
      },
      "outputs": [
        {
          "output_type": "display_data",
          "data": {
            "text/plain": [
              "<IPython.core.display.HTML object>"
            ],
            "text/html": [
              "\n",
              "    <div>\n",
              "      \n",
              "      <progress value='125' max='125' style='width:300px; height:20px; vertical-align: middle;'></progress>\n",
              "      [125/125 00:29]\n",
              "    </div>\n",
              "    "
            ]
          },
          "metadata": {}
        },
        {
          "output_type": "stream",
          "name": "stdout",
          "text": [
            "{'eval_loss': 0.5807258486747742, 'eval_accuracy': 0.869, 'eval_runtime': 30.1636, 'eval_samples_per_second': 33.153, 'eval_steps_per_second': 4.144, 'epoch': 3.0}\n"
          ]
        }
      ],
      "source": [
        "# TODO: trainer.evaluate() 로 테스트 세트 정확도 출력\n",
        "test_metrics = trainer.evaluate(eval_dataset=small_test)\n",
        "print(test_metrics)\n"
      ]
    },
    {
      "cell_type": "markdown",
      "id": "876dcec4",
      "metadata": {
        "id": "876dcec4"
      },
      "source": [
        "### 6️⃣ 실시간 예측 함수 구현"
      ]
    },
    {
      "cell_type": "code",
      "execution_count": 16,
      "id": "be8ffdcd",
      "metadata": {
        "colab": {
          "base_uri": "https://localhost:8080/"
        },
        "id": "be8ffdcd",
        "outputId": "cf393ba9-b870-4604-aeba-d3c22343593c"
      },
      "outputs": [
        {
          "output_type": "stream",
          "name": "stdout",
          "text": [
            "이 영화 진짜 최고다! -> {'label': '긍정 😃', 'confidence': 0.9974000453948975}\n",
            "시간 아깝다... -> {'label': '부정 😞', 'confidence': 0.9993352293968201}\n",
            "그냥 죽어 -> {'label': '부정 😞', 'confidence': 0.9984160661697388}\n",
            "애매하네 -> {'label': '부정 😞', 'confidence': 0.9989583492279053}\n",
            "기대만 안하면... -> {'label': '긍정 😃', 'confidence': 0.9021694660186768}\n"
          ]
        }
      ],
      "source": [
        "id2label = {0: \"부정 😞\", 1: \"긍정 😃\"}\n",
        "\n",
        "def predict_sentiment(sentence: str):\n",
        "    \"\"\"한글 문장 → 감정 예측 결과 반환\"\"\"\n",
        "    # 문장 토큰화 (batch가 아니라 단일 문장, tensor로 반환)\n",
        "    inputs = tokenizer(sentence, return_tensors=\"pt\", padding=True, truncation=True, max_length=128)\n",
        "\n",
        "    # GPU 사용 가능하면 GPU로 이동\n",
        "    device = torch.device(\"cuda\" if torch.cuda.is_available() else \"cpu\")\n",
        "    model.to(device)\n",
        "    inputs = {k: v.to(device) for k, v in inputs.items()}\n",
        "\n",
        "    # 모델 추론 (평가 모드)\n",
        "    model.eval()\n",
        "    with torch.no_grad():\n",
        "        outputs = model(**inputs)\n",
        "        logits = outputs.logits\n",
        "        probs = torch.softmax(logits, dim=-1)\n",
        "        confidence, pred_label_idx = torch.max(probs, dim=1)\n",
        "\n",
        "    label = id2label[int(pred_label_idx)]\n",
        "    confidence = float(confidence)\n",
        "\n",
        "    return {\"label\": label, \"confidence\": confidence}\n",
        "\n",
        "\n",
        "# 임의 문장 테스트\n",
        "for s in [\"이 영화 진짜 최고다!\", \"시간 아깝다...\",\"그냥 죽어\",\"애매하네\",\"기대만 안하면...\"]:\n",
        "    print(s, \"->\", predict_sentiment(s))\n"
      ]
    },
    {
      "cell_type": "markdown",
      "id": "29fe66f4",
      "metadata": {
        "id": "29fe66f4"
      },
      "source": [
        "### 💾 추가 과제(선택): 모델 저장 & 로딩"
      ]
    },
    {
      "cell_type": "code",
      "execution_count": null,
      "id": "830ed5f6",
      "metadata": {
        "id": "830ed5f6"
      },
      "outputs": [],
      "source": [
        "# model.save_pretrained(\"./bert-nsmc-best\")\n",
        "# tokenizer.save_pretrained(\"./bert-nsmc-best\")\n"
      ]
    },
    {
      "cell_type": "markdown",
      "id": "2d786ee2",
      "metadata": {
        "id": "2d786ee2"
      },
      "source": [
        "## 🎯 제출 기준\n",
        "- 모든 `### TODO ###` 영역 완성\n",
        "- 테스트 세트 정확도 **≥ 0.75**\n",
        "- `predict_sentiment` 함수가 두 예시 문장을 올바르게 분류\n",
        "\n",
        "### 데이터 출처\n",
        "- NSMC: <https://huggingface.co/datasets/nsmc>\n",
        "\n",
        "> 행운을 빕니다! 카카라가 🍿 팝콘 지수를 기다리고 있어요.\n"
      ]
    }
  ],
  "metadata": {
    "kernelspec": {
      "display_name": "Python 3",
      "name": "python3"
    },
    "language_info": {
      "codemirror_mode": {
        "name": "ipython",
        "version": 3
      },
      "file_extension": ".py",
      "mimetype": "text/x-python",
      "name": "python",
      "nbconvert_exporter": "python",
      "pygments_lexer": "ipython3",
      "version": "3.12.7"
    },
    "colab": {
      "provenance": [],
      "gpuType": "T4"
    },
    "accelerator": "GPU"
  },
  "nbformat": 4,
  "nbformat_minor": 5
}
{
 "cells": [
  {
   "cell_type": "markdown",
   "id": "411ca222",
   "metadata": {},
   "source": [
    "# 인공지능을 위한 알고리즘과 자료구조\n",
    "\n"
   ]
  },
  {
   "cell_type": "markdown",
   "id": "e6d4e8fe",
   "metadata": {},
   "source": [
    "## ✅ 문제 1. 간단한 해시 테이블 구현 (체이닝 방식)\n",
    "\n",
    "**설명**: 문자열 키를 입력받아 간단한 해시 함수(`ord(char) % N`)를 사용하고, 충돌 시 체이닝 방식으로 해결하는 해시 테이블을 구현하시오.\n",
    "\n",
    "**요구사항**:\n",
    "- 해시 크기는 10으로 고정\n",
    "- 문자열 삽입, 검색, 삭제 기능 구현\n",
    "- 체이닝은 리스트 사용\n",
    "\n",
    "**입력 예시**:\n",
    "```python\n",
    "table.insert(\"apple\")\n",
    "table.insert(\"banana\")\n",
    "table.insert(\"grape\")\n",
    "table.search(\"banana\")  # True\n",
    "table.delete(\"banana\")\n",
    "table.search(\"banana\")  # False\n",
    "```\n"
   ]
  },
  {
   "cell_type": "code",
   "execution_count": 5,
   "id": "730bbbb7",
   "metadata": {},
   "outputs": [
    {
     "name": "stdout",
     "output_type": "stream",
     "text": [
      "True\n",
      "False\n"
     ]
    }
   ],
   "source": [
    "class HashTable:\n",
    "    def __init__(self, size = 10):\n",
    "        self.size = size\n",
    "        # size 크기의 빈 리스트들로 초기화\n",
    "        self.table = [[] for _ in range(size)]\n",
    "\n",
    "    def _hash(self, key):\n",
    "    # 문자열의 첫 문자의 아스키 값을 size로 나눈 나머지를 해시값으로 사용\n",
    "        return ord(key[0]) % self.size\n",
    "\n",
    "    def insert(self, key):\n",
    "        #1. 해시값 계산\n",
    "        hash_value = self._hash(key)\n",
    "        #2. 이미 키가 존재하는 확인\n",
    "        if not self.search(key):\n",
    "            # 3. 해당 버킷에 키 추가\n",
    "            self.table[hash_value].append(key)\n",
    "            return True\n",
    "        return False\n",
    "    \n",
    "    def search(self, key):\n",
    "        #1. 해시값 계산\n",
    "        hash_value = self._hash(key)\n",
    "        #2. 해당 버킷의 키 확인\n",
    "        return key in self.table[hash_value]\n",
    "\n",
    "    def delete(self, key):\n",
    "         #1. 해시값 계산\n",
    "        hash_value = self._hash(key)\n",
    "        #2. 키가 있으면 삭제\n",
    "        if self.search(key):\n",
    "            self.table[hash_value].remove(key)\n",
    "            return True\n",
    "        return False\n",
    "\n",
    "table = HashTable()\n",
    "table.insert(\"apple\")\n",
    "table.insert(\"banana\")\n",
    "table.insert(\"grape\")\n",
    "print(table.search(\"banana\"))  # True\n",
    "table.delete(\"banana\")\n",
    "print(table.search(\"banana\"))  # False"
   ]
  },
  {
   "cell_type": "markdown",
   "id": "8ea1373b",
   "metadata": {},
   "source": [
    "## ✅ 문제 2. 오픈 어드레싱 방식 해시 테이블 구현 (선형 탐사)\n",
    "\n",
    "**설명**: 체이닝 대신 오픈 어드레싱 방식으로 충돌을 해결하는 해시 테이블을 구현하시오.\n",
    "\n",
    "**요구사항**:\n",
    "- 해시 크기: 7\n",
    "- 해시 함수: `sum(ord(c) for c in key) % size`\n",
    "- 충돌 시 선형 탐사 사용\n",
    "- 삭제 시 tombstone 처리 없이 `None`으로만 비움\n"
   ]
  },
  {
   "cell_type": "code",
   "execution_count": 6,
   "id": "fba6f1d0",
   "metadata": {},
   "outputs": [
    {
     "name": "stdout",
     "output_type": "stream",
     "text": [
      "True\n",
      "False\n"
     ]
    }
   ],
   "source": [
    "class HashTable:\n",
    "    def __init__(self, size = 7):  # 크기를 7로 변경\n",
    "        self.size = size\n",
    "        self.table = [None] * size  # 빈 리스트 대신 None으로 초기화\n",
    "\n",
    "    def _hash(self, key):\n",
    "        # 문자열의 모든 문자의 아스키 값 합을 size로 나눈 나머지\n",
    "        return sum(ord(c) for c in key) % self.size\n",
    "\n",
    "    def insert(self, key):\n",
    "        # 1. 해시값 계산\n",
    "        hash_value = self._hash(key)\n",
    "        # 2. 선형 탐사로 빈 공간 찾기\n",
    "        for i in range(self.size):\n",
    "            probe_index = (hash_value + i) % self.size\n",
    "            if self.table[probe_index] is None or self.table[probe_index] == key:\n",
    "                self.table[probe_index] = key\n",
    "                return True\n",
    "        return False\n",
    "    \n",
    "    def search(self, key):\n",
    "        # 1. 해시값 계산\n",
    "        hash_value = self._hash(key)\n",
    "        # 2. 선형 탐사로 키 찾기\n",
    "        for i in range(self.size):\n",
    "            probe_index = (hash_value + i) % self.size\n",
    "            if self.table[probe_index] is None:\n",
    "                return False\n",
    "            if self.table[probe_index] == key:\n",
    "                return True\n",
    "        return False\n",
    "\n",
    "    def delete(self, key):\n",
    "        # 1. 해시값 계산\n",
    "        hash_value = self._hash(key)\n",
    "        # 2. 선형 탐사로 키 찾아서 삭제\n",
    "        for i in range(self.size):\n",
    "            probe_index = (hash_value + i) % self.size\n",
    "            if self.table[probe_index] is None:\n",
    "                return False\n",
    "            if self.table[probe_index] == key:\n",
    "                self.table[probe_index] = None\n",
    "                return True\n",
    "        return False\n",
    "\n",
    "# 테스트\n",
    "table = HashTable()\n",
    "table.insert(\"apple\")\n",
    "table.insert(\"banana\")\n",
    "table.insert(\"grape\")\n",
    "print(table.search(\"banana\"))  # True\n",
    "table.delete(\"banana\")\n",
    "print(table.search(\"banana\"))  # False"
   ]
  },
  {
   "cell_type": "markdown",
   "id": "28c13742",
   "metadata": {},
   "source": [
    "## ✅ 문제 3. 재귀함수로 문자열 뒤집기\n",
    "\n",
    "**설명**: 재귀를 이용하여 문자열을 뒤집는 함수를 작성하시오.\n",
    "\n",
    "**예시 입력/출력**:\n",
    "```python\n",
    "reverse(\"hello\") -> \"olleh\"\n",
    "reverse(\"ai\") -> \"ia\"\n",
    "```\n"
   ]
  },
  {
   "cell_type": "code",
   "execution_count": 7,
   "id": "5eede0a1",
   "metadata": {},
   "outputs": [
    {
     "name": "stdout",
     "output_type": "stream",
     "text": [
      "olleh\n",
      "ia\n"
     ]
    }
   ],
   "source": [
    "def reverse(text):\n",
    "    # 문자열의 길이가 0 또는 1이면 그대로 반환\n",
    "    if len(text) <= 1:\n",
    "        return text\n",
    "    \n",
    "    # 첫 문자를 제외한 나머지 문자열을 뒤집고 그 결과에 첫 문자를 맨 뒤에 붙임\n",
    "    return reverse(text[1:]) + text[0]\n",
    "\n",
    "print(reverse(\"hello\"))  \n",
    "print(reverse(\"ai\"))     "
   ]
  },
  {
   "cell_type": "markdown",
   "id": "d84b70ac",
   "metadata": {},
   "source": [
    "## ✅ 문제 4. 하노이의 탑 (재귀 구현)\n",
    "\n",
    "**설명**: 하노이 탑 문제를 재귀적으로 해결하는 함수를 작성하시오. 이동 과정을 출력하도록 하세요.\n",
    "\n",
    "**입력**:\n",
    "- 원반의 개수 `n`: 정수\n",
    "- 기둥 이름: `A`, `B`, `C`\n",
    "\n",
    "**출력 예시**:\n",
    "```\n",
    "Move disk 1 from A to C\n",
    "Move disk 2 from A to B\n",
    "...\n",
    "```\n"
   ]
  },
  {
   "cell_type": "code",
   "execution_count": 8,
   "id": "816b4f87",
   "metadata": {},
   "outputs": [
    {
     "name": "stdout",
     "output_type": "stream",
     "text": [
      "Move disk 1 from A to C\n",
      "Move disk 2 from A to B\n",
      "Move disk 1 from C to B\n",
      "Move disk 3 from A to C\n",
      "Move disk 1 from B to A\n",
      "Move disk 2 from B to C\n",
      "Move disk 1 from A to C\n"
     ]
    }
   ],
   "source": [
    "def hanoi(n, source, auxiliary, target):\n",
    "    # 원반이 1개면 직접 이동\n",
    "    if n == 1:\n",
    "        print(f\"Move disk 1 from {source} to {target}\")\n",
    "        return\n",
    "    \n",
    "    # 1. n-1개의 원반을 보조 기둥으로 이동\n",
    "    hanoi(n-1, source, target, auxiliary)\n",
    "    \n",
    "    # 2. 가장 큰 원반을 목표 기둥으로 이동\n",
    "    print(f\"Move disk {n} from {source} to {target}\")\n",
    "    \n",
    "    # 3. n-1개의 원반을 다시 목표 기둥으로 이동\n",
    "    hanoi(n-1, auxiliary, source, target)\n",
    "\n",
    "# 테스트\n",
    "n = 3  # 원반 3개\n",
    "hanoi(n, 'A', 'B', 'C')"
   ]
  },
  {
   "cell_type": "markdown",
   "id": "31afc129",
   "metadata": {},
   "source": [
    "## ✅ 문제 5. 충돌이 많은 데이터를 위한 해시 성능 실험\n",
    "\n",
    "**설명**: 아래의 문자열 리스트를 사용하여 두 가지 방식(체이닝 vs 오픈 어드레싱)의 충돌 빈도를 비교하고 결과를 출력하시오.\n",
    "\n",
    "```python\n",
    "keys = [\"aa\", \"bb\", \"cc\", \"dd\", \"ee\", \"af\", \"ag\", \"ah\", \"ai\"]\n",
    "```\n",
    "\n",
    "**요구사항**:\n",
    "- 같은 해시 테이블 크기(예: 5) 사용\n",
    "- 충돌 횟수 출력\n",
    "- 각 방식에서 최종 테이블 출력\n"
   ]
  },
  {
   "cell_type": "code",
   "execution_count": 10,
   "id": "9688795f",
   "metadata": {},
   "outputs": [
    {
     "name": "stdout",
     "output_type": "stream",
     "text": [
      "\n",
      "=== 오픈 어드레싱 방식 ===\n",
      "충돌 횟수: 16\n",
      "최종 테이블: ['dd', 'bb', 'ee', 'cc', 'aa']\n",
      "\n",
      "=== 체이닝 방식 ===\n",
      "충돌 횟수: 4\n",
      "최종 테이블: [['dd', 'ag'], ['bb', 'ah'], ['ee', 'ai'], ['cc'], ['aa', 'af']]\n"
     ]
    }
   ],
   "source": [
    "# 오픈 어드레싱 방식의 해시테이블에 충돌 카운터 추가\n",
    "class OpenAddressingHashTable:\n",
    "    def __init__(self, size=5):  # 크기를 5로 변경\n",
    "        self.size = size\n",
    "        self.table = [None] * size\n",
    "        self.collision_count = 0  # 충돌 횟수 카운터 추가\n",
    "\n",
    "    def _hash(self, key):\n",
    "        return sum(ord(c) for c in key) % self.size\n",
    "\n",
    "    def insert(self, key):\n",
    "        hash_value = self._hash(key)\n",
    "        for i in range(self.size):\n",
    "            probe_index = (hash_value + i) % self.size\n",
    "            if i > 0:  # 첫 시도가 아니면 충돌로 카운트\n",
    "                self.collision_count += 1\n",
    "            if self.table[probe_index] is None or self.table[probe_index] == key:\n",
    "                self.table[probe_index] = key\n",
    "                return True\n",
    "        return False\n",
    "\n",
    "# 체이닝 방식의 해시테이블에 충돌 카운터 추가\n",
    "class ChainingHashTable:\n",
    "    def __init__(self, size=5):  # 크기를 5로 변경\n",
    "        self.size = size\n",
    "        self.table = [[] for _ in range(size)]\n",
    "        self.collision_count = 0  # 충돌 횟수 카운터 추가\n",
    "\n",
    "    def _hash(self, key):\n",
    "        return sum(ord(c) for c in key) % self.size\n",
    "\n",
    "    def insert(self, key):\n",
    "        hash_value = self._hash(key)\n",
    "        if len(self.table[hash_value]) > 0:  # 이미 항목이 있으면 충돌\n",
    "            self.collision_count += 1\n",
    "        if not self.search(key):\n",
    "            self.table[hash_value].append(key)\n",
    "            return True\n",
    "        return False\n",
    "    \n",
    "    def search(self, key):  # search 메서드 추가\n",
    "        hash_value = self._hash(key)\n",
    "        return key in self.table[hash_value]\n",
    "\n",
    "def test_hash_tables():\n",
    "    keys = [\"aa\", \"bb\", \"cc\", \"dd\", \"ee\", \"af\", \"ag\", \"ah\", \"ai\"]\n",
    "    \n",
    "    # 오픈 어드레싱 테스트\n",
    "    open_table = OpenAddressingHashTable(5)\n",
    "    print(\"\\n=== 오픈 어드레싱 방식 ===\")\n",
    "    for key in keys:\n",
    "        open_table.insert(key)\n",
    "    print(f\"충돌 횟수: {open_table.collision_count}\")\n",
    "    print(\"최종 테이블:\", open_table.table)\n",
    "    \n",
    "    # 체이닝 테스트\n",
    "    chain_table = ChainingHashTable(5)\n",
    "    print(\"\\n=== 체이닝 방식 ===\")\n",
    "    for key in keys:\n",
    "        chain_table.insert(key)\n",
    "    print(f\"충돌 횟수: {chain_table.collision_count}\")\n",
    "    print(\"최종 테이블:\", chain_table.table)\n",
    "\n",
    "test_hash_tables()"
   ]
  },
  {
   "cell_type": "markdown",
   "id": "9b1366bd",
   "metadata": {},
   "source": [
    "## ✅ 문제 6. 재귀로 구성한 해시 충돌 시 처리 시뮬레이션\n",
    "\n",
    "**설명**: 해시 충돌 시 체이닝된 리스트의 길이가 `n` 이상이 되면 재귀적으로 새로운 해시 테이블로 분산하도록 구현하시오 (즉, 동적 리해싱 재귀 시뮬레이션).\n",
    "\n",
    "**추가 조건**:\n",
    "- 체이닝 리스트 길이 제한: 3\n",
    "- 재귀적으로 `new_size = old_size * 2 + 1`로 리해싱\n",
    "- 삽입 로그 출력\n"
   ]
  },
  {
   "cell_type": "code",
   "execution_count": null,
   "id": "d48512ac",
   "metadata": {},
   "outputs": [],
   "source": []
  }
 ],
 "metadata": {
  "kernelspec": {
   "display_name": "base",
   "language": "python",
   "name": "python3"
  },
  "language_info": {
   "codemirror_mode": {
    "name": "ipython",
    "version": 3
   },
   "file_extension": ".py",
   "mimetype": "text/x-python",
   "name": "python",
   "nbconvert_exporter": "python",
   "pygments_lexer": "ipython3",
   "version": "3.12.7"
  }
 },
 "nbformat": 4,
 "nbformat_minor": 5
}

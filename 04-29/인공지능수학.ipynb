{
  "nbformat": 4,
  "nbformat_minor": 0,
  "metadata": {
    "colab": {
      "provenance": []
    },
    "kernelspec": {
      "name": "python3",
      "display_name": "Python 3"
    },
    "language_info": {
      "name": "python"
    }
  },
  "cells": [
    {
      "cell_type": "code",
      "execution_count": 1,
      "metadata": {
        "colab": {
          "base_uri": "https://localhost:8080/",
          "height": 601
        },
        "id": "PsGvRaXvbKRP",
        "outputId": "0eef6957-8162-4dc7-f465-187534c895c6"
      },
      "outputs": [
        {
          "output_type": "display_data",
          "data": {
            "text/plain": [
              "<Figure size 1000x600 with 1 Axes>"
            ],
            "image/png": "[encoded data removed]"
          },
          "metadata": {}
        },
        {
          "output_type": "stream",
          "name": "stdout",
          "text": [
            "평균: -0.0021\n",
            "표준편차: 1.0034\n"
          ]
        }
      ],
      "source": [
        "import numpy as np\n",
        "import matplotlib.pyplot as plt\n",
        "\n",
        "# 표준 정규 분포 난수 생성\n",
        "np.random.seed(42)\n",
        "standard_normal = np.random.normal(loc=0, scale=1, size=10000)\n",
        "\n",
        "# 히스토그램으로 분포 시각화\n",
        "plt.figure(figsize=(10, 6))\n",
        "plt.hist(standard_normal, bins=50, density=True)\n",
        "plt.title('Standard Normal Distribution')\n",
        "plt.xlabel('Value')\n",
        "plt.ylabel('Frequency')\n",
        "plt.show()\n",
        "\n",
        "# 평균과 표준편차 확인\n",
        "print(f\"평균: {np.mean(standard_normal):.4f}\")\n",
        "print(f\"표준편차: {np.std(standard_normal):.4f}\")"
      ]
    },
    {
      "cell_type": "code",
      "source": [
        "# 다양한 밑의 로그 함수\n",
        "x = 10\n",
        "\n",
        "# 자연로그 (밑 e)\n",
        "print(\"ln(10):\", np.log(x))\n",
        "\n",
        "# 상용로그 (밑 10)\n",
        "print(\"log10(10):\", np.log10(x))\n",
        "\n",
        "# 로그 성질 확인\n",
        "a, b = 5, 3\n",
        "print(\"log(a * b) =\", np.log(a * b))\n",
        "print(\"log(a) + log(b) =\", np.log(a) + np.log(b))"
      ],
      "metadata": {
        "colab": {
          "base_uri": "https://localhost:8080/"
        },
        "id": "ninA-WnvbNi4",
        "outputId": "024ec03d-4103-47c2-895c-5d9f23fb4707"
      },
      "execution_count": 2,
      "outputs": [
        {
          "output_type": "stream",
          "name": "stdout",
          "text": [
            "ln(10): 2.302585092994046\n",
            "log10(10): 1.0\n",
            "log(a * b) = 2.70805020110221\n",
            "log(a) + log(b) = 2.70805020110221\n"
          ]
        }
      ]
    },
    {
      "cell_type": "code",
      "source": [
        "# 데이터 집합 생성\n",
        "data = np.array([2, 4, 6, 8, 10, 12, 14, 16, 18, 20])\n",
        "\n",
        "# 평균 계산\n",
        "mean = np.mean(data)\n",
        "print(\"평균:\", mean)\n",
        "\n",
        "# 분산 계산\n",
        "variance = np.var(data)\n",
        "print(\"분산:\", variance)\n",
        "\n",
        "# 표준편차 계산\n",
        "std_dev = np.std(data)\n",
        "print(\"표준편차:\", std_dev)"
      ],
      "metadata": {
        "colab": {
          "base_uri": "https://localhost:8080/"
        },
        "id": "NIHXnrOBbQiS",
        "outputId": "c9ce4c15-ac95-4490-af67-b28153ef9830"
      },
      "execution_count": 3,
      "outputs": [
        {
          "output_type": "stream",
          "name": "stdout",
          "text": [
            "평균: 11.0\n",
            "분산: 33.0\n",
            "표준편차: 5.744562646538029\n"
          ]
        }
      ]
    },
    {
      "cell_type": "code",
      "source": [
        "# 예시: 조건부 확률 계산\n",
        "# P(A|B) = P(A and B) / P(B)\n",
        "\n",
        "# 사건 A와 B의 확률\n",
        "p_a = 0.3  # P(A)\n",
        "p_b = 0.5  # P(B)\n",
        "p_a_and_b = 0.2  # P(A and B)\n",
        "\n",
        "# 조건부 확률 계산\n",
        "p_a_given_b = p_a_and_b / p_b\n",
        "\n",
        "print(f\"P(A|B) = {p_a_given_b:.4f}\")"
      ],
      "metadata": {
        "colab": {
          "base_uri": "https://localhost:8080/"
        },
        "id": "2nU4IuAObUpy",
        "outputId": "07cc3cb7-8ee1-4530-9165-9da129e1f069"
      },
      "execution_count": 4,
      "outputs": [
        {
          "output_type": "stream",
          "name": "stdout",
          "text": [
            "P(A|B) = 0.4000\n"
          ]
        }
      ]
    },
    {
      "cell_type": "code",
      "source": [
        "from scipy import stats\n",
        "\n",
        "# 이산 확률 분포 (이항 분포)\n",
        "n = 10  # 시행 횟수\n",
        "p = 0.5  # 성공 확률\n",
        "\n",
        "# 특정 사건의 확률\n",
        "k = 3  # 성공 횟수\n",
        "prob = stats.binom.pmf(k, n, p)\n",
        "print(f\"P(X = {k}) = {prob:.4f}\")\n",
        "\n",
        "# 연속 확률 분포 (정규 분포)\n",
        "mu = 0  # 평균\n",
        "sigma = 1  # 표준편차\n",
        "\n",
        "# 특정 구간의 확률\n",
        "z_score = 1  # 표준화된 값\n",
        "prob_less_than_z = stats.norm.cdf(z_score)\n",
        "print(f\"P(X <= {z_score}) = {prob_less_than_z:.4f}\")"
      ],
      "metadata": {
        "colab": {
          "base_uri": "https://localhost:8080/"
        },
        "id": "dv_9I2hWbWl6",
        "outputId": "15ceabdf-126e-4597-df64-163525e9787d"
      },
      "execution_count": 5,
      "outputs": [
        {
          "output_type": "stream",
          "name": "stdout",
          "text": [
            "P(X = 3) = 0.1172\n",
            "P(X <= 1) = 0.8413\n"
          ]
        }
      ]
    },
    {
      "cell_type": "code",
      "source": [
        "# 선형 방정식 Ax = b\n",
        "# 예: 2x + 3y = 8\n",
        "#     x - y = 1\n",
        "\n",
        "# 계수 행렬 A\n",
        "A = np.array([[2, 3], [1, -1]])\n",
        "\n",
        "# 상수 벡터 b\n",
        "b = np.array([8, 1])\n",
        "\n",
        "# 선형 방정식의 해 계산\n",
        "solution = np.linalg.solve(A, b)\n",
        "\n",
        "print(\"방정식의 해:\")\n",
        "print(f\"x = {solution[0]}\")\n",
        "print(f\"y = {solution[1]}\")"
      ],
      "metadata": {
        "colab": {
          "base_uri": "https://localhost:8080/"
        },
        "id": "71KSkhzNbYYl",
        "outputId": "057d9da4-4d9e-474f-a1a4-df99f27712e3"
      },
      "execution_count": 6,
      "outputs": [
        {
          "output_type": "stream",
          "name": "stdout",
          "text": [
            "방정식의 해:\n",
            "x = 2.2\n",
            "y = 1.2\n"
          ]
        }
      ]
    }
  ]
}
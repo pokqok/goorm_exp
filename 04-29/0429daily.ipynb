{
  "nbformat": 4,
  "nbformat_minor": 0,
  "metadata": {
    "colab": {
      "provenance": []
    },
    "kernelspec": {
      "name": "python3",
      "display_name": "Python 3"
    },
    "language_info": {
      "name": "python"
    }
  },
  "cells": [
    {
      "cell_type": "code",
      "execution_count": 11,
      "metadata": {
        "id": "JpAZutCoC-lR"
      },
      "outputs": [],
      "source": [
        "import numpy as np\n",
        "import matplotlib.pyplot as plt\n",
        "import tensorflow as tf\n",
        "from sklearn.datasets import fetch_openml\n",
        "from sklearn.model_selection import train_test_split\n",
        "\n",
        "# 1. 활성화 함수 구현\n",
        "def sigmoid(x):\n",
        "  return 1/(1+np.exp(-x))\n",
        "\n",
        "def relu(x):\n",
        "  return np.maximum(0,x)\n",
        "\n",
        "def softmax(x):\n",
        "  exp_x = np.exp(x - np.max(x, axis = -1, keepdims = True))\n",
        "  return exp_x / np.sum(exp_x, axis=-1, keepdims = True)\n"
      ]
    },
    {
      "cell_type": "code",
      "source": [
        "# 2. 순전파 함수 구현\n",
        "def forward(x, weights):\n",
        "  # 레이어 별 가중치와 편향\n",
        "  W1, b1 = weights['W1'], weights['b1']\n",
        "  W2, b2 = weights['W2'], weights['b2']\n",
        "  W3, b3 = weights['W3'], weights['b3']\n",
        "\n",
        "  # 첫번째 레이어\n",
        "  z1 = np.dot(x, W1) + b1\n",
        "  a1 = relu(z1)\n",
        "\n",
        "  # 두번째 레이어\n",
        "  z2 = np.dot(a1, W2) + b2\n",
        "  a2 = relu(z2)\n",
        "\n",
        "  # 세번째 레이어\n",
        "  z3 = np.dot(a2, W3) + b3\n",
        "  a3 = softmax(z3)\n",
        "\n",
        "  return a3"
      ],
      "metadata": {
        "id": "2u1dyt3JMVr_"
      },
      "execution_count": 9,
      "outputs": []
    },
    {
      "cell_type": "code",
      "source": [
        "# MNIST 데이터셋 로딩\n",
        "(X_train, y_train), (X_test, y_test) = tf.keras.datasets.mnist.load_data(\n",
        "    path='mnist.npz'\n",
        ")\n",
        "\n",
        "# 데이터 전처리\n",
        "X_test = X_test.reshape(X_test.shape[0], -1) / 255.0\n",
        "y_test = y_test\n",
        "\n",
        "# 가중치 로드\n",
        "weights = np.load('weights.npz')\n",
        "\n",
        "# 예측 및 시각화\n",
        "def predict_and_visualize(num_samples=10):\n",
        "    # 랜덤 샘플 선택\n",
        "    indices = np.random.choice(len(X_test), num_samples, replace=False)\n",
        "\n",
        "    # 서브플롯 준비\n",
        "    fig, axes = plt.subplots(2, 5, figsize=(15, 6))\n",
        "    axes = axes.ravel()\n",
        "\n",
        "    for i, idx in enumerate(indices):\n",
        "        # 이미지 추출 및 reshape\n",
        "        image = X_test[idx].reshape(1, -1)\n",
        "\n",
        "        # 예측 수행\n",
        "        predictions = forward(image, weights)\n",
        "        predicted_class = np.argmax(predictions)\n",
        "        true_class = y_test[idx]\n",
        "\n",
        "        # 이미지 시각화\n",
        "        axes[i].imshow(X_test[idx].reshape(28, 28), cmap='gray')\n",
        "        axes[i].set_title(f'Pred: {predicted_class}, True: {true_class}')\n",
        "        axes[i].axis('off')\n",
        "\n",
        "    plt.tight_layout()\n",
        "    plt.show()\n",
        "\n"
      ],
      "metadata": {
        "colab": {
          "base_uri": "https://localhost:8080/"
        },
        "id": "GQd-3FbgM7Eq",
        "outputId": "35e22a7f-4af2-4512-ce66-bd57c1aafeb3"
      },
      "execution_count": 12,
      "outputs": [
        {
          "output_type": "stream",
          "name": "stdout",
          "text": [
            "Downloading data from https://storage.googleapis.com/tensorflow/tf-keras-datasets/mnist.npz\n",
            "\u001b[1m11490434/11490434\u001b[0m \u001b[32m━━━━━━━━━━━━━━━━━━━━\u001b[0m\u001b[37m\u001b[0m \u001b[1m0s\u001b[0m 0us/step\n"
          ]
        }
      ]
    },
    {
      "cell_type": "code",
      "source": [
        "# 정확도 계산\n",
        "def calculate_accuracy(num_samples=100):\n",
        "    indices = np.random.choice(len(X_test), num_samples, replace=False)\n",
        "\n",
        "    correct_predictions = 0\n",
        "    for idx in indices:\n",
        "        image = X_test[idx].reshape(1, -1)\n",
        "        predictions = forward(image, weights)\n",
        "        predicted_class = np.argmax(predictions)\n",
        "        true_class = y_test[idx]\n",
        "\n",
        "        if predicted_class == true_class:\n",
        "            correct_predictions += 1\n",
        "\n",
        "    accuracy = correct_predictions / num_samples\n",
        "    print(f\"Accuracy: {accuracy * 100:.2f}%\")\n",
        "\n",
        "# 실행\n",
        "predict_and_visualize()\n",
        "calculate_accuracy()"
      ],
      "metadata": {
        "colab": {
          "base_uri": "https://localhost:8080/",
          "height": 630
        },
        "id": "saprnUaZQIxj",
        "outputId": "fb822698-bb20-40fa-b19f-1e8d2410f507"
      },
      "execution_count": 14,
      "outputs": [
        {
          "output_type": "display_data",
          "data": {
            "text/plain": [
              "<Figure size 1500x600 with 10 Axes>"
            ],
            "image/png": "[encoded data removed]"
          },
          "metadata": {}
        },
        {
          "output_type": "stream",
          "name": "stdout",
          "text": [
            "Accuracy: 95.00%\n"
          ]
        }
      ]
    }
  ]
}
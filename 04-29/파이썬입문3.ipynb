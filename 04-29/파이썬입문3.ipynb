{
  "nbformat": 4,
  "nbformat_minor": 0,
  "metadata": {
    "colab": {
      "provenance": []
    },
    "kernelspec": {
      "name": "python3",
      "display_name": "Python 3"
    },
    "language_info": {
      "name": "python"
    }
  },
  "cells": [
    {
      "cell_type": "code",
      "execution_count": 2,
      "metadata": {
        "colab": {
          "base_uri": "https://localhost:8080/"
        },
        "id": "gYmMfBkcXbxJ",
        "outputId": "af5f92e4-7cc5-45ea-e914-f58460bd5cb8"
      },
      "outputs": [
        {
          "output_type": "stream",
          "name": "stdout",
          "text": [
            "헤더: ['이름', '위도', '경도', '면적', '구']\n",
            "['보라매공원', '37.4991', '126.9208', '425992', '동작구']\n",
            "['서울숲', '37.5446', '127.0371', '1165700', '성동구']\n",
            "['남산공원', '37.5509', '126.9905', '1191416', '중구']\n",
            "['월드컵공원', '37.5683', '126.8986', '2690000', '마포구']\n",
            "['어린이대공원', '37.5485', '127.0746', '530000', '광진구']\n",
            "['용산가족공원', '37.5233', '126.9802', '75000', '용산구']\n",
            "['응봉산근린공원', '37.5584', '127.0343', '200000', '성동구']\n",
            "['우장산근린공원', '37.541', '126.8365', '300000', '강서구']\n",
            "        이름       위도        경도       면적    구\n",
            "0    보라매공원  37.4991  126.9208   425992  동작구\n",
            "1      서울숲  37.5446  127.0371  1165700  성동구\n",
            "2     남산공원  37.5509  126.9905  1191416   중구\n",
            "3    월드컵공원  37.5683  126.8986  2690000  마포구\n",
            "4   어린이대공원  37.5485  127.0746   530000  광진구\n",
            "5   용산가족공원  37.5233  126.9802    75000  용산구\n",
            "6  응봉산근린공원  37.5584  127.0343   200000  성동구\n",
            "7  우장산근린공원  37.5410  126.8365   300000  강서구\n"
          ]
        }
      ],
      "source": [
        "import csv\n",
        "\n",
        "# CSV 파일 읽기\n",
        "with open('seoul_parks.csv', 'r') as file:\n",
        "    csv_reader = csv.reader(file)\n",
        "\n",
        "    # 헤더 읽기\n",
        "    header = next(csv_reader)\n",
        "    print(\"헤더:\", header)\n",
        "\n",
        "    # 모든 행 읽기\n",
        "    for row in csv_reader:\n",
        "        print(row)\n",
        "\n",
        "# pandas를 사용한 CSV 읽기\n",
        "import pandas as pd\n",
        "\n",
        "df = pd.read_csv('seoul_parks.csv')\n",
        "print(df)"
      ]
    },
    {
      "cell_type": "code",
      "source": [
        "# 기본 lambda 함수\n",
        "square = lambda x: x ** 2\n",
        "print(square(5))  # 출력: 25\n",
        "\n",
        "# lambda 함수를 다른 함수와 함께 사용\n",
        "numbers = [1, 2, 3, 4, 5]\n",
        "squared_numbers = list(map(lambda x: x ** 2, numbers))\n",
        "print(squared_numbers)  # 출력: [1, 4, 9, 16, 25]\n",
        "\n",
        "# 다중 인자 lambda 함수\n",
        "add = lambda x, y: x + y\n",
        "print(add(3, 4))  # 출력: 7\n",
        "\n",
        "# 정렬에 lambda 함수 사용\n",
        "students = [\n",
        "    {'name': 'Alice', 'grade': 85},\n",
        "    {'name': 'Bob', 'grade': 92},\n",
        "    {'name': 'Charlie', 'grade': 78}\n",
        "]\n",
        "\n",
        "# grade를 기준으로 정렬\n",
        "sorted_students = sorted(students, key=lambda student: student['grade'], reverse=True)\n",
        "print(sorted_students)"
      ],
      "metadata": {
        "colab": {
          "base_uri": "https://localhost:8080/"
        },
        "id": "fuFC0YLKXetV",
        "outputId": "12737f94-e02f-4748-c071-6118d49c6ea0"
      },
      "execution_count": 3,
      "outputs": [
        {
          "output_type": "stream",
          "name": "stdout",
          "text": [
            "25\n",
            "[1, 4, 9, 16, 25]\n",
            "7\n",
            "[{'name': 'Bob', 'grade': 92}, {'name': 'Alice', 'grade': 85}, {'name': 'Charlie', 'grade': 78}]\n"
          ]
        }
      ]
    },
    {
      "cell_type": "code",
      "source": [
        "# 표준 라이브러리 임포트\n",
        "import math\n",
        "import random\n",
        "import datetime\n",
        "\n",
        "# 특정 함수만 임포트\n",
        "from math import sqrt, pi\n",
        "\n",
        "# 별칭(alias) 사용\n",
        "import numpy as np\n",
        "import pandas as pd\n",
        "\n",
        "# 모듈 내 함수 사용 예시\n",
        "print(math.sin(math.pi/2))  # 삼각함수\n",
        "print(random.randint(1, 100))  # 랜덤 정수\n",
        "print(datetime.date.today())  # 오늘 날짜"
      ],
      "metadata": {
        "colab": {
          "base_uri": "https://localhost:8080/"
        },
        "id": "0WyzeWWKXgtk",
        "outputId": "2f68298e-08d6-40c7-e20c-461496cfddd4"
      },
      "execution_count": 4,
      "outputs": [
        {
          "output_type": "stream",
          "name": "stdout",
          "text": [
            "1.0\n",
            "84\n",
            "2025-04-29\n"
          ]
        }
      ]
    },
    {
      "cell_type": "code",
      "source": [
        "# 기본 함수 정의\n",
        "def greet(name):\n",
        "    return f\"Hello, {name}!\"\n",
        "\n",
        "print(greet(\"World\"))\n",
        "\n",
        "# 디폴트 매개변수\n",
        "def power(base, exponent=2):\n",
        "    return base ** exponent\n",
        "\n",
        "print(power(3))      # 9 (기본 제곱)\n",
        "print(power(3, 3))   # 27 (3의 3제곱)\n",
        "\n",
        "# 가변 인자 함수\n",
        "def sum_all(*args):\n",
        "    return sum(args)\n",
        "\n",
        "print(sum_all(1, 2, 3, 4, 5))\n",
        "\n",
        "# 키워드 인자 함수\n",
        "def create_profile(**kwargs):\n",
        "    return kwargs\n",
        "\n",
        "profile = create_profile(name=\"Alice\", age=30, city=\"New York\")\n",
        "print(profile)\n",
        "\n",
        "# 복합 함수\n",
        "def calculate(operation, x, y):\n",
        "    if operation == 'add':\n",
        "        return x + y\n",
        "    elif operation == 'multiply':\n",
        "        return x * y\n",
        "    else:\n",
        "        return None\n",
        "\n",
        "print(calculate('add', 5, 3))       # 8\n",
        "print(calculate('multiply', 4, 2))  # 8"
      ],
      "metadata": {
        "colab": {
          "base_uri": "https://localhost:8080/"
        },
        "id": "DyqJ5rhLXhdy",
        "outputId": "5a7fe89f-f324-48d4-945b-2e6ebe8c1a85"
      },
      "execution_count": 5,
      "outputs": [
        {
          "output_type": "stream",
          "name": "stdout",
          "text": [
            "Hello, World!\n",
            "9\n",
            "27\n",
            "15\n",
            "{'name': 'Alice', 'age': 30, 'city': 'New York'}\n",
            "8\n",
            "8\n"
          ]
        }
      ]
    }
  ]
}
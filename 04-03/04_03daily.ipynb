{
  "nbformat": 4,
  "nbformat_minor": 0,
  "metadata": {
    "colab": {
      "provenance": []
    },
    "kernelspec": {
      "name": "python3",
      "display_name": "Python 3"
    },
    "language_info": {
      "name": "python"
    }
  },
  "cells": [
    {
      "cell_type": "code",
      "execution_count": 1,
      "metadata": {
        "colab": {
          "base_uri": "https://localhost:8080/"
        },
        "id": "QMntZOPuI32Z",
        "outputId": "7c8ea561-d718-4e02-d8ef-1edc9bf42dc8"
      },
      "outputs": [
        {
          "output_type": "stream",
          "name": "stdout",
          "text": [
            "벡터의 합: [4, 6]\n",
            "벡터의 차: [-2, -2]\n",
            "v1의 크기: 2.23606797749979\n",
            "v2의 2배: [6, 8]\n",
            "벡터의 내적: 5\n",
            "단위 벡터: [0.6, 0.8]\n",
            "직교 여부: True\n",
            "유클리드 거리: 5.0\n",
            "차 벡터: [3, 4]\n",
            "코사인 유사도: 0.9922778767136677\n",
            "3D 벡터 내적: 2\n",
            "3D 벡터 코사인 값: 0.3779644730092272\n",
            "3D 벡터 직교 여부: False\n",
            "doc1과 doc2 유사도: 0.9430225158385255\n",
            "doc1과 doc3 유사도: 0.47589294144929556\n"
          ]
        }
      ],
      "source": [
        "import math\n",
        "import numpy as np\n",
        "\n",
        "# 1. 벡터의 기본 연산\n",
        "v1 = [1, 2]\n",
        "v2 = [3, 4]\n",
        "\n",
        "# 1-1. 두 벡터의 합\n",
        "sum_vector = [v1[0] + v2[0], v1[1] + v2[1]]\n",
        "print(\"벡터의 합:\", sum_vector)\n",
        "\n",
        "# 1-2. 두 벡터의 차\n",
        "diff_vector = [v1[0] - v2[0], v1[1] - v2[1]]\n",
        "print(\"벡터의 차:\", diff_vector)\n",
        "\n",
        "# 1-3. v1의 크기 (norm)\n",
        "v1_norm = math.sqrt(v1[0]**2 + v1[1]**2)\n",
        "print(\"v1의 크기:\", v1_norm)\n",
        "\n",
        "# 1-4. v2의 2배 스칼라 곱\n",
        "scalar_mult = [v2[0]*2, v2[1]*2]\n",
        "print(\"v2의 2배:\", scalar_mult)\n",
        "\n",
        "# 2. 벡터의 내적\n",
        "v1 = [2, 3]\n",
        "v2 = [4, -1]\n",
        "dot_product = v1[0]*v2[0] + v1[1]*v2[1]\n",
        "print(\"벡터의 내적:\", dot_product)\n",
        "\n",
        "# 3. 단위 벡터\n",
        "v = [3, 4]\n",
        "v_norm = math.sqrt(v[0]**2 + v[1]**2)\n",
        "unit_vector = [v[0]/v_norm, v[1]/v_norm]\n",
        "print(\"단위 벡터:\", unit_vector)\n",
        "\n",
        "# 4. 직교 여부 확인\n",
        "v1 = [1, 2]\n",
        "v2 = [2, -1]\n",
        "dot_product = v1[0]*v2[0] + v1[1]*v2[1]\n",
        "is_orthogonal = dot_product == 0\n",
        "print(\"직교 여부:\", is_orthogonal)\n",
        "\n",
        "# 5. 위치 벡터 거리\n",
        "p1 = [1, 2]\n",
        "p2 = [4, 6]\n",
        "# 5-1. 유클리드 거리\n",
        "distance = math.sqrt((p2[0]-p1[0])**2 + (p2[1]-p1[1])**2)\n",
        "print(\"유클리드 거리:\", distance)\n",
        "\n",
        "# 5-2. 차 벡터\n",
        "diff_vector = [p2[0]-p1[0], p2[1]-p1[1]]\n",
        "print(\"차 벡터:\", diff_vector)\n",
        "\n",
        "# 6. 코사인 유사도\n",
        "v1 = [1, 2]\n",
        "v2 = [2, 3]\n",
        "dot_product = v1[0]*v2[0] + v1[1]*v2[1]\n",
        "v1_norm = math.sqrt(v1[0]**2 + v1[1]**2)\n",
        "v2_norm = math.sqrt(v2[0]**2 + v2[1]**2)\n",
        "cosine_similarity = dot_product / (v1_norm * v2_norm)\n",
        "print(\"코사인 유사도:\", cosine_similarity)\n",
        "\n",
        "# 7. 3차원 벡터\n",
        "v1 = [1, 2, 3]\n",
        "v2 = [-1, 0, 1]\n",
        "# 7-1. 내적\n",
        "dot_product_3d = v1[0]*v2[0] + v1[1]*v2[1] + v1[2]*v2[2]\n",
        "print(\"3D 벡터 내적:\", dot_product_3d)\n",
        "\n",
        "# 7-2. 코사인 값\n",
        "v1_norm = math.sqrt(v1[0]**2 + v1[1]**2 + v1[2]**2)\n",
        "v2_norm = math.sqrt(v2[0]**2 + v2[1]**2 + v2[2]**2)\n",
        "cos_theta = dot_product_3d / (v1_norm * v2_norm)\n",
        "print(\"3D 벡터 코사인 값:\", cos_theta)\n",
        "\n",
        "# 7-3. 직교 여부\n",
        "is_orthogonal_3d = dot_product_3d == 0\n",
        "print(\"3D 벡터 직교 여부:\", is_orthogonal_3d)\n",
        "\n",
        "# 8. 문서 유사도\n",
        "doc1 = [0.1, 0.3, 0.6]\n",
        "doc2 = [0.2, 0.1, 0.7]\n",
        "doc3 = [0.9, 0.8, 0.1]\n",
        "\n",
        "# 코사인 유사도 함수\n",
        "def cosine_similarity(v1, v2):\n",
        "    dot_product = sum(x*y for x, y in zip(v1, v2))\n",
        "    v1_norm = math.sqrt(sum(x**2 for x in v1))\n",
        "    v2_norm = math.sqrt(sum(x**2 for x in v2))\n",
        "    return dot_product / (v1_norm * v2_norm)\n",
        "\n",
        "cos_sim_doc1_doc2 = cosine_similarity(doc1, doc2)\n",
        "cos_sim_doc1_doc3 = cosine_similarity(doc1, doc3)\n",
        "\n",
        "print(\"doc1과 doc2 유사도:\", cos_sim_doc1_doc2)\n",
        "print(\"doc1과 doc3 유사도:\", cos_sim_doc1_doc3)"
      ]
    },
    {
      "cell_type": "markdown",
      "source": [
        "doc2가 더 유사하다"
      ],
      "metadata": {
        "id": "6XUHIIUvacmv"
      }
    },
    {
      "cell_type": "code",
      "source": [],
      "metadata": {
        "id": "wqXftTVhI7lq"
      },
      "execution_count": null,
      "outputs": []
    }
  ]
}
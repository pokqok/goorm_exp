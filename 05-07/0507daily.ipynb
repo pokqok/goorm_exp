{
  "cells": [
    {
      "cell_type": "markdown",
      "id": "430a42e7",
      "metadata": {
        "id": "430a42e7"
      },
      "source": [
        "# 🦸‍♂️ 슈퍼히어로 팀 빌딩 - 범주형 데이터를 활용한 팀 분류 모델 구축하기\n",
        "---\n",
        "### 🏰 **배경 스토리:**\n",
        "당신은 **슈퍼히어로 에이전시**의 데이터 분석가입니다. 에이전시에서는 슈퍼히어로들의 특성과 능력치를 기반으로 팀을 분류하려고 합니다.\n",
        "당신의 임무는 **슈퍼히어로 데이터셋을 활용하여 슈퍼히어로를 특정 팀(예: 어벤져스, 저스티스 리그 등)**으로 분류하는 **딥뉴럴넷 모델을 설계하고 학습**시키는 것입니다."
      ]
    },
    {
      "cell_type": "markdown",
      "id": "e2c014a5",
      "metadata": {
        "id": "e2c014a5"
      },
      "source": [
        "### 📂 **사용 데이터셋:**\n",
        "- **Superhero Dataset:**\n",
        "  - 각 슈퍼히어로의 특성(예: Strength, Intelligence, Speed, Agility 등)과 팀 정보가 포함된 CSV 파일\n",
        "  - 범주형 칼럼: **Team, Alignment, Gender**\n",
        "  - 연속형 칼럼: **Strength, Intelligence, Speed, Durability, Power, Combat**"
      ]
    },
    {
      "cell_type": "markdown",
      "id": "f170ae5d",
      "metadata": {
        "id": "f170ae5d"
      },
      "source": [
        "### 🎯 **미션 목표:**\n",
        "1. **데이터 전처리:**\n",
        "   - 범주형 데이터는 `nn.Embedding`을 활용하여 임베딩 벡터로 변환  \n",
        "   - 연속형 데이터는 정규화 또는 표준화 적용  \n",
        "   - 범주형 및 연속형 데이터를 병합하여 최종 입력 데이터셋 구성  \n",
        "\n",
        "2. **모델 설계:**\n",
        "   - 입력: 범주형 + 연속형 데이터 병합  \n",
        "   - 은닉층: `nn.Linear`, `nn.ReLU`, `nn.BatchNorm1d`  \n",
        "   - 출력층: 분류를 위한 `nn.Softmax` 사용  \n",
        "   - 모델 구조를 텐서보드에 시각화하기  \n",
        "\n",
        "3. **모델 학습:**\n",
        "   - 학습 과정의 Loss 및 Accuracy를 텐서보드로 실시간 시각화  \n",
        "   - 학습 완료 후, Confusion Matrix를 시각화하여 분류 성능 확인  \n",
        "\n",
        "4. **결과 분석:**\n",
        "   - 가장 잘 분류된 슈퍼히어로와 가장 오분류된 슈퍼히어로를 시각화하여 보고  \n",
        "   - 텐서보드에서 학습 곡선과 임베딩 벡터의 시각화 비교  \n"
      ]
    },
    {
      "cell_type": "markdown",
      "id": "61fedc91",
      "metadata": {
        "id": "61fedc91"
      },
      "source": [
        "🧑‍💻 실습 가이드라인:\n",
        "1. 데이터셋 준비:\n",
        "슈퍼히어로 데이터셋을 pandas로 로드하고, 범주형 칼럼들을 astype('category')로 변환\n",
        "\n",
        "범주형 칼럼의 고유값 수를 기반으로 임베딩 크기 계산\n",
        "\n",
        "2. 모델 구현:\n",
        "임베딩 레이어: 각 범주형 칼럼에 대해 임베딩 벡터를 생성\n",
        "\n",
        "연속형 데이터는 torch.tensor()로 변환하여 병합\n",
        "\n",
        "은닉층 구성: nn.Linear, nn.ReLU, nn.BatchNorm1d, nn.Dropout\n",
        "\n",
        "출력층: nn.Softmax로 다중 클래스 분류\n",
        "\n",
        "3. 텐서보드 시각화:\n",
        "학습 과정에서 torch.utils.tensorboard를 활용하여 Loss 및 Accuracy 시각화\n",
        "\n",
        "Confusion Matrix 및 임베딩 벡터 시각화"
      ]
    },
    {
      "cell_type": "code",
      "source": [
        "# 데이터셋 준비\n",
        "import torch\n",
        "import torch.nn as nn\n",
        "import torch.optim as optim\n",
        "from torch.utils.tensorboard import SummaryWriter\n",
        "import pandas as pd\n",
        "import numpy as np\n",
        "from sklearn.model_selection import train_test_split\n",
        "from sklearn.preprocessing import LabelEncoder, StandardScaler\n",
        "from sklearn.metrics import confusion_matrix, accuracy_score\n",
        "import matplotlib.pyplot as plt\n",
        "import seaborn as sns\n",
        "\n",
        "# 데이터 로드\n",
        "df = pd.read_csv('/content/superhero_dataset.csv')\n",
        "\n",
        "print(\"데이터 셋 정보: \")\n",
        "print(df.info())\n",
        "\n",
        "# 범주형 칼럼\n",
        "categorical_columns = ['Team', 'Alignment', 'Gender']\n",
        "for col in categorical_columns:\n",
        "    print(f\"\\n{col} 고유값:\")\n",
        "    print(df[col].value_counts())"
      ],
      "metadata": {
        "colab": {
          "base_uri": "https://localhost:8080/"
        },
        "id": "-Tbd7phHNKcc",
        "outputId": "50279846-6a1e-488d-b54c-0d4eafc557b3"
      },
      "id": "-Tbd7phHNKcc",
      "execution_count": 24,
      "outputs": [
        {
          "output_type": "stream",
          "name": "stdout",
          "text": [
            "데이터 셋 정보: \n",
            "<class 'pandas.core.frame.DataFrame'>\n",
            "RangeIndex: 500 entries, 0 to 499\n",
            "Data columns (total 9 columns):\n",
            " #   Column        Non-Null Count  Dtype \n",
            "---  ------        --------------  ----- \n",
            " 0   Team          500 non-null    object\n",
            " 1   Alignment     500 non-null    object\n",
            " 2   Gender        500 non-null    object\n",
            " 3   Strength      500 non-null    int64 \n",
            " 4   Intelligence  500 non-null    int64 \n",
            " 5   Speed         500 non-null    int64 \n",
            " 6   Durability    500 non-null    int64 \n",
            " 7   Power         500 non-null    int64 \n",
            " 8   Combat        500 non-null    int64 \n",
            "dtypes: int64(6), object(3)\n",
            "memory usage: 35.3+ KB\n",
            "None\n",
            "\n",
            "Team 고유값:\n",
            "Team\n",
            "Fantastic Four    112\n",
            "Avengers          109\n",
            "Justice League     95\n",
            "Guardians          93\n",
            "X-Men              91\n",
            "Name: count, dtype: int64\n",
            "\n",
            "Alignment 고유값:\n",
            "Alignment\n",
            "Good       175\n",
            "Neutral    166\n",
            "Evil       159\n",
            "Name: count, dtype: int64\n",
            "\n",
            "Gender 고유값:\n",
            "Gender\n",
            "Other     173\n",
            "Male      167\n",
            "Female    160\n",
            "Name: count, dtype: int64\n"
          ]
        }
      ]
    },
    {
      "cell_type": "code",
      "source": [
        "# 데이터 전처리\n",
        "#범주형 데이터 인코딩\n",
        "label_encoders = {}\n",
        "for col in categorical_columns:\n",
        "    le = LabelEncoder()\n",
        "    df[f'{col}_encoded'] = le.fit_transform(df[col].astype(str))\n",
        "    label_encoders[col] = le\n",
        "\n",
        "# 연속형 데이터 정규화\n",
        "continuous_columns = ['Strength', 'Intelligence', 'Speed', 'Durability', 'Power', 'Combat']\n",
        "scaler = StandardScaler()\n",
        "df[continuous_columns] = scaler.fit_transform(df[continuous_columns])\n",
        "\n",
        "# 타켓 변수 설정\n",
        "target_column = 'Team_encoded'\n",
        "\n",
        "# 특성, 타겟 분리\n",
        "X_categorical = df[[f'{col}_encoded' for col in categorical_columns]].values\n",
        "X_continuous = df[continuous_columns].values\n",
        "y = df[target_column].values\n",
        "\n",
        "# 훈련, 테스트 분리\n",
        "X_cat_train, X_cat_test, X_cont_train, X_cont_test, y_train, y_test = train_test_split(\n",
        "    X_categorical, X_continuous, y, test_size=0.2, random_state=42\n",
        ")\n",
        "\n",
        "# 텐서로 변환\n",
        "X_cat_train = torch.LongTensor(X_cat_train)\n",
        "X_cat_test = torch.LongTensor(X_cat_test)\n",
        "X_cont_train = torch.FloatTensor(X_cont_train)\n",
        "X_cont_test = torch.FloatTensor(X_cont_test)\n",
        "y_train = torch.LongTensor(y_train)\n",
        "y_test = torch.LongTensor(y_test)\n",
        "\n",
        "#임베딩 크기 계산\n",
        "embedding_sizes = [len(np.unique(df[col])) for col in categorical_columns]"
      ],
      "metadata": {
        "id": "sKARRcVRQydO"
      },
      "id": "sKARRcVRQydO",
      "execution_count": 25,
      "outputs": []
    },
    {
      "cell_type": "code",
      "source": [
        "# 모델 설계\n",
        "class SuperheroClassifier(nn.Module):\n",
        "    def __init__(self, categorical_embedding_sizes, num_continuous_features, num_classes):\n",
        "        super().__init__()\n",
        "\n",
        "        # 범주형 임베딩\n",
        "        self.embeddings = nn.ModuleList([\n",
        "            nn.Embedding(size, min(50, (size + 1) // 2))\n",
        "            for size in categorical_embedding_sizes\n",
        "        ])\n",
        "\n",
        "        # 임베딩 + 연속형 특성 총 크기 계산\n",
        "        total_embedding_size = sum(emb.embedding_dim for emb in self.embeddings)\n",
        "        input_size = total_embedding_size + num_continuous_features\n",
        "\n",
        "        # 신경망 레이어\n",
        "        self.network = nn.Sequential(\n",
        "            nn.Linear(input_size, 128),\n",
        "            nn.BatchNorm1d(128),\n",
        "            nn.ReLU(),\n",
        "            nn.Dropout(0.3),\n",
        "            nn.Linear(128, 64),\n",
        "            nn.BatchNorm1d(64),\n",
        "            nn.ReLU(),\n",
        "            nn.Dropout(0.3),\n",
        "            nn.Linear(64, num_classes)\n",
        "        )\n",
        "\n",
        "    def forward(self, categorical_x, continuous_x):\n",
        "        # 범주형 데이터 임베딩\n",
        "        embeddings = [emb(categorical_x[:, i]) for i, emb in enumerate(self.embeddings)]\n",
        "        embedded = torch.cat(embeddings, dim=1)\n",
        "\n",
        "        # 임베딩 + 연속형 특성 결합\n",
        "        x = torch.cat([embedded, continuous_x], dim=1)\n",
        "\n",
        "        return self.network(x)\n",
        "\n",
        "# 모델 초기화\n",
        "num_classes = len(np.unique(y))\n",
        "model = SuperheroClassifier(\n",
        "    categorical_embedding_sizes=embedding_sizes,\n",
        "    num_continuous_features=len(continuous_columns),\n",
        "    num_classes=num_classes\n",
        ")"
      ],
      "metadata": {
        "id": "c7hXxDauU12-"
      },
      "id": "c7hXxDauU12-",
      "execution_count": 26,
      "outputs": []
    },
    {
      "cell_type": "code",
      "source": [
        "# 모델 학습 및 평가\n",
        "# 손실 함수 및 옵티마이저 설정\n",
        "criterion = nn.CrossEntropyLoss()\n",
        "optimizer = optim.Adam(model.parameters(), lr=0.001)\n",
        "\n",
        "# 텐서보드 writer 설정\n",
        "writer = SummaryWriter('runs/superhero_classification')\n",
        "\n",
        "# 학습 파라미터\n",
        "num_epochs = 100\n",
        "batch_size = 32\n",
        "\n",
        "# 배치 생성 함수\n",
        "def create_batches(X_cat, X_cont, y, batch_size):\n",
        "    dataset_size = len(y)\n",
        "    for i in range(0, dataset_size, batch_size):\n",
        "        end = min(i + batch_size, dataset_size)\n",
        "        yield (X_cat[i:end], X_cont[i:end], y[i:end])\n",
        "\n",
        "# 학습 루프\n",
        "best_accuracy = 0\n",
        "for epoch in range(num_epochs):\n",
        "    model.train()\n",
        "    total_loss = 0\n",
        "\n",
        "    # 배치별 학습\n",
        "    for batch_cat, batch_cont, batch_y in create_batches(X_cat_train, X_cont_train, y_train, batch_size):\n",
        "        # 그래디언트 초기화\n",
        "        optimizer.zero_grad()\n",
        "\n",
        "        # 순전파\n",
        "        outputs = model(batch_cat, batch_cont)\n",
        "        loss = criterion(outputs, batch_y)\n",
        "\n",
        "        # 역전파 및 최적화\n",
        "        loss.backward()\n",
        "        optimizer.step()\n",
        "\n",
        "        total_loss += loss.item()\n",
        "\n",
        "    # 검증\n",
        "    model.eval()\n",
        "    with torch.no_grad():\n",
        "        val_outputs = model(X_cat_test, X_cont_test)\n",
        "        val_loss = criterion(val_outputs, y_test)\n",
        "        val_preds = torch.argmax(val_outputs, dim=1)\n",
        "        accuracy = accuracy_score(y_test, val_preds)\n",
        "\n",
        "        # 텐서보드에 기록\n",
        "        writer.add_scalar('Loss/train', total_loss/len(X_cat_train), epoch)\n",
        "        writer.add_scalar('Loss/validation', val_loss.item(), epoch)\n",
        "        writer.add_scalar('Accuracy/validation', accuracy, epoch)\n",
        "\n",
        "    # 최고 모델 저장\n",
        "    if accuracy > best_accuracy:\n",
        "        best_accuracy = accuracy\n",
        "        torch.save(model.state_dict(), 'best_superhero_model.pth')\n",
        "\n",
        "    # 진행 상황 출력\n",
        "    if epoch % 10 == 0:\n",
        "        print(f'Epoch [{epoch}/{num_epochs}], '\n",
        "              f'Train Loss: {total_loss/len(X_cat_train):.4f}, '\n",
        "              f'Val Loss: {val_loss.item():.4f}, '\n",
        "              f'Val Accuracy: {accuracy:.4f}')\n",
        "\n",
        "# 텐서보드 종료\n",
        "writer.close()"
      ],
      "metadata": {
        "colab": {
          "base_uri": "https://localhost:8080/"
        },
        "id": "DMVYbuaFqSbs",
        "outputId": "0b22d21a-1832-4f4c-99e2-bbe5c20a2152"
      },
      "id": "DMVYbuaFqSbs",
      "execution_count": 27,
      "outputs": [
        {
          "output_type": "stream",
          "name": "stdout",
          "text": [
            "Epoch [0/100], Train Loss: 0.0441, Val Loss: 1.2846, Val Accuracy: 0.6800\n",
            "Epoch [10/100], Train Loss: 0.0079, Val Loss: 0.1869, Val Accuracy: 1.0000\n",
            "Epoch [20/100], Train Loss: 0.0018, Val Loss: 0.0161, Val Accuracy: 1.0000\n",
            "Epoch [30/100], Train Loss: 0.0009, Val Loss: 0.0049, Val Accuracy: 1.0000\n",
            "Epoch [40/100], Train Loss: 0.0006, Val Loss: 0.0023, Val Accuracy: 1.0000\n",
            "Epoch [50/100], Train Loss: 0.0004, Val Loss: 0.0013, Val Accuracy: 1.0000\n",
            "Epoch [60/100], Train Loss: 0.0002, Val Loss: 0.0007, Val Accuracy: 1.0000\n",
            "Epoch [70/100], Train Loss: 0.0002, Val Loss: 0.0004, Val Accuracy: 1.0000\n",
            "Epoch [80/100], Train Loss: 0.0001, Val Loss: 0.0003, Val Accuracy: 1.0000\n",
            "Epoch [90/100], Train Loss: 0.0001, Val Loss: 0.0002, Val Accuracy: 1.0000\n"
          ]
        }
      ]
    },
    {
      "cell_type": "code",
      "source": [
        "# 모델 평가 및 시각화\n",
        "# 최고 모델 로드\n",
        "model.load_state_dict(torch.load('best_superhero_model.pth'))\n",
        "model.eval()\n",
        "\n",
        "# 최종 예측\n",
        "with torch.no_grad():\n",
        "    final_outputs = model(X_cat_test, X_cont_test)\n",
        "    final_preds = torch.argmax(final_outputs, dim=1)\n",
        "\n",
        "# 혼동 행렬 생성\n",
        "\n",
        "cm = confusion_matrix(y_test, final_preds)\n",
        "# 혼동 행렬 시각화\n",
        "plt.figure(figsize=(10,8))\n",
        "team_labels = label_encoders['Team'].classes_\n",
        "sns.heatmap(cm, annot=True, fmt='d', xticklabels=team_labels, yticklabels=team_labels)\n",
        "plt.title('Superhero Team Classification Confusion Matrix')\n",
        "plt.xlabel('Predicted Label')\n",
        "plt.ylabel('True Label')\n",
        "plt.xticks(rotation=45)\n",
        "plt.tight_layout()\n",
        "plt.show()\n",
        "plt.savefig('confusion_matrix.png')\n",
        "plt.close()\n",
        "\n",
        "# 분류 리포트\n",
        "from sklearn.metrics import classification_report\n",
        "print(\"분류 리포트:\")\n",
        "print(classification_report(y_test, final_preds, target_names=team_labels))\n",
        "\n",
        "# 잘못 분류된 샘플 분석\n",
        "misclassified_indices = np.where(y_test != final_preds)[0]\n",
        "print(\"\\n잘못 분류된 샘플 수:\", len(misclassified_indices))\n",
        "\n",
        "# 상위 5개 잘못 분류된 샘플 출력\n",
        "print(\"\\n잘못 분류된 상위 5개 샘플:\")\n",
        "for idx in misclassified_indices[:5]:\n",
        "    true_team = team_labels[y_test[idx]]\n",
        "    predicted_team = team_labels[final_preds[idx]]\n",
        "    print(f\"True Team: {true_team}, Predicted Team: {predicted_team}\")"
      ],
      "metadata": {
        "colab": {
          "base_uri": "https://localhost:8080/",
          "height": 1000
        },
        "id": "xIOM8y05qbbQ",
        "outputId": "a4d1bad8-60a3-466c-f2d9-5611a3222acc"
      },
      "id": "xIOM8y05qbbQ",
      "execution_count": 29,
      "outputs": [
        {
          "output_type": "display_data",
          "data": {
            "text/plain": [
              "<Figure size 1000x800 with 2 Axes>"
            ],
            "image/png": "[encoded data removed]"
          },
          "metadata": {}
        },
        {
          "output_type": "stream",
          "name": "stdout",
          "text": [
            "분류 리포트:\n",
            "                precision    recall  f1-score   support\n",
            "\n",
            "      Avengers       1.00      1.00      1.00        28\n",
            "Fantastic Four       1.00      1.00      1.00        22\n",
            "     Guardians       1.00      1.00      1.00        18\n",
            "Justice League       1.00      1.00      1.00        19\n",
            "         X-Men       1.00      1.00      1.00        13\n",
            "\n",
            "      accuracy                           1.00       100\n",
            "     macro avg       1.00      1.00      1.00       100\n",
            "  weighted avg       1.00      1.00      1.00       100\n",
            "\n",
            "\n",
            "잘못 분류된 샘플 수: 0\n",
            "\n",
            "잘못 분류된 상위 5개 샘플:\n"
          ]
        }
      ]
    },
    {
      "cell_type": "markdown",
      "id": "168d9331",
      "metadata": {
        "id": "168d9331"
      },
      "source": [
        "✅ 보너스 미션:\n",
        "새로운 슈퍼히어로의 특성을 입력받아 팀을 예측하는 인터랙티브 입력 기능을 구현\n",
        "\n",
        "잘못 분류된 슈퍼히어로의 특성 분석 및 해당 샘플의 임베딩 벡터 시각화"
      ]
    },
    {
      "cell_type": "code",
      "execution_count": null,
      "id": "3691c7da",
      "metadata": {
        "id": "3691c7da"
      },
      "outputs": [],
      "source": [
        "import torch\n",
        "import torch.nn as nn\n",
        "import torch.optim as optim\n",
        "from torch.utils.tensorboard import SummaryWriter\n",
        "import pandas as pd\n",
        "import numpy as np\n",
        "from sklearn.model_selection import train_test_split\n",
        "from sklearn.preprocessing import LabelEncoder, StandardScaler\n",
        "from sklearn.metrics import confusion_matrix, accuracy_score\n",
        "import matplotlib.pyplot as plt\n",
        "import seaborn as sns\n",
        "import os\n",
        "\n",
        "# 텐서보드 설정\n",
        "writer = SummaryWriter('runs/superhero_classification')"
      ]
    }
  ],
  "metadata": {
    "language_info": {
      "name": "python"
    },
    "colab": {
      "provenance": []
    },
    "kernelspec": {
      "name": "python3",
      "display_name": "Python 3"
    }
  },
  "nbformat": 4,
  "nbformat_minor": 5
}
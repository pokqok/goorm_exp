{
 "cells": [
  {
   "cell_type": "markdown",
   "id": "7dac56e4",
   "metadata": {},
   "source": [
    "# 문제 1. 배열의 합 구하기"
   ]
  },
  {
   "cell_type": "markdown",
   "id": "9fd97e9d",
   "metadata": {},
   "source": [
    "**문제 설명:**\n",
    "\n",
    "정수로 구성된 배열이 주어졌을 때, 배열의 합을 구하는 최적의 함수를 작성하시오.\n",
    "\n",
    "입력 예시: [1, 2, 3, 4, 5]\n",
    "출력 예시: 15"
   ]
  },
  {
   "cell_type": "code",
   "execution_count": 2,
   "id": "9ca3b2ad",
   "metadata": {},
   "outputs": [
    {
     "name": "stdout",
     "output_type": "stream",
     "text": [
      "778\n"
     ]
    }
   ],
   "source": [
    "n = list(map(int, input().split()))\n",
    "result = sum(n)\n",
    "print(result)\n"
   ]
  },
  {
   "cell_type": "markdown",
   "id": "ec3b8d7e",
   "metadata": {},
   "source": [
    "# 문제 2. 배열 뒤집기"
   ]
  },
  {
   "cell_type": "markdown",
   "id": "38b37ca1",
   "metadata": {},
   "source": [
    "**문제 설명:**\n",
    "\n",
    "주어진 배열을 뒤집은 새로운 배열을 반환하는 함수를 2가지 이상의 구현방식으로 작성하고 이들간의 특성을 비교해보하시오.\n",
    "\n",
    "입력 예시: [1, 2, 3, 4]\n",
    "출력 예시: [4, 3, 2, 1]"
   ]
  },
  {
   "cell_type": "code",
   "execution_count": null,
   "id": "f0c1a3e4",
   "metadata": {},
   "outputs": [
    {
     "name": "stdout",
     "output_type": "stream",
     "text": [
      "원본 배열: [1, 2, 3, 4, 5]\n",
      "리스트 슬라이싱 결과: [5, 4, 3, 2, 1]\n",
      "reversed() 함수 결과: [5, 4, 3, 2, 1]\n",
      "\n",
      "성능 측정 결과:\n",
      "리스트 슬라이싱 실행 시간: 11.5955 ms\n",
      "reversed() 함수 실행 시간: 23.4241 ms\n"
     ]
    }
   ],
   "source": [
    "import time\n",
    "\n",
    "# 방법 1: 리스트 슬라이싱\n",
    "def reverse_array1(arr):\n",
    "    return arr[::-1]\n",
    "\n",
    "# 방법 2: reversed() 함수\n",
    "def reverse_array2(arr):\n",
    "    return list(reversed(arr))\n",
    "\n",
    "# 성능 측정 함수\n",
    "def measure_performance(func, arr, iterations=100000):\n",
    "    start_time = time.time()\n",
    "    \n",
    "    for _ in range(iterations):\n",
    "        func(arr)\n",
    "    \n",
    "    end_time = time.time()\n",
    "    return (end_time - start_time) * 1000  # 밀리초로 변환\n",
    "\n",
    "def main():\n",
    "    n = list(map(int, input().split()))\n",
    "\n",
    "    # 결과 출력\n",
    "    print(\"원본 배열:\", n)\n",
    "    print(\"리스트 슬라이싱 결과:\", reverse_array1(n))\n",
    "    print(\"reversed() 함수 결과:\", reverse_array2(n))\n",
    "\n",
    "    # 성능 측정\n",
    "    slice_time = measure_performance(reverse_array1, n)\n",
    "    reversed_time = measure_performance(reverse_array2, n)\n",
    "\n",
    "    print(\"\\n성능 측정 결과:\")\n",
    "    print(f\"리스트 슬라이싱 실행 시간: {slice_time:.4f} ms\")\n",
    "    print(f\"reversed() 함수 실행 시간: {reversed_time:.4f} ms\")\n",
    "\n",
    "if __name__ == \"__main__\":\n",
    "    main()"
   ]
  },
  {
   "cell_type": "markdown",
   "id": "4e03e35f",
   "metadata": {},
   "source": [
    "# 문제 3. 10진수를 2진수로 변환하기"
   ]
  },
  {
   "cell_type": "markdown",
   "id": "15406f07",
   "metadata": {},
   "source": [
    "**문제 설명:**\n",
    "\n",
    "0 이상의 10진수 정수를 입력 받아 2진수 문자열로 반환하는 함수를 작성하시오.\n",
    "\n",
    "입력 예시: 13\n",
    "출력 예시: '1101'"
   ]
  },
  {
   "cell_type": "code",
   "execution_count": 4,
   "id": "8e5736d1",
   "metadata": {},
   "outputs": [
    {
     "name": "stdout",
     "output_type": "stream",
     "text": [
      "1101\n"
     ]
    }
   ],
   "source": [
    "n = int(input())\n",
    "binary = ''\n",
    "\n",
    "while n > 0:\n",
    "    binary = str(n % 2) + binary  # 나머지를 앞에 추가\n",
    "    n //= 2\n",
    "\n",
    "# 0일 경우 예외 처리\n",
    "if binary == '':\n",
    "    binary = '0'\n",
    "\n",
    "# 결과 출력\n",
    "print(binary)"
   ]
  },
  {
   "cell_type": "markdown",
   "id": "81ab20a6",
   "metadata": {},
   "source": [
    "# 문제 4. 2진수를 10진수로 변환하기"
   ]
  },
  {
   "cell_type": "markdown",
   "id": "0bae5b92",
   "metadata": {},
   "source": [
    "**문제 설명:**\n",
    "\n",
    "2진수 문자열을 입력 받아 10진수 정수로 반환하는 함수를 작성하시오.\n",
    "\n",
    "입력 예시: '1101'\n",
    "출력 예시: 13"
   ]
  },
  {
   "cell_type": "code",
   "execution_count": 5,
   "id": "2a9dbad9",
   "metadata": {},
   "outputs": [
    {
     "name": "stdout",
     "output_type": "stream",
     "text": [
      "1976\n"
     ]
    }
   ],
   "source": [
    "binary = input()\n",
    "decimal = 0\n",
    "power = 0\n",
    "\n",
    "# 문자열 뒤에서부터 순회\n",
    "for digit in reversed(binary):\n",
    "    # 각 자리수에 2의 거듭제곱 곱해서 합산\n",
    "    decimal += int(digit) * (2 ** power)\n",
    "    power += 1\n",
    "\n",
    "# 결과 출력\n",
    "print(decimal)"
   ]
  },
  {
   "cell_type": "markdown",
   "id": "42bc5142",
   "metadata": {},
   "source": [
    "# 문제 5. 소수 판별하기"
   ]
  },
  {
   "cell_type": "markdown",
   "id": "2bacbb00",
   "metadata": {},
   "source": [
    "**문제 설명:**\n",
    "\n",
    "주어진 정수가 소수(prime number)인지 확인하는 함수를 작성하시오.\n",
    "\n",
    "입력 예시: 17\n",
    "출력 예시: True"
   ]
  },
  {
   "cell_type": "code",
   "execution_count": null,
   "id": "bcfac960",
   "metadata": {},
   "outputs": [
    {
     "name": "stdout",
     "output_type": "stream",
     "text": [
      "False\n"
     ]
    }
   ],
   "source": [
    "n = int(input())\n",
    "is_prime = True\n",
    "\n",
    "# 1 이하는 소수가 아님\n",
    "if n <= 1:\n",
    "    is_prime = False\n",
    "else:\n",
    "    # 제곱근까지만 나눠보기\n",
    "    import math\n",
    "    \n",
    "    for i in range(2, int(math.sqrt(n)) + 1):\n",
    "        if n % i == 0:\n",
    "            is_prime = False\n",
    "            break\n",
    "\n",
    "# 결과 출력\n",
    "print(is_prime)"
   ]
  },
  {
   "cell_type": "markdown",
   "id": "c96372d4",
   "metadata": {},
   "source": [
    "# 문제 6. 주어진 범위에서 소수 찾기"
   ]
  },
  {
   "cell_type": "markdown",
   "id": "2c8d6086",
   "metadata": {},
   "source": [
    "**문제 설명:**\n",
    "\n",
    "주어진 범위 [start, end]에서 모든 소수를 리스트로 반환하시오.\n",
    "\n",
    "입력 예시: start = 10, end = 20\n",
    "출력 예시: [11, 13, 17, 19]"
   ]
  },
  {
   "cell_type": "code",
   "execution_count": null,
   "id": "6ab6902d",
   "metadata": {},
   "outputs": [],
   "source": [
    "start, end = map(int, input().split())\n",
    "\n",
    "# 에라토스테네스의 체 알고리즘\n",
    "def find_primes(start, end):\n",
    "    # 소수 판별 리스트 생성\n",
    "    sieve = [True] * (end + 1)\n",
    "    sieve[0] = sieve[1] = False\n",
    "    \n",
    "    # 제곱근까지만 체크\n",
    "    for i in range(2, int(end**0.5) + 1):\n",
    "        if sieve[i]:\n",
    "            # i의 배수들은 모두 소수 아님\n",
    "            for j in range(i*i, end + 1, i):\n",
    "                sieve[j] = False\n",
    "    \n",
    "    # 주어진 범위의 소수 리스트 생성\n",
    "    primes = [num for num in range(max(2, start), end + 1) if sieve[num]]\n",
    "    \n",
    "    return primes\n",
    "\n",
    "print(find_primes(start, end))"
   ]
  }
 ],
 "metadata": {
  "kernelspec": {
   "display_name": "base",
   "language": "python",
   "name": "python3"
  },
  "language_info": {
   "codemirror_mode": {
    "name": "ipython",
    "version": 3
   },
   "file_extension": ".py",
   "mimetype": "text/x-python",
   "name": "python",
   "nbconvert_exporter": "python",
   "pygments_lexer": "ipython3",
   "version": "3.12.7"
  }
 },
 "nbformat": 4,
 "nbformat_minor": 5
}

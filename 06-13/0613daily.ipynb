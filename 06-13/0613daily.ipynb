{
  "cells": [
    {
      "cell_type": "markdown",
      "source": [
        "🕵️‍♂️ 'AI 탐정 봇' 미션은 **Gemini**나 **LiteLLM**을 사용해서도 충분히 해결할 수 있습니다. 각 기술의 특성에 맞게 코드를 어떻게 수정하면 되는지, 그리고 어떤 장단점이 있는지 상세히 알려드리겠습니다.\n",
        "\n",
        "-----\n",
        "\n",
        "### 🤖 Google Gemini를 사용하여 문제 해결하기\n",
        "\n",
        "Google의 강력한 멀티모달 모델인 Gemini (특히 Gemini 1.5 Pro)를 사용하면 OpenAI와 동일한, 혹은 더 뛰어난 성능으로 미션을 수행할 수 있습니다. Google AI Python SDK를 사용하며, 코드 구조가 조금 달라집니다.\n",
        "\n",
        "**사전 준비:**\n",
        "\n",
        "1.  **Google AI API 키 발급:** [Google AI Studio](https://aistudio.google.com/app/apikey)에서 API 키를 발급받으세요.\n",
        "2.  **라이브러리 설치:**\n",
        "    ```bash\n",
        "    pip install google-generativeai pillow requests\n",
        "    ```\n",
        "3.  **API 키 설정 (Colab 보안 비밀 추천):**\n",
        "      * **이름:** `GOOGLE_API_KEY`, **값:** 발급받은 키\n",
        "\n",
        "**코드 수정 가이드:**\n",
        "\n",
        "#### **1단계: 이미지 분석 (Gemini Vision)**\n",
        "\n",
        "Gemini는 이미지와 텍스트를 함께 입력받는 방식이 조금 다릅니다. 이미지 데이터를 직접 로드해야 합니다."
      ],
      "metadata": {
        "id": "DrYdt_sW-1Eu"
      }
    },
    {
      "cell_type": "code",
      "source": [
        "!pip install google-generativeai pillow requests"
      ],
      "metadata": {
        "colab": {
          "base_uri": "https://localhost:8080/",
          "height": 897
        },
        "collapsed": true,
        "id": "lWiA2EOaFvZg",
        "outputId": "4adf8ed1-305d-45b3-d30e-8536ffc41296"
      },
      "execution_count": 1,
      "outputs": [
        {
          "output_type": "stream",
          "name": "stdout",
          "text": [
            "Requirement already satisfied: google-generativeai in /usr/local/lib/python3.11/dist-packages (0.8.5)\n",
            "Requirement already satisfied: pillow in /usr/local/lib/python3.11/dist-packages (11.2.1)\n",
            "Requirement already satisfied: requests in /usr/local/lib/python3.11/dist-packages (2.32.3)\n",
            "Collecting google-ai-generativelanguage==0.6.15 (from google-generativeai)\n",
            "  Downloading google_ai_generativelanguage-0.6.15-py3-none-any.whl.metadata (5.7 kB)\n",
            "Requirement already satisfied: google-api-core in /usr/local/lib/python3.11/dist-packages (from google-generativeai) (2.25.0)\n",
            "Requirement already satisfied: google-api-python-client in /usr/local/lib/python3.11/dist-packages (from google-generativeai) (2.171.0)\n",
            "Requirement already satisfied: google-auth>=2.15.0 in /usr/local/lib/python3.11/dist-packages (from google-generativeai) (2.38.0)\n",
            "Requirement already satisfied: protobuf in /usr/local/lib/python3.11/dist-packages (from google-generativeai) (5.29.5)\n",
            "Requirement already satisfied: pydantic in /usr/local/lib/python3.11/dist-packages (from google-generativeai) (2.11.5)\n",
            "Requirement already satisfied: tqdm in /usr/local/lib/python3.11/dist-packages (from google-generativeai) (4.67.1)\n",
            "Requirement already satisfied: typing-extensions in /usr/local/lib/python3.11/dist-packages (from google-generativeai) (4.14.0)\n",
            "Requirement already satisfied: proto-plus<2.0.0dev,>=1.22.3 in /usr/local/lib/python3.11/dist-packages (from google-ai-generativelanguage==0.6.15->google-generativeai) (1.26.1)\n",
            "Requirement already satisfied: charset-normalizer<4,>=2 in /usr/local/lib/python3.11/dist-packages (from requests) (3.4.2)\n",
            "Requirement already satisfied: idna<4,>=2.5 in /usr/local/lib/python3.11/dist-packages (from requests) (3.10)\n",
            "Requirement already satisfied: urllib3<3,>=1.21.1 in /usr/local/lib/python3.11/dist-packages (from requests) (2.4.0)\n",
            "Requirement already satisfied: certifi>=2017.4.17 in /usr/local/lib/python3.11/dist-packages (from requests) (2025.4.26)\n",
            "Requirement already satisfied: googleapis-common-protos<2.0.0,>=1.56.2 in /usr/local/lib/python3.11/dist-packages (from google-api-core->google-generativeai) (1.70.0)\n",
            "Requirement already satisfied: cachetools<6.0,>=2.0.0 in /usr/local/lib/python3.11/dist-packages (from google-auth>=2.15.0->google-generativeai) (5.5.2)\n",
            "Requirement already satisfied: pyasn1-modules>=0.2.1 in /usr/local/lib/python3.11/dist-packages (from google-auth>=2.15.0->google-generativeai) (0.4.2)\n",
            "Requirement already satisfied: rsa<5,>=3.1.4 in /usr/local/lib/python3.11/dist-packages (from google-auth>=2.15.0->google-generativeai) (4.9.1)\n",
            "Requirement already satisfied: httplib2<1.0.0,>=0.19.0 in /usr/local/lib/python3.11/dist-packages (from google-api-python-client->google-generativeai) (0.22.0)\n",
            "Requirement already satisfied: google-auth-httplib2<1.0.0,>=0.2.0 in /usr/local/lib/python3.11/dist-packages (from google-api-python-client->google-generativeai) (0.2.0)\n",
            "Requirement already satisfied: uritemplate<5,>=3.0.1 in /usr/local/lib/python3.11/dist-packages (from google-api-python-client->google-generativeai) (4.2.0)\n",
            "Requirement already satisfied: annotated-types>=0.6.0 in /usr/local/lib/python3.11/dist-packages (from pydantic->google-generativeai) (0.7.0)\n",
            "Requirement already satisfied: pydantic-core==2.33.2 in /usr/local/lib/python3.11/dist-packages (from pydantic->google-generativeai) (2.33.2)\n",
            "Requirement already satisfied: typing-inspection>=0.4.0 in /usr/local/lib/python3.11/dist-packages (from pydantic->google-generativeai) (0.4.1)\n",
            "Requirement already satisfied: grpcio<2.0.0,>=1.33.2 in /usr/local/lib/python3.11/dist-packages (from google-api-core[grpc]!=2.0.*,!=2.1.*,!=2.10.*,!=2.2.*,!=2.3.*,!=2.4.*,!=2.5.*,!=2.6.*,!=2.7.*,!=2.8.*,!=2.9.*,<3.0.0dev,>=1.34.1->google-ai-generativelanguage==0.6.15->google-generativeai) (1.72.1)\n",
            "Requirement already satisfied: grpcio-status<2.0.0,>=1.33.2 in /usr/local/lib/python3.11/dist-packages (from google-api-core[grpc]!=2.0.*,!=2.1.*,!=2.10.*,!=2.2.*,!=2.3.*,!=2.4.*,!=2.5.*,!=2.6.*,!=2.7.*,!=2.8.*,!=2.9.*,<3.0.0dev,>=1.34.1->google-ai-generativelanguage==0.6.15->google-generativeai) (1.71.0)\n",
            "Requirement already satisfied: pyparsing!=3.0.0,!=3.0.1,!=3.0.2,!=3.0.3,<4,>=2.4.2 in /usr/local/lib/python3.11/dist-packages (from httplib2<1.0.0,>=0.19.0->google-api-python-client->google-generativeai) (3.2.3)\n",
            "Requirement already satisfied: pyasn1<0.7.0,>=0.6.1 in /usr/local/lib/python3.11/dist-packages (from pyasn1-modules>=0.2.1->google-auth>=2.15.0->google-generativeai) (0.6.1)\n",
            "Downloading google_ai_generativelanguage-0.6.15-py3-none-any.whl (1.3 MB)\n",
            "\u001b[2K   \u001b[90m━━━━━━━━━━━━━━━━━━━━━━━━━━━━━━━━━━━━━━━━\u001b[0m \u001b[32m1.3/1.3 MB\u001b[0m \u001b[31m14.1 MB/s\u001b[0m eta \u001b[36m0:00:00\u001b[0m\n",
            "\u001b[?25hInstalling collected packages: google-ai-generativelanguage\n",
            "  Attempting uninstall: google-ai-generativelanguage\n",
            "    Found existing installation: google-ai-generativelanguage 0.6.18\n",
            "    Uninstalling google-ai-generativelanguage-0.6.18:\n",
            "      Successfully uninstalled google-ai-generativelanguage-0.6.18\n",
            "\u001b[31mERROR: pip's dependency resolver does not currently take into account all the packages that are installed. This behaviour is the source of the following dependency conflicts.\n",
            "langchain-google-genai 2.1.5 requires google-ai-generativelanguage<0.7.0,>=0.6.18, but you have google-ai-generativelanguage 0.6.15 which is incompatible.\u001b[0m\u001b[31m\n",
            "\u001b[0mSuccessfully installed google-ai-generativelanguage-0.6.15\n"
          ]
        },
        {
          "output_type": "display_data",
          "data": {
            "application/vnd.colab-display-data+json": {
              "pip_warning": {
                "packages": [
                  "google"
                ]
              },
              "id": "3ec02e34e27c4459a5c22c9377f89b03"
            }
          },
          "metadata": {}
        }
      ]
    },
    {
      "cell_type": "code",
      "source": [
        "!pip install langchain_google_genai langchain_community"
      ],
      "metadata": {
        "colab": {
          "base_uri": "https://localhost:8080/",
          "height": 1000
        },
        "collapsed": true,
        "id": "NF9iTYSdHcEG",
        "outputId": "e2e9388d-0495-4353-f756-f93c3a60c662"
      },
      "execution_count": 2,
      "outputs": [
        {
          "output_type": "stream",
          "name": "stdout",
          "text": [
            "Requirement already satisfied: langchain_google_genai in /usr/local/lib/python3.11/dist-packages (2.1.5)\n",
            "Requirement already satisfied: langchain_community in /usr/local/lib/python3.11/dist-packages (0.3.25)\n",
            "Requirement already satisfied: filetype<2.0.0,>=1.2.0 in /usr/local/lib/python3.11/dist-packages (from langchain_google_genai) (1.2.0)\n",
            "Collecting google-ai-generativelanguage<0.7.0,>=0.6.18 (from langchain_google_genai)\n",
            "  Using cached google_ai_generativelanguage-0.6.18-py3-none-any.whl.metadata (9.8 kB)\n",
            "Requirement already satisfied: langchain-core<0.4.0,>=0.3.62 in /usr/local/lib/python3.11/dist-packages (from langchain_google_genai) (0.3.65)\n",
            "Requirement already satisfied: pydantic<3,>=2 in /usr/local/lib/python3.11/dist-packages (from langchain_google_genai) (2.11.5)\n",
            "Requirement already satisfied: langchain<1.0.0,>=0.3.25 in /usr/local/lib/python3.11/dist-packages (from langchain_community) (0.3.25)\n",
            "Requirement already satisfied: SQLAlchemy<3,>=1.4 in /usr/local/lib/python3.11/dist-packages (from langchain_community) (2.0.41)\n",
            "Requirement already satisfied: requests<3,>=2 in /usr/local/lib/python3.11/dist-packages (from langchain_community) (2.32.3)\n",
            "Requirement already satisfied: PyYAML>=5.3 in /usr/local/lib/python3.11/dist-packages (from langchain_community) (6.0.2)\n",
            "Requirement already satisfied: aiohttp<4.0.0,>=3.8.3 in /usr/local/lib/python3.11/dist-packages (from langchain_community) (3.11.15)\n",
            "Requirement already satisfied: tenacity!=8.4.0,<10,>=8.1.0 in /usr/local/lib/python3.11/dist-packages (from langchain_community) (9.1.2)\n",
            "Requirement already satisfied: dataclasses-json<0.7,>=0.5.7 in /usr/local/lib/python3.11/dist-packages (from langchain_community) (0.6.7)\n",
            "Requirement already satisfied: pydantic-settings<3.0.0,>=2.4.0 in /usr/local/lib/python3.11/dist-packages (from langchain_community) (2.9.1)\n",
            "Requirement already satisfied: langsmith<0.4,>=0.1.125 in /usr/local/lib/python3.11/dist-packages (from langchain_community) (0.3.45)\n",
            "Requirement already satisfied: httpx-sse<1.0.0,>=0.4.0 in /usr/local/lib/python3.11/dist-packages (from langchain_community) (0.4.0)\n",
            "Requirement already satisfied: numpy>=1.26.2 in /usr/local/lib/python3.11/dist-packages (from langchain_community) (2.0.2)\n",
            "Requirement already satisfied: aiohappyeyeballs>=2.3.0 in /usr/local/lib/python3.11/dist-packages (from aiohttp<4.0.0,>=3.8.3->langchain_community) (2.6.1)\n",
            "Requirement already satisfied: aiosignal>=1.1.2 in /usr/local/lib/python3.11/dist-packages (from aiohttp<4.0.0,>=3.8.3->langchain_community) (1.3.2)\n",
            "Requirement already satisfied: attrs>=17.3.0 in /usr/local/lib/python3.11/dist-packages (from aiohttp<4.0.0,>=3.8.3->langchain_community) (25.3.0)\n",
            "Requirement already satisfied: frozenlist>=1.1.1 in /usr/local/lib/python3.11/dist-packages (from aiohttp<4.0.0,>=3.8.3->langchain_community) (1.6.0)\n",
            "Requirement already satisfied: multidict<7.0,>=4.5 in /usr/local/lib/python3.11/dist-packages (from aiohttp<4.0.0,>=3.8.3->langchain_community) (6.4.4)\n",
            "Requirement already satisfied: propcache>=0.2.0 in /usr/local/lib/python3.11/dist-packages (from aiohttp<4.0.0,>=3.8.3->langchain_community) (0.3.1)\n",
            "Requirement already satisfied: yarl<2.0,>=1.17.0 in /usr/local/lib/python3.11/dist-packages (from aiohttp<4.0.0,>=3.8.3->langchain_community) (1.20.0)\n",
            "Requirement already satisfied: marshmallow<4.0.0,>=3.18.0 in /usr/local/lib/python3.11/dist-packages (from dataclasses-json<0.7,>=0.5.7->langchain_community) (3.26.1)\n",
            "Requirement already satisfied: typing-inspect<1,>=0.4.0 in /usr/local/lib/python3.11/dist-packages (from dataclasses-json<0.7,>=0.5.7->langchain_community) (0.9.0)\n",
            "Requirement already satisfied: google-api-core!=2.0.*,!=2.1.*,!=2.10.*,!=2.2.*,!=2.3.*,!=2.4.*,!=2.5.*,!=2.6.*,!=2.7.*,!=2.8.*,!=2.9.*,<3.0.0,>=1.34.1 in /usr/local/lib/python3.11/dist-packages (from google-api-core[grpc]!=2.0.*,!=2.1.*,!=2.10.*,!=2.2.*,!=2.3.*,!=2.4.*,!=2.5.*,!=2.6.*,!=2.7.*,!=2.8.*,!=2.9.*,<3.0.0,>=1.34.1->google-ai-generativelanguage<0.7.0,>=0.6.18->langchain_google_genai) (2.25.0)\n",
            "Requirement already satisfied: google-auth!=2.24.0,!=2.25.0,<3.0.0,>=2.14.1 in /usr/local/lib/python3.11/dist-packages (from google-ai-generativelanguage<0.7.0,>=0.6.18->langchain_google_genai) (2.38.0)\n",
            "Requirement already satisfied: proto-plus<2.0.0,>=1.22.3 in /usr/local/lib/python3.11/dist-packages (from google-ai-generativelanguage<0.7.0,>=0.6.18->langchain_google_genai) (1.26.1)\n",
            "Requirement already satisfied: protobuf!=4.21.0,!=4.21.1,!=4.21.2,!=4.21.3,!=4.21.4,!=4.21.5,<7.0.0,>=3.20.2 in /usr/local/lib/python3.11/dist-packages (from google-ai-generativelanguage<0.7.0,>=0.6.18->langchain_google_genai) (5.29.5)\n",
            "Requirement already satisfied: langchain-text-splitters<1.0.0,>=0.3.8 in /usr/local/lib/python3.11/dist-packages (from langchain<1.0.0,>=0.3.25->langchain_community) (0.3.8)\n",
            "Requirement already satisfied: jsonpatch<2.0,>=1.33 in /usr/local/lib/python3.11/dist-packages (from langchain-core<0.4.0,>=0.3.62->langchain_google_genai) (1.33)\n",
            "Requirement already satisfied: packaging<25,>=23.2 in /usr/local/lib/python3.11/dist-packages (from langchain-core<0.4.0,>=0.3.62->langchain_google_genai) (24.2)\n",
            "Requirement already satisfied: typing-extensions>=4.7 in /usr/local/lib/python3.11/dist-packages (from langchain-core<0.4.0,>=0.3.62->langchain_google_genai) (4.14.0)\n",
            "Requirement already satisfied: httpx<1,>=0.23.0 in /usr/local/lib/python3.11/dist-packages (from langsmith<0.4,>=0.1.125->langchain_community) (0.28.1)\n",
            "Requirement already satisfied: orjson<4.0.0,>=3.9.14 in /usr/local/lib/python3.11/dist-packages (from langsmith<0.4,>=0.1.125->langchain_community) (3.10.18)\n",
            "Requirement already satisfied: requests-toolbelt<2.0.0,>=1.0.0 in /usr/local/lib/python3.11/dist-packages (from langsmith<0.4,>=0.1.125->langchain_community) (1.0.0)\n",
            "Requirement already satisfied: zstandard<0.24.0,>=0.23.0 in /usr/local/lib/python3.11/dist-packages (from langsmith<0.4,>=0.1.125->langchain_community) (0.23.0)\n",
            "Requirement already satisfied: annotated-types>=0.6.0 in /usr/local/lib/python3.11/dist-packages (from pydantic<3,>=2->langchain_google_genai) (0.7.0)\n",
            "Requirement already satisfied: pydantic-core==2.33.2 in /usr/local/lib/python3.11/dist-packages (from pydantic<3,>=2->langchain_google_genai) (2.33.2)\n",
            "Requirement already satisfied: typing-inspection>=0.4.0 in /usr/local/lib/python3.11/dist-packages (from pydantic<3,>=2->langchain_google_genai) (0.4.1)\n",
            "Requirement already satisfied: python-dotenv>=0.21.0 in /usr/local/lib/python3.11/dist-packages (from pydantic-settings<3.0.0,>=2.4.0->langchain_community) (1.1.0)\n",
            "Requirement already satisfied: charset-normalizer<4,>=2 in /usr/local/lib/python3.11/dist-packages (from requests<3,>=2->langchain_community) (3.4.2)\n",
            "Requirement already satisfied: idna<4,>=2.5 in /usr/local/lib/python3.11/dist-packages (from requests<3,>=2->langchain_community) (3.10)\n",
            "Requirement already satisfied: urllib3<3,>=1.21.1 in /usr/local/lib/python3.11/dist-packages (from requests<3,>=2->langchain_community) (2.4.0)\n",
            "Requirement already satisfied: certifi>=2017.4.17 in /usr/local/lib/python3.11/dist-packages (from requests<3,>=2->langchain_community) (2025.4.26)\n",
            "Requirement already satisfied: greenlet>=1 in /usr/local/lib/python3.11/dist-packages (from SQLAlchemy<3,>=1.4->langchain_community) (3.2.2)\n",
            "Requirement already satisfied: googleapis-common-protos<2.0.0,>=1.56.2 in /usr/local/lib/python3.11/dist-packages (from google-api-core!=2.0.*,!=2.1.*,!=2.10.*,!=2.2.*,!=2.3.*,!=2.4.*,!=2.5.*,!=2.6.*,!=2.7.*,!=2.8.*,!=2.9.*,<3.0.0,>=1.34.1->google-api-core[grpc]!=2.0.*,!=2.1.*,!=2.10.*,!=2.2.*,!=2.3.*,!=2.4.*,!=2.5.*,!=2.6.*,!=2.7.*,!=2.8.*,!=2.9.*,<3.0.0,>=1.34.1->google-ai-generativelanguage<0.7.0,>=0.6.18->langchain_google_genai) (1.70.0)\n",
            "Requirement already satisfied: grpcio<2.0.0,>=1.33.2 in /usr/local/lib/python3.11/dist-packages (from google-api-core[grpc]!=2.0.*,!=2.1.*,!=2.10.*,!=2.2.*,!=2.3.*,!=2.4.*,!=2.5.*,!=2.6.*,!=2.7.*,!=2.8.*,!=2.9.*,<3.0.0,>=1.34.1->google-ai-generativelanguage<0.7.0,>=0.6.18->langchain_google_genai) (1.72.1)\n",
            "Requirement already satisfied: grpcio-status<2.0.0,>=1.33.2 in /usr/local/lib/python3.11/dist-packages (from google-api-core[grpc]!=2.0.*,!=2.1.*,!=2.10.*,!=2.2.*,!=2.3.*,!=2.4.*,!=2.5.*,!=2.6.*,!=2.7.*,!=2.8.*,!=2.9.*,<3.0.0,>=1.34.1->google-ai-generativelanguage<0.7.0,>=0.6.18->langchain_google_genai) (1.71.0)\n",
            "Requirement already satisfied: cachetools<6.0,>=2.0.0 in /usr/local/lib/python3.11/dist-packages (from google-auth!=2.24.0,!=2.25.0,<3.0.0,>=2.14.1->google-ai-generativelanguage<0.7.0,>=0.6.18->langchain_google_genai) (5.5.2)\n",
            "Requirement already satisfied: pyasn1-modules>=0.2.1 in /usr/local/lib/python3.11/dist-packages (from google-auth!=2.24.0,!=2.25.0,<3.0.0,>=2.14.1->google-ai-generativelanguage<0.7.0,>=0.6.18->langchain_google_genai) (0.4.2)\n",
            "Requirement already satisfied: rsa<5,>=3.1.4 in /usr/local/lib/python3.11/dist-packages (from google-auth!=2.24.0,!=2.25.0,<3.0.0,>=2.14.1->google-ai-generativelanguage<0.7.0,>=0.6.18->langchain_google_genai) (4.9.1)\n",
            "Requirement already satisfied: anyio in /usr/local/lib/python3.11/dist-packages (from httpx<1,>=0.23.0->langsmith<0.4,>=0.1.125->langchain_community) (4.9.0)\n",
            "Requirement already satisfied: httpcore==1.* in /usr/local/lib/python3.11/dist-packages (from httpx<1,>=0.23.0->langsmith<0.4,>=0.1.125->langchain_community) (1.0.9)\n",
            "Requirement already satisfied: h11>=0.16 in /usr/local/lib/python3.11/dist-packages (from httpcore==1.*->httpx<1,>=0.23.0->langsmith<0.4,>=0.1.125->langchain_community) (0.16.0)\n",
            "Requirement already satisfied: jsonpointer>=1.9 in /usr/local/lib/python3.11/dist-packages (from jsonpatch<2.0,>=1.33->langchain-core<0.4.0,>=0.3.62->langchain_google_genai) (3.0.0)\n",
            "Requirement already satisfied: mypy-extensions>=0.3.0 in /usr/local/lib/python3.11/dist-packages (from typing-inspect<1,>=0.4.0->dataclasses-json<0.7,>=0.5.7->langchain_community) (1.1.0)\n",
            "Requirement already satisfied: pyasn1<0.7.0,>=0.6.1 in /usr/local/lib/python3.11/dist-packages (from pyasn1-modules>=0.2.1->google-auth!=2.24.0,!=2.25.0,<3.0.0,>=2.14.1->google-ai-generativelanguage<0.7.0,>=0.6.18->langchain_google_genai) (0.6.1)\n",
            "Requirement already satisfied: sniffio>=1.1 in /usr/local/lib/python3.11/dist-packages (from anyio->httpx<1,>=0.23.0->langsmith<0.4,>=0.1.125->langchain_community) (1.3.1)\n",
            "Using cached google_ai_generativelanguage-0.6.18-py3-none-any.whl (1.4 MB)\n",
            "Installing collected packages: google-ai-generativelanguage\n",
            "  Attempting uninstall: google-ai-generativelanguage\n",
            "    Found existing installation: google-ai-generativelanguage 0.6.15\n",
            "    Uninstalling google-ai-generativelanguage-0.6.15:\n",
            "      Successfully uninstalled google-ai-generativelanguage-0.6.15\n",
            "\u001b[31mERROR: pip's dependency resolver does not currently take into account all the packages that are installed. This behaviour is the source of the following dependency conflicts.\n",
            "google-generativeai 0.8.5 requires google-ai-generativelanguage==0.6.15, but you have google-ai-generativelanguage 0.6.18 which is incompatible.\u001b[0m\u001b[31m\n",
            "\u001b[0mSuccessfully installed google-ai-generativelanguage-0.6.18\n"
          ]
        },
        {
          "output_type": "display_data",
          "data": {
            "application/vnd.colab-display-data+json": {
              "pip_warning": {
                "packages": [
                  "google"
                ]
              },
              "id": "772cdf612e1e489cada71167f5051f7b"
            }
          },
          "metadata": {}
        }
      ]
    },
    {
      "cell_type": "code",
      "source": [
        "!pip install faiss-cpu"
      ],
      "metadata": {
        "colab": {
          "base_uri": "https://localhost:8080/"
        },
        "id": "mGo52wz1Id5b",
        "outputId": "529b1b33-57ee-4974-8273-bbfcf41e8d95"
      },
      "execution_count": 3,
      "outputs": [
        {
          "output_type": "stream",
          "name": "stdout",
          "text": [
            "Requirement already satisfied: faiss-cpu in /usr/local/lib/python3.11/dist-packages (1.11.0)\n",
            "Requirement already satisfied: numpy<3.0,>=1.25.0 in /usr/local/lib/python3.11/dist-packages (from faiss-cpu) (2.0.2)\n",
            "Requirement already satisfied: packaging in /usr/local/lib/python3.11/dist-packages (from faiss-cpu) (24.2)\n"
          ]
        }
      ]
    },
    {
      "cell_type": "code",
      "source": [
        "# Gemini - 1단계 정답 코드\n",
        "import os\n",
        "import requests\n",
        "from PIL import Image\n",
        "from io import BytesIO\n",
        "import google.generativeai as genai\n",
        "from google.colab import userdata # Colab 사용 시\n",
        "\n",
        "# Colab 보안 비밀에서 API 키 로드 및 설정\n",
        "os.environ[\"GOOGLE_API_KEY\"] = userdata.get('GOOGLE_API_KEY')\n",
        "genai.configure(api_key=os.environ[\"GOOGLE_API_KEY\"])\n",
        "\n",
        "# 분석할 이미지 URL\n",
        "image_url = \"https://upload.wikimedia.org/wikipedia/commons/thumb/e/ec/Mona_Lisa%2C_by_Leonardo_da_Vinci%2C_from_C2RMF_retouched.jpg/1200px-Mona_Lisa%2C_by_Leonardo_da_Vinci%2C_from_C2RMF_retouched.jpg\"\n",
        "\n",
        "# URL에서 이미지 다운로드\n",
        "response = requests.get(image_url)\n",
        "img = Image.open(BytesIO(response.content))\n",
        "\n",
        "print(\"--- 1단계 (Gemini): 모작 이미지 분석 시작 ---\")\n",
        "\n",
        "# 사용할 Gemini 모델 선택 (Vision 기능이 있는 모델)\n",
        "model = genai.GenerativeModel('gemini-2.5-flash-preview-05-20')\n",
        "\n",
        "# 텍스트 프롬프트와 이미지 객체를 함께 전달\n",
        "prompt_parts = [\n",
        "    \"이 이미지에 있는 그림은 무엇인가요? 그림의 특징을 알려주세요.\",\n",
        "    img,\n",
        "]\n",
        "\n",
        "response = model.generate_content(prompt_parts)\n",
        "\n",
        "print(\"AI 분석 결과:\", response.text)\n",
        "print(\"--- 1단계 (Gemini) 완료 ---\")"
      ],
      "outputs": [
        {
          "output_type": "stream",
          "name": "stdout",
          "text": [
            "--- 1단계 (Gemini): 모작 이미지 분석 시작 ---\n",
            "AI 분석 결과: 이 이미지에 있는 그림은 레오나르도 다 빈치(Leonardo da Vinci)의 유명한 회화 작품인 **모나리자(Mona Lisa)**입니다.\n",
            "\n",
            "이 그림의 주요 특징은 다음과 같습니다:\n",
            "\n",
            "1.  **수수께끼 같은 미소 (Enigmatic Smile):** 모나리자의 가장 유명한 특징은 그녀의 수수께끼 같고 미묘한 미소입니다. 보는 각도나 시선에 따라 다르게 느껴지며, 신비롭고 살아있는 듯한 인상을 줍니다.\n",
            "2.  **스푸마토 기법 (Sfumato Technique):** 레오나르도 다 빈치가 완벽하게 구사한 '스푸마토(sfumato)' 기법이 사용되었습니다. 이는 윤곽선을 부드럽게 처리하여 색상과 색조 사이의 경계를 모호하게 만드는 방식으로, 그림에 부드러운 분위기와 깊이를 더해줍니다. 특히 모나리자의 미소를 표현하는 데 결정적인 역할을 했습니다.\n",
            "3.  **삼각 구도 및 자세 (Pyramidal Composition and Pose):** 인물을 안정적인 삼각형 구도(어깨와 팔이 넓게 퍼지고 머리 쪽으로 좁아지는 형태)로 배치하여 견고함과 위엄을 부여합니다. 또한, 정면이 아닌 약간 몸을 틀어 앉은 '3/4상' 자세는 인물에게 생동감과 입체감을 줍니다.\n",
            "4.  **신비로운 배경 (Mysterious Background):** 인물의 뒤편에는 환상적이고 안개 낀 풍경이 펼쳐져 있습니다. 이 풍경은 인물의 감정과 연결된 듯한 신비로운 분위기를 자아내며, 배경의 양쪽이 완벽하게 일치하지 않는 것도 특징입니다.\n",
            "5.  **심리적 깊이 (Psychological Depth):** 단순한 초상을 넘어 인물의 내면과 심리적 상태를 탐구하려는 시도가 돋보입니다. 이는 르네상스 시대 초상화의 새로운 지평을 열었습니다.\n",
            "6.  **얇은 베일과 눈썹 부재:** 그녀의 얼굴에 얇은 베일이 씌워져 있는 것으로 보이며, 전통적인 미인상과는 달리 눈썹이 그려져 있지 않다는 점도 주목할 만합니다.\n",
            "\n",
            "현재 모나리자는 프랑스 파리의 루브르 박물관에 소장되어 있으며, 세계에서 가장 잘 알려지고 많은 사랑을 받는 예술 작품 중 하나입니다.\n",
            "--- 1단계 (Gemini) 완료 ---\n"
          ]
        }
      ],
      "execution_count": 4,
      "metadata": {
        "id": "-JIV80LO-1Ev",
        "colab": {
          "base_uri": "https://localhost:8080/",
          "height": 295
        },
        "outputId": "9c0eecc7-cd1d-435d-d128-58a5293db031"
      }
    },
    {
      "cell_type": "markdown",
      "source": [
        "**✔️ 주요 변경점:**\n",
        "\n",
        "  * `openai` 대신 `google.generativeai` 라이브러리를 사용합니다.\n",
        "  * `requests`와 `PIL` 라이브러리로 이미지 URL을 실제 이미지 객체로 변환합니다.\n",
        "  * `generate_content` 메소드에 텍스트와 이미지 객체를 리스트로 전달합니다.\n",
        "\n",
        "#### **2단계: 펑션 콜링 (Gemini Function Calling)**\n",
        "\n",
        "Gemini의 펑션 콜링은 더 직관적일 수 있습니다. 파이썬 함수를 직접 `tools`로 등록할 수 있습니다."
      ],
      "metadata": {
        "id": "Q-zb00Ja-1Ew"
      }
    },
    {
      "cell_type": "code",
      "source": [
        "# Gemini - 2단계 정답 코드\n",
        "import json\n",
        "\n",
        "# 1단계에서 정의한 get_artwork_details 함수는 그대로 사용\n",
        "def get_artwork_details(artwork_title: str):\n",
        "    \"\"\"작품 제목을 받아 미술관 데이터베이스에서 작품 정보를 조회합니다.\"\"\"\n",
        "    db = {\n",
        "        \"모나리자\": {\"artist\": \"레오나르도 다 빈치\", \"year\": \"1503–1506\", \"description\": \"르네상스 시대의 가장 유명한 초상화 중 하나로, 신비로운 미소로 유명합니다.\"},\n",
        "        \"별이 빛나는 밤\": {\"artist\": \"빈센트 반 고흐\", \"year\": \"1889\", \"description\": \"반 고흐가 생 레미의 정신병원에서 그린 작품으로, 소용돌이치는 밤하늘이 인상적입니다.\"}\n",
        "    }\n",
        "    return db.get(artwork_title, {\"error\": \"작품을 찾을 수 없습니다.\"})\n",
        "\n",
        "print(\"\\n--- 2단계 (Gemini): 미술관 데이터베이스 조회 시작 ---\")\n",
        "\n",
        "# 사용할 모델에 tools(함수) 정보를 전달\n",
        "model = genai.GenerativeModel(\n",
        "    'gemini-2.5-flash-preview-05-20',\n",
        "    tools=[get_artwork_details] # 파이썬 함수를 그대로 리스트에 넣어줍니다.\n",
        ")\n",
        "chat = model.start_chat()\n",
        "artwork_name = \"모나리자\"\n",
        "\n",
        "# 함수 호출을 유도하는 프롬프트 전송\n",
        "response = chat.send_message(f\"'{artwork_name}'에 대한 미술관 데이터베이스 정보를 찾아줘.\")\n",
        "response_message = response.candidates[0].content.parts[0]\n",
        "\n",
        "# AI가 함수 호출을 요청했는지 확인\n",
        "if response_message.function_call:\n",
        "    function_call = response_message.function_call\n",
        "    function_name = function_call.name\n",
        "    args = dict(function_call.args)\n",
        "\n",
        "    if function_name == 'get_artwork_details':\n",
        "        # 함수 실행\n",
        "        function_response = get_artwork_details(artwork_title=args.get(\"artwork_title\"))\n",
        "\n",
        "        # 실행 결과를 다시 AI에게 전달\n",
        "        response = chat.send_message(\n",
        "            genai.protos.Part(\n",
        "                function_response={\n",
        "                    \"name\": function_name,\n",
        "                    \"response\": {\"result\": json.dumps(function_response, ensure_ascii=False)},\n",
        "                }\n",
        "            )\n",
        "        )\n",
        "        # 함수 실행 결과를 바탕으로 AI가 최종 답변 생성\n",
        "        final_answer = response.candidates[0].content.parts[0].text\n",
        "        print(\"DB 조회 및 최종 답변:\", final_answer)\n",
        "else:\n",
        "    print(\"AI가 함수를 호출하지 않았습니다.\")\n",
        "\n",
        "print(\"--- 2단계 (Gemini) 완료 ---\")"
      ],
      "outputs": [
        {
          "output_type": "stream",
          "name": "stdout",
          "text": [
            "\n",
            "--- 2단계 (Gemini): 미술관 데이터베이스 조회 시작 ---\n",
            "DB 조회 및 최종 답변: '모나리자'는 레오나르도 다 빈치가 1503년부터 1506년 사이에 그린 작품으로, 르네상스 시대의 가장 유명한 초상화 중 하나이며 신비로운 미소로 잘 알려져 있습니다.\n",
            "--- 2단계 (Gemini) 완료 ---\n"
          ]
        }
      ],
      "execution_count": 5,
      "metadata": {
        "id": "W3qTRsEt-1Ew",
        "colab": {
          "base_uri": "https://localhost:8080/",
          "height": 91
        },
        "outputId": "6a07b336-d361-41eb-9df4-52550ad14ba3"
      }
    },
    {
      "cell_type": "markdown",
      "source": [
        "**✔️ 주요 변경점:**\n",
        "\n",
        "  * `tools` 파라미터에 JSON 설명 대신 파이썬 함수 객체(`get_artwork_details`)를 직접 전달하여 더 간결합니다.\n",
        "  * 응답에서 `function_call` 객체를 확인하고, 결과를 다시 `function_response` 형태로 모델에 전달하여 최종 답변을 받는 2단계 통신 과정을 거칩니다.\n",
        "\n",
        "#### **3단계: RAG (LangChain + Gemini)**\n",
        "\n",
        "LangChain은 여러 모델을 지원하므로, 모델과 임베딩 부분만 Gemini 용으로 교체하면 됩니다."
      ],
      "metadata": {
        "id": "MIGbZShR-1Ew"
      }
    },
    {
      "cell_type": "code",
      "source": [
        "# Gemini - 3단계 정답 코드\n",
        "from langchain_google_genai import ChatGoogleGenerativeAI, GoogleGenerativeAIEmbeddings\n",
        "# OpenAI 대신 사용할 LangChain의 Gemini 관련 모듈을 가져옵니다.\n",
        "\n",
        "# ... (rag_data.txt 파일 생성 및 loader, text_splitter 부분은 동일) ...\n",
        "from langchain_community.document_loaders import TextLoader\n",
        "from langchain_text_splitters import RecursiveCharacterTextSplitter\n",
        "from langchain_community.vectorstores import FAISS\n",
        "from langchain.chains.combine_documents import create_stuff_documents_chain\n",
        "from langchain_core.prompts import ChatPromptTemplate\n",
        "from langchain.chains import create_retrieval_chain\n",
        "rag_data=\"\"\"...생략...\"\"\"\n",
        "with open(\"rag_data.txt\", \"w\", encoding=\"utf-8\") as f: f.write(rag_data)\n",
        "loader = TextLoader(\"rag_data.txt\", encoding=\"utf-8\")\n",
        "docs = loader.load()\n",
        "text_splitter = RecursiveCharacterTextSplitter(chunk_size=500, chunk_overlap=50)\n",
        "splits = text_splitter.split_documents(docs)\n",
        "# ...\n",
        "\n",
        "print(\"\\n--- 3단계 (Gemini RAG): 미술사 자료 탐색 시작 ---\")\n",
        "\n",
        "# 1. 임베딩 모델을 GoogleGenerativeAIEmbeddings로 변경\n",
        "embeddings = GoogleGenerativeAIEmbeddings(model=\"models/embedding-001\")\n",
        "vectorstore = FAISS.from_documents(documents=splits, embedding=embeddings)\n",
        "\n",
        "# 2. LLM을 ChatGoogleGenerativeAI로 변경\n",
        "llm = ChatGoogleGenerativeAI(model=\"gemini-2.5-flash-preview-05-20\", temperature=0)\n",
        "\n",
        "# 프롬프트, 체인 생성 부분은 OpenAI 버전과 완전히 동일합니다.\n",
        "prompt = ChatPromptTemplate.from_template(\"\"\"\n",
        "주어진 내용을 바탕으로 다음 질문에 답변해 주세요:\n",
        "\n",
        "<context>\n",
        "{context}\n",
        "</context>\n",
        "\n",
        "질문: {input}\n",
        "답변:\"\"\")\n",
        "document_chain = create_stuff_documents_chain(llm, prompt)\n",
        "retriever = vectorstore.as_retriever()\n",
        "retrieval_chain = create_retrieval_chain(retriever, document_chain)\n",
        "\n",
        "# 3. 질문하고 답변받기 (동일)\n",
        "question = \"반 고흐의 스타일과 르네상스 미술의 차이점은 무엇인가요?\"\n",
        "response = retrieval_chain.invoke({\"input\": question})\n",
        "\n",
        "print(\"RAG 분석 질문:\", question)\n",
        "print(\"RAG 분석 답변:\", response[\"answer\"])\n",
        "print(\"--- 3단계 (Gemini RAG) 완료 ---\")"
      ],
      "outputs": [
        {
          "output_type": "stream",
          "name": "stdout",
          "text": [
            "\n",
            "--- 3단계 (Gemini RAG): 미술사 자료 탐색 시작 ---\n",
            "RAG 분석 질문: 반 고흐의 스타일과 르네상스 미술의 차이점은 무엇인가요?\n",
            "RAG 분석 답변: 주어진 내용이 생략되어 있으므로, 일반적인 미술사 지식을 바탕으로 반 고흐의 스타일과 르네상스 미술의 차이점을 설명해 드리겠습니다.\n",
            "\n",
            "반 고흐의 스타일과 르네상스 미술은 시대, 목적, 표현 방식 등 여러 면에서 극명한 차이를 보입니다.\n",
            "\n",
            "**반 고흐의 스타일 (후기 인상주의, 19세기 후반):**\n",
            "\n",
            "1.  **표현의 목적:** 작가의 강렬한 내면세계, 감정, 심리 상태를 표현하는 데 중점을 둡니다. 현실을 있는 그대로 재현하기보다는 주관적인 해석과 감정을 담아냅니다.\n",
            "2.  **색채:** 자연색을 벗어나 감정적이고 상징적인 색채를 사용합니다. 색채는 강렬하고 대담하며, 때로는 비현실적으로 느껴질 정도로 주관적인 감정을 전달하는 도구로 활용됩니다.\n",
            "3.  **붓질:** 거칠고 두꺼우며(임파스토), 역동적인 붓질이 눈에 띄게 드러납니다. 붓자국 하나하나가 작가의 에너지와 감정을 담고 있어 작품에 생동감과 질감을 부여합니다.\n",
            "4.  **형태와 원근법:** 형태는 종종 왜곡되거나 단순화되며, 전통적인 원근법보다는 감정적 효과를 위한 공간 구성이 나타납니다.\n",
            "5.  **주요 주제:** 일상생활, 풍경, 자화상, 서민들의 삶 등 평범하고 소박한 주제를 통해 깊은 감정과 의미를 탐구했습니다.\n",
            "\n",
            "**르네상스 미술 (14세기 ~ 16세기, 이탈리아 중심):**\n",
            "\n",
            "1.  **표현의 목적:** 인간 중심주의(휴머니즘)를 바탕으로 이상적인 아름다움, 조화, 균형을 추구하며 현실을 사실적이고 객관적으로 재현하는 데 중점을 둡니다. 종교적, 신화적 주제를 다루면서도 인간의 존엄성을 강조했습니다.\n",
            "2.  **색채:** 자연적이고 사실적인 색채를 사용하여 대상의 입체감과 현실감을 표현합니다. 명암법(키아로스쿠로)과 부드러운 색조 변화(스푸마토)를 통해 깊이와 볼륨감을 부여합니다.\n",
            "3.  **붓질:** 붓자국이 거의 보이지 않도록 매끄럽고 정교하게 처리하여 완성도 높은 표면을 만듭니다. 이는 작품의 사실성과 이상적인 아름다움을 강조하기 위함입니다.\n",
            "4.  **형태와 원근법:** 선형 원근법(투시도법)을 체계적으로 사용하여 공간의 깊이와 입체감을 정확하게 표현했습니다. 인체의 해부학적 정확성과 비례를 중요시하여 이상적인 인물상을 구현했습니다.\n",
            "5.  **주요 주제:** 성경 속 이야기, 그리스-로마 신화, 역사적 사건, 귀족이나 성직자의 초상화 등 웅장하고 고전적인 주제가 많았습니다.\n",
            "\n",
            "**요약하자면,** 르네상스 미술이 **객관적인 현실의 재현, 이상적인 아름다움, 조화, 균형**을 추구하며 **정교하고 사실적인 기법**을 사용했다면, 반 고흐의 스타일은 **주관적인 감정의 표현, 내면세계의 탐구, 강렬하고 역동적인 붓질과 색채**를 통해 **개인의 경험과 심리**를 전달하는 데 집중했습니다. 이는 미술의 목적이 '세계를 어떻게 보여줄 것인가'에서 '세계를 어떻게 느낄 것인가'로 변화하는 중요한 전환점을 보여줍니다.\n",
            "--- 3단계 (Gemini RAG) 완료 ---\n"
          ]
        }
      ],
      "execution_count": 6,
      "metadata": {
        "id": "Aqn-Z-wc-1Ew",
        "colab": {
          "base_uri": "https://localhost:8080/"
        },
        "outputId": "84888479-0003-4d08-ca7e-a3a1c8aeb26d"
      }
    },
    {
      "cell_type": "markdown",
      "source": [
        "**✔️ 주요 변경점:**\n",
        "\n",
        "  * `ChatOpenAI` -\\> `ChatGoogleGenerativeAI`\n",
        "  * `OpenAIEmbeddings` -\\> `GoogleGenerativeAIEmbeddings`\n",
        "  * LangChain의 장점 덕분에, 이 두 부분만 교체하면 나머지 RAG 파이프라인 코드는 그대로 재사용할 수 있습니다.\n",
        "\n",
        "-----\n",
        "\n",
        "### ⚡ LiteLLM을 사용하여 문제 해결하기\n",
        "\n",
        "LiteLLM은 \"통합 번역기\"와 같습니다. 어떤 모델(OpenAI, Gemini, Anthropic 등)을 쓰든 **항상 OpenAI API와 동일한 형식으로 코드를 작성**할 수 있게 해줍니다. 모델을 바꿀 때 코드 수정을 최소화하고 싶을 때 매우 유용합니다.\n",
        "\n",
        "**사전 준비:**\n",
        "\n",
        "1.  **라이브러리 설치:**\n",
        "    ```bash\n",
        "    pip install litellm\n",
        "    ```\n",
        "2.  **API 키 설정 (Colab 보안 비밀 추천):**\n",
        "      * 사용하려는 모든 모델의 키를 설정해야 합니다.\n",
        "      * **이름:** `OPENAI_API_KEY`, **값:** OpenAI 키\n",
        "      * **이름:** `GOOGLE_API_KEY`, **값:** Google 키\n",
        "\n",
        "**코드 수정 가이드:**\n",
        "\n",
        "LiteLLM의 핵심은 **`model` 이름 앞에 제공사 이름을 붙여주는 것**(`\"gemini/gemini-1.5-pro-latest\"`)과, `openai.chat.completions.create`를 `litellm.completion`으로 바꾸는 것입니다.\n",
        "\n",
        "#### **1 & 2단계: 이미지 분석 및 펑션 콜링 (LiteLLM)**\n",
        "\n",
        "놀랍게도, **원래 작성했던 OpenAI용 코드에서 단 두 줄만 바꾸면 됩니다.**"
      ],
      "metadata": {
        "id": "9SGFCILE-1Ex"
      }
    },
    {
      "cell_type": "code",
      "source": [
        "!pip install litellm"
      ],
      "metadata": {
        "colab": {
          "base_uri": "https://localhost:8080/"
        },
        "id": "x-i7Ch2FLc56",
        "outputId": "42387257-1247-40a2-ff1d-2834434ee588"
      },
      "execution_count": 8,
      "outputs": [
        {
          "output_type": "stream",
          "name": "stdout",
          "text": [
            "Collecting litellm\n",
            "  Downloading litellm-1.72.4-py3-none-any.whl.metadata (39 kB)\n",
            "Requirement already satisfied: aiohttp in /usr/local/lib/python3.11/dist-packages (from litellm) (3.11.15)\n",
            "Requirement already satisfied: click in /usr/local/lib/python3.11/dist-packages (from litellm) (8.2.1)\n",
            "Requirement already satisfied: httpx>=0.23.0 in /usr/local/lib/python3.11/dist-packages (from litellm) (0.28.1)\n",
            "Requirement already satisfied: importlib-metadata>=6.8.0 in /usr/local/lib/python3.11/dist-packages (from litellm) (8.7.0)\n",
            "Requirement already satisfied: jinja2<4.0.0,>=3.1.2 in /usr/local/lib/python3.11/dist-packages (from litellm) (3.1.6)\n",
            "Requirement already satisfied: jsonschema<5.0.0,>=4.22.0 in /usr/local/lib/python3.11/dist-packages (from litellm) (4.24.0)\n",
            "Requirement already satisfied: openai>=1.68.2 in /usr/local/lib/python3.11/dist-packages (from litellm) (1.84.0)\n",
            "Requirement already satisfied: pydantic<3.0.0,>=2.0.0 in /usr/local/lib/python3.11/dist-packages (from litellm) (2.11.5)\n",
            "Requirement already satisfied: python-dotenv>=0.2.0 in /usr/local/lib/python3.11/dist-packages (from litellm) (1.1.0)\n",
            "Requirement already satisfied: tiktoken>=0.7.0 in /usr/local/lib/python3.11/dist-packages (from litellm) (0.9.0)\n",
            "Requirement already satisfied: tokenizers in /usr/local/lib/python3.11/dist-packages (from litellm) (0.21.1)\n",
            "Requirement already satisfied: anyio in /usr/local/lib/python3.11/dist-packages (from httpx>=0.23.0->litellm) (4.9.0)\n",
            "Requirement already satisfied: certifi in /usr/local/lib/python3.11/dist-packages (from httpx>=0.23.0->litellm) (2025.4.26)\n",
            "Requirement already satisfied: httpcore==1.* in /usr/local/lib/python3.11/dist-packages (from httpx>=0.23.0->litellm) (1.0.9)\n",
            "Requirement already satisfied: idna in /usr/local/lib/python3.11/dist-packages (from httpx>=0.23.0->litellm) (3.10)\n",
            "Requirement already satisfied: h11>=0.16 in /usr/local/lib/python3.11/dist-packages (from httpcore==1.*->httpx>=0.23.0->litellm) (0.16.0)\n",
            "Requirement already satisfied: zipp>=3.20 in /usr/local/lib/python3.11/dist-packages (from importlib-metadata>=6.8.0->litellm) (3.22.0)\n",
            "Requirement already satisfied: MarkupSafe>=2.0 in /usr/local/lib/python3.11/dist-packages (from jinja2<4.0.0,>=3.1.2->litellm) (3.0.2)\n",
            "Requirement already satisfied: attrs>=22.2.0 in /usr/local/lib/python3.11/dist-packages (from jsonschema<5.0.0,>=4.22.0->litellm) (25.3.0)\n",
            "Requirement already satisfied: jsonschema-specifications>=2023.03.6 in /usr/local/lib/python3.11/dist-packages (from jsonschema<5.0.0,>=4.22.0->litellm) (2025.4.1)\n",
            "Requirement already satisfied: referencing>=0.28.4 in /usr/local/lib/python3.11/dist-packages (from jsonschema<5.0.0,>=4.22.0->litellm) (0.36.2)\n",
            "Requirement already satisfied: rpds-py>=0.7.1 in /usr/local/lib/python3.11/dist-packages (from jsonschema<5.0.0,>=4.22.0->litellm) (0.25.1)\n",
            "Requirement already satisfied: distro<2,>=1.7.0 in /usr/local/lib/python3.11/dist-packages (from openai>=1.68.2->litellm) (1.9.0)\n",
            "Requirement already satisfied: jiter<1,>=0.4.0 in /usr/local/lib/python3.11/dist-packages (from openai>=1.68.2->litellm) (0.10.0)\n",
            "Requirement already satisfied: sniffio in /usr/local/lib/python3.11/dist-packages (from openai>=1.68.2->litellm) (1.3.1)\n",
            "Requirement already satisfied: tqdm>4 in /usr/local/lib/python3.11/dist-packages (from openai>=1.68.2->litellm) (4.67.1)\n",
            "Requirement already satisfied: typing-extensions<5,>=4.11 in /usr/local/lib/python3.11/dist-packages (from openai>=1.68.2->litellm) (4.14.0)\n",
            "Requirement already satisfied: annotated-types>=0.6.0 in /usr/local/lib/python3.11/dist-packages (from pydantic<3.0.0,>=2.0.0->litellm) (0.7.0)\n",
            "Requirement already satisfied: pydantic-core==2.33.2 in /usr/local/lib/python3.11/dist-packages (from pydantic<3.0.0,>=2.0.0->litellm) (2.33.2)\n",
            "Requirement already satisfied: typing-inspection>=0.4.0 in /usr/local/lib/python3.11/dist-packages (from pydantic<3.0.0,>=2.0.0->litellm) (0.4.1)\n",
            "Requirement already satisfied: regex>=2022.1.18 in /usr/local/lib/python3.11/dist-packages (from tiktoken>=0.7.0->litellm) (2024.11.6)\n",
            "Requirement already satisfied: requests>=2.26.0 in /usr/local/lib/python3.11/dist-packages (from tiktoken>=0.7.0->litellm) (2.32.3)\n",
            "Requirement already satisfied: aiohappyeyeballs>=2.3.0 in /usr/local/lib/python3.11/dist-packages (from aiohttp->litellm) (2.6.1)\n",
            "Requirement already satisfied: aiosignal>=1.1.2 in /usr/local/lib/python3.11/dist-packages (from aiohttp->litellm) (1.3.2)\n",
            "Requirement already satisfied: frozenlist>=1.1.1 in /usr/local/lib/python3.11/dist-packages (from aiohttp->litellm) (1.6.0)\n",
            "Requirement already satisfied: multidict<7.0,>=4.5 in /usr/local/lib/python3.11/dist-packages (from aiohttp->litellm) (6.4.4)\n",
            "Requirement already satisfied: propcache>=0.2.0 in /usr/local/lib/python3.11/dist-packages (from aiohttp->litellm) (0.3.1)\n",
            "Requirement already satisfied: yarl<2.0,>=1.17.0 in /usr/local/lib/python3.11/dist-packages (from aiohttp->litellm) (1.20.0)\n",
            "Requirement already satisfied: huggingface-hub<1.0,>=0.16.4 in /usr/local/lib/python3.11/dist-packages (from tokenizers->litellm) (0.32.4)\n",
            "Requirement already satisfied: filelock in /usr/local/lib/python3.11/dist-packages (from huggingface-hub<1.0,>=0.16.4->tokenizers->litellm) (3.18.0)\n",
            "Requirement already satisfied: fsspec>=2023.5.0 in /usr/local/lib/python3.11/dist-packages (from huggingface-hub<1.0,>=0.16.4->tokenizers->litellm) (2025.3.2)\n",
            "Requirement already satisfied: packaging>=20.9 in /usr/local/lib/python3.11/dist-packages (from huggingface-hub<1.0,>=0.16.4->tokenizers->litellm) (24.2)\n",
            "Requirement already satisfied: pyyaml>=5.1 in /usr/local/lib/python3.11/dist-packages (from huggingface-hub<1.0,>=0.16.4->tokenizers->litellm) (6.0.2)\n",
            "Requirement already satisfied: hf-xet<2.0.0,>=1.1.2 in /usr/local/lib/python3.11/dist-packages (from huggingface-hub<1.0,>=0.16.4->tokenizers->litellm) (1.1.2)\n",
            "Requirement already satisfied: charset-normalizer<4,>=2 in /usr/local/lib/python3.11/dist-packages (from requests>=2.26.0->tiktoken>=0.7.0->litellm) (3.4.2)\n",
            "Requirement already satisfied: urllib3<3,>=1.21.1 in /usr/local/lib/python3.11/dist-packages (from requests>=2.26.0->tiktoken>=0.7.0->litellm) (2.4.0)\n",
            "Downloading litellm-1.72.4-py3-none-any.whl (8.0 MB)\n",
            "\u001b[2K   \u001b[90m━━━━━━━━━━━━━━━━━━━━━━━━━━━━━━━━━━━━━━━━\u001b[0m \u001b[32m8.0/8.0 MB\u001b[0m \u001b[31m58.3 MB/s\u001b[0m eta \u001b[36m0:00:00\u001b[0m\n",
            "\u001b[?25hInstalling collected packages: litellm\n",
            "Successfully installed litellm-1.72.4\n"
          ]
        }
      ]
    },
    {
      "cell_type": "code",
      "source": [
        "import os\n",
        "import litellm\n",
        "from google.colab import userdata\n",
        "import json\n",
        "\n",
        "# Colab 보안 비밀에서 GOOGLE_API_KEY를 가져옵니다.\n",
        "# 이 과정은 이전과 동일하며, 키 자체가 유효하다는 것을 알고 있습니다.\n",
        "try:\n",
        "    google_api_key = userdata.get('GOOGLE_API_KEY')\n",
        "    if not google_api_key:\n",
        "        raise ValueError(\"GOOGLE_API_KEY not found in Colab secrets or is empty.\")\n",
        "    os.environ[\"GOOGLE_API_KEY\"] = google_api_key\n",
        "    print(\"GOOGLE_API_KEY successfully loaded from Colab secrets.\")\n",
        "except Exception as e:\n",
        "    print(f\"Error loading API key from userdata: {e}\")\n",
        "    print(\"Please ensure GOOGLE_API_KEY is correctly set in Colab secrets and notebook access is enabled.\")\n",
        "    exit() # API 키 로드 실패 시, 더 이상 진행하지 않고 종료\n",
        "\n",
        "print(\"\\n--- 2단계 (LiteLLM): 미술관 데이터베이스 조회 시작 ---\")\n",
        "\n",
        "# tools 정의\n",
        "tools = [\n",
        "    {\n",
        "        \"type\": \"function\",\n",
        "        \"function\": {\n",
        "            \"name\": \"get_artwork_details\",\n",
        "            \"description\": \"미술 작품의 상세 정보를 조회합니다.\",\n",
        "            \"parameters\": {\n",
        "                \"type\": \"object\",\n",
        "                \"properties\": {\n",
        "                    \"artwork_name\": {\n",
        "                        \"type\": \"string\",\n",
        "                        \"description\": \"조회할 미술 작품의 이름\",\n",
        "                    }\n",
        "                },\n",
        "                \"required\": [\"artwork_name\"],\n",
        "            },\n",
        "        },\n",
        "    }\n",
        "]\n",
        "\n",
        "# messages 정의\n",
        "messages = [{\"role\": \"user\", \"content\": \"'모나리자'에 대한 정보를 찾아줘.\"}]\n",
        "\n",
        "# LiteLLM completion 호출 시 api_key를 명시적으로 전달합니다.\n",
        "# 이렇게 하면 LiteLLM이 API 키를 정확히 사용하게 됩니다.\n",
        "response = litellm.completion(\n",
        "    model=\"gemini/gemini-2.5-flash-preview-05-20\",\n",
        "    messages=messages,\n",
        "    tools=tools,\n",
        "    tool_choice=\"auto\",\n",
        "    api_key=google_api_key,\n",
        ")\n",
        "\n",
        "# 응답 처리 로직\n",
        "tool_calls = response.choices[0].message.tool_calls\n",
        "if tool_calls:\n",
        "    print(\"Function Calling이 감지되었습니다.\")\n",
        "    available_functions = {\n",
        "        \"get_artwork_details\": lambda artwork_name: f\"미술관 데이터베이스에서 '{artwork_name}'에 대한 정보를 찾고 있습니다.\",\n",
        "    }\n",
        "    for tool_call in tool_calls:\n",
        "        function_name = tool_call.function.name\n",
        "        function_to_call = available_functions[function_name]\n",
        "        function_args = json.loads(tool_call.function.arguments)\n",
        "\n",
        "        function_response = function_to_call(\n",
        "            artwork_name=function_args.get(\"artwork_name\")\n",
        "        )\n",
        "        print(f\"호출된 함수: {function_name}, 인자: {function_args}\")\n",
        "        print(f\"함수 결과: {function_response}\")\n",
        "else:\n",
        "    print(\"AI 답변:\", response.choices[0].message.content)\n",
        "\n",
        "print(\"--- 2단계 (LiteLLM) 완료 ---\")"
      ],
      "outputs": [
        {
          "output_type": "stream",
          "name": "stdout",
          "text": [
            "GOOGLE_API_KEY successfully loaded from Colab secrets.\n",
            "\n",
            "--- 2단계 (LiteLLM): 미술관 데이터베이스 조회 시작 ---\n",
            "Function Calling이 감지되었습니다.\n",
            "호출된 함수: get_artwork_details, 인자: {'artwork_name': '모나리자'}\n",
            "함수 결과: 미술관 데이터베이스에서 '모나리자'에 대한 정보를 찾고 있습니다.\n",
            "--- 2단계 (LiteLLM) 완료 ---\n"
          ]
        }
      ],
      "execution_count": 22,
      "metadata": {
        "id": "vKdP--hZ-1Ex",
        "colab": {
          "base_uri": "https://localhost:8080/"
        },
        "outputId": "6e163422-c13a-400d-b7eb-9ba4f5dc06a7"
      }
    },
    {
      "cell_type": "markdown",
      "source": [
        "**✔️ 주요 변경점:**\n",
        "\n",
        "  * `client.chat.completions.create` -\\> `litellm.completion`\n",
        "  * `model=\"gpt-4o\"` -\\> `model=\"gemini/gemini-1.5-pro-latest\"`\n",
        "  * API 요청/응답 형식, `messages`, `tools` 구조 등 **나머지 모든 코드는 OpenAI 버전과 동일**합니다. 이것이 LiteLLM의 가장 큰 장점입니다.\n",
        "\n",
        "#### **3단계: RAG (LiteLLM)**\n",
        "\n",
        "LiteLLM은 LangChain과도 통합되지만, 보통 LangChain을 쓸 때는 위 `Gemini` 섹션처럼 LangChain이 제공하는 네이티브 통합 기능(`ChatGoogleGenerativeAI`)을 쓰는 것이 더 직관적입니다. LiteLLM은 여러 LLM API를 직접 호출하는 코드를 단일화할 때 가장 빛을 발합니다.\n",
        "\n",
        "-----\n",
        "\n",
        "### 🎯 최종 비교 및 요약\n",
        "\n",
        "| 구분 | **Gemini (직접 사용)** | **LiteLLM 사용** |\n",
        "| :--- | :--- | :--- |\n",
        "| **라이브러리** | `google-generativeai` | `litellm` |\n",
        "| **코드 형식** | Google SDK 고유의 형식 사용 | **OpenAI SDK 형식으로 통일** |\n",
        "| **장점** | - Gemini의 모든 최신 기능 활용 가능\\<br\\>- Google 생태계와 완벽한 통합 | - **모델 변경 시 코드 수정 최소화**\\<br\\>- 여러 모델을 동일한 코드로 제어\\<br\\>- 테스트 및 모델 비교에 매우 유리 |\n",
        "| **단점** | 모델 변경 시 코드 구조 변경 필요 | 모든 모델의 미세한 기능 차이를 100% 지원하지 못할 수 있음 |\n",
        "| **추천 대상** | **Google Gemini**를 주력으로 사용하려는 경우 | **다양한 LLM 모델**을 빠르고 쉽게 교체하며 테스트/개발하려는 경우 |\n",
        "\n",
        "결론적으로, 'AI 탐정 봇' 미션은 어떤 기술로든 훌륭하게 수행할 수 있습니다. 프로젝트의 목적과 선호하는 개발 방식에 따라 적절한 도구를 선택하시면 됩니다."
      ],
      "metadata": {
        "id": "x9PP2l6c-1Ex"
      }
    },
    {
      "cell_type": "markdown",
      "source": [
        "<div class=\"md-recitation\">\n",
        "  Sources\n",
        "  <ol>\n",
        "  <li><a href=\"https://github.com/nervina-labs/nft-wallet\">https://github.com/nervina-labs/nft-wallet</a></li>\n",
        "  <li><a href=\"https://www.editions-eni.fr/livre/machine-learning-et-deep-learning-des-bases-a-la-conception-avancee-d-algorithmes-exemples-en-python-et-en-javascript-9782409027604/le-deep-learning\">https://www.editions-eni.fr/livre/machine-learning-et-deep-learning-des-bases-a-la-conception-avancee-d-algorithmes-exemples-en-python-et-en-javascript-9782409027604/le-deep-learning</a></li>\n",
        "  <li><a href=\"https://githubissues.com/microsoft/LLMLingua/104\">https://githubissues.com/microsoft/LLMLingua/104</a></li>\n",
        "  <li><a href=\"https://www.53ai.com/news/qianyanjishu/1063.html\">https://www.53ai.com/news/qianyanjishu/1063.html</a></li>\n",
        "  <li><a href=\"https://github.com/NarenderSingh/cit-ai-project-api\">https://github.com/NarenderSingh/cit-ai-project-api</a></li>\n",
        "  <li><a href=\"https://github.com/luisagcenteno84/langchain\">https://github.com/luisagcenteno84/langchain</a></li>\n",
        "  <li><a href=\"https://github.com/GVS-007/hackathon_ai\">https://github.com/GVS-007/hackathon_ai</a></li>\n",
        "  </ol>\n",
        "</div>"
      ],
      "metadata": {
        "id": "GbmgFHdQ-1Ex"
      }
    }
  ],
  "metadata": {
    "colab": {
      "provenance": []
    },
    "kernelspec": {
      "display_name": "Python 3",
      "name": "python3"
    }
  },
  "nbformat": 4,
  "nbformat_minor": 0
}
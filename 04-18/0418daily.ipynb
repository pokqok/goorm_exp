{
  "nbformat": 4,
  "nbformat_minor": 0,
  "metadata": {
    "colab": {
      "provenance": []
    },
    "kernelspec": {
      "name": "python3",
      "display_name": "Python 3"
    },
    "language_info": {
      "name": "python"
    }
  },
  "cells": [
    {
      "cell_type": "code",
      "execution_count": 18,
      "metadata": {
        "colab": {
          "base_uri": "https://localhost:8080/",
          "height": 1000
        },
        "id": "3tgemcE4R1Jm",
        "outputId": "54e82fc9-0217-479f-db82-d776916a838c"
      },
      "outputs": [
        {
          "output_type": "stream",
          "name": "stdout",
          "text": [
            "🔍 데이터 기본 정보:\n",
            "<class 'pandas.core.frame.DataFrame'>\n",
            "RangeIndex: 891 entries, 0 to 890\n",
            "Data columns (total 12 columns):\n",
            " #   Column       Non-Null Count  Dtype  \n",
            "---  ------       --------------  -----  \n",
            " 0   PassengerId  891 non-null    int64  \n",
            " 1   Survived     891 non-null    int64  \n",
            " 2   Pclass       891 non-null    int64  \n",
            " 3   Name         891 non-null    object \n",
            " 4   Sex          891 non-null    object \n",
            " 5   Age          714 non-null    float64\n",
            " 6   SibSp        891 non-null    int64  \n",
            " 7   Parch        891 non-null    int64  \n",
            " 8   Ticket       891 non-null    object \n",
            " 9   Fare         891 non-null    float64\n",
            " 10  Cabin        204 non-null    object \n",
            " 11  Embarked     889 non-null    object \n",
            "dtypes: float64(2), int64(5), object(5)\n",
            "memory usage: 83.7+ KB\n",
            "None\n",
            "\n",
            "📊 결측치 확인:\n",
            "PassengerId      0\n",
            "Survived         0\n",
            "Pclass           0\n",
            "Name             0\n",
            "Sex              0\n",
            "Age            177\n",
            "SibSp            0\n",
            "Parch            0\n",
            "Ticket           0\n",
            "Fare             0\n",
            "Cabin          687\n",
            "Embarked         2\n",
            "dtype: int64\n",
            "\n",
            "🚢 생존자 분포:\n",
            "Survived\n",
            "0    0.616162\n",
            "1    0.383838\n",
            "Name: proportion, dtype: float64\n"
          ]
        },
        {
          "output_type": "display_data",
          "data": {
            "text/plain": [
              "<Figure size 800x400 with 1 Axes>"
            ],
            "image/png": "[encoded data removed]"
          },
          "metadata": {}
        }
      ],
      "source": [
        "import pandas as pd\n",
        "import numpy as np\n",
        "import matplotlib.pyplot as plt\n",
        "import seaborn as sns\n",
        "from sklearn.model_selection import train_test_split\n",
        "from sklearn.preprocessing import LabelEncoder, StandardScaler\n",
        "from sklearn.impute import SimpleImputer\n",
        "from sklearn.linear_model import LogisticRegression\n",
        "from sklearn.naive_bayes import GaussianNB\n",
        "from sklearn.metrics import (\n",
        "    accuracy_score,\n",
        "    confusion_matrix,\n",
        "    classification_report,\n",
        "    f1_score,\n",
        "    precision_score,\n",
        "    recall_score\n",
        ")\n",
        "import warnings\n",
        "warnings.filterwarnings('ignore')\n",
        "\n",
        "# 1. 데이터 로드\n",
        "url = 'https://raw.githubusercontent.com/datasciencedojo/datasets/master/titanic.csv'\n",
        "df = pd.read_csv(url)\n",
        "\n",
        "# 2. 기본 탐색 (EDA)\n",
        "print(\"🔍 데이터 기본 정보:\")\n",
        "print(df.info())\n",
        "\n",
        "print(\"\\n📊 결측치 확인:\")\n",
        "print(df.isnull().sum())\n",
        "\n",
        "# Survived 클래스 분포\n",
        "survived_counts = df['Survived'].value_counts(normalize=True)\n",
        "print(\"\\n🚢 생존자 분포:\")\n",
        "print(survived_counts)\n",
        "\n",
        "plt.figure(figsize=(8, 4))\n",
        "survived_counts.plot(kind='bar')\n",
        "plt.title('생존자 분포')\n",
        "plt.xlabel('생존 여부')\n",
        "plt.ylabel('비율')\n",
        "plt.show()"
      ]
    },
    {
      "cell_type": "code",
      "source": [
        "from re import X\n",
        "#3 전처리\n",
        "#불필요한 컬럼 제거\n",
        "df_processed = df.drop(['PassengerId', 'Name', 'Ticket', 'Cabin'], axis=1)\n",
        "\n",
        "#결측치 처리\n",
        "# Age: 중앙값 대체\n",
        "df_processed['Age'] = df_processed['Age'].fillna(df_processed['Age'].median())\n",
        "\n",
        "# Embarked: 최빈값 대체\n",
        "df_processed['Embarked'] = df_processed['Embarked'].fillna(df_processed['Embarked'].mode()[0])\n",
        "\n",
        "le = LabelEncoder()\n",
        "df_processed['Sex'] = le.fit_transform(df_processed['Sex'])\n",
        "df_processed['Embarked'] = le.fit_transform(df_processed['Embarked'])\n",
        "\n",
        "# 특징 및 타겟 분리\n",
        "X  = df_processed.drop('Survived', axis=1)\n",
        "y = df_processed['Survived']\n",
        "\n",
        "# 스케일링\n",
        "scaler = StandardScaler()\n",
        "X_scaled = scaler.fit_transform(X)\n",
        "\n",
        "# 데이터 분할\n",
        "X_train, X_test, y_train, y_test = train_test_split(\n",
        "    X_scaled, y, test_size=0.2, random_state=42, stratify=y\n",
        ")"
      ],
      "metadata": {
        "id": "WIHSb6v6XiXv"
      },
      "execution_count": 20,
      "outputs": []
    },
    {
      "cell_type": "code",
      "source": [
        "# 4. 모델 학습 및 평가\n",
        "def evaluate_model(y_true, y_pred, model_name):\n",
        "    print(f\"\\n {model_name} 성능 평가:\")\n",
        "    print(\"정확도:\", accuracy_score(y_true, y_pred))\n",
        "    print(\"정밀도:\", precision_score(y_true, y_pred))\n",
        "    print(\"재현율:\", recall_score(y_true, y_pred))\n",
        "    print(\"F1 점수:\", f1_score(y_true, y_pred))\n",
        "\n",
        "    print(\"\\n혼동 행렬:\")\n",
        "    cm = confusion_matrix(y_true, y_pred)\n",
        "    print(cm)\n",
        "\n",
        "    plt.figure(figsize=(6, 4))\n",
        "    sns.heatmap(cm, annot=True, fmt='d', cmap='Blues')\n",
        "    plt.title(f'{model_name} 혼동 행렬')\n",
        "    plt.xlabel('예측')\n",
        "    plt.ylabel('실제')\n",
        "    plt.show()\n",
        "\n",
        "# 로지스틱 회귀\n",
        "lr_model = LogisticRegression(random_state=42)\n",
        "lr_model.fit(X_train, y_train)\n",
        "lr_pred = lr_model.predict(X_test)\n",
        "evaluate_model(y_test, lr_pred, \"로지스틱 회귀\")\n",
        "\n",
        "# 가우시안 나이브 베이즈\n",
        "gnb_model = GaussianNB()\n",
        "gnb_model.fit(X_train, y_train)\n",
        "gnb_pred = gnb_model.predict(X_test)\n",
        "evaluate_model(y_test, gnb_pred, \"가우시안 나이브 베이즈\")"
      ],
      "metadata": {
        "colab": {
          "base_uri": "https://localhost:8080/",
          "height": 1000
        },
        "id": "aqCNcTSvYeXm",
        "outputId": "6422be9a-e37a-44c9-8e72-cab4b9ee57de"
      },
      "execution_count": 32,
      "outputs": [
        {
          "output_type": "stream",
          "name": "stdout",
          "text": [
            "\n",
            " 로지스틱 회귀 성능 평가:\n",
            "정확도: 0.7988826815642458\n",
            "정밀도: 0.7796610169491526\n",
            "재현율: 0.6666666666666666\n",
            "F1 점수: 0.71875\n",
            "\n",
            "혼동 행렬:\n",
            "[[97 13]\n",
            " [23 46]]\n"
          ]
        },
        {
          "output_type": "display_data",
          "data": {
            "text/plain": [
              "<Figure size 600x400 with 2 Axes>"
            ],
            "image/png": "[encoded data removed]"
          },
          "metadata": {}
        },
        {
          "output_type": "stream",
          "name": "stdout",
          "text": [
            "\n",
            " 가우시안 나이브 베이즈 성능 평가:\n",
            "정확도: 0.7821229050279329\n",
            "정밀도: 0.7272727272727273\n",
            "재현율: 0.6956521739130435\n",
            "F1 점수: 0.7111111111111111\n",
            "\n",
            "혼동 행렬:\n",
            "[[92 18]\n",
            " [21 48]]\n"
          ]
        },
        {
          "output_type": "display_data",
          "data": {
            "text/plain": [
              "<Figure size 600x400 with 2 Axes>"
            ],
            "image/png": "[encoded data removed]"
          },
          "metadata": {}
        }
      ]
    },
    {
      "cell_type": "code",
      "source": [
        "# 5. 모델 비교\n",
        "print(\"\\n 모델 비교:\")\n",
        "print(\"로지스틱 회귀 정확도:\", accuracy_score(y_test, lr_pred))\n",
        "print(\"가우시안 나이브 베이즈 정확도:\", accuracy_score(y_test, gnb_pred))\n",
        "\n",
        "# 특징 중요도 (로지스틱 회귀)\n",
        "feature_importance = pd.DataFrame({\n",
        "    'feature': X.columns,\n",
        "    'importance': np.abs(lr_model.coef_[0])\n",
        "})\n",
        "print(\"\\n🌟 특징 중요도:\")\n",
        "print(feature_importance.sort_values('importance', ascending=False))"
      ],
      "metadata": {
        "colab": {
          "base_uri": "https://localhost:8080/"
        },
        "id": "BAtDgoB-ZkBZ",
        "outputId": "6b56be23-e767-45b1-a0d9-a125edbe74e4"
      },
      "execution_count": 34,
      "outputs": [
        {
          "output_type": "stream",
          "name": "stdout",
          "text": [
            "\n",
            " 모델 비교:\n",
            "로지스틱 회귀 정확도: 0.7988826815642458\n",
            "가우시안 나이브 베이즈 정확도: 0.7821229050279329\n",
            "\n",
            "🌟 특징 중요도:\n",
            "    feature  importance\n",
            "1       Sex    1.283263\n",
            "0    Pclass    0.891855\n",
            "2       Age    0.494470\n",
            "3     SibSp    0.275199\n",
            "6  Embarked    0.182824\n",
            "5      Fare    0.101712\n",
            "4     Parch    0.079203\n"
          ]
        }
      ]
    },
    {
      "cell_type": "markdown",
      "source": [
        "개선 아이디어로는 교차검증이나 시각화 추가 등이 있습니다"
      ],
      "metadata": {
        "id": "w-7z1uHDcDYz"
      }
    }
  ]
}
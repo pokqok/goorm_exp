{
  "cells": [
    {
      "cell_type": "markdown",
      "id": "f590c498",
      "metadata": {
        "id": "f590c498"
      },
      "source": [
        "# TravelMate AI – 최종 개선 솔루션 (가독성 UP)\n",
        "이 노트북은 **독↔영 소규모 NMT 프로토타입**의 레퍼런스 구현입니다.\n",
        "- BPE 서브워드\n",
        "- LSTM Encoder/Decoder + Bahdanau Attention\n",
        "- Teacher Forcing + Gradient Clipping + Label Smoothing\n",
        "- Greedy Decoding & 간이 BLEU 평가\n",
        "\n",
        "모든 코드에 **상세 주석**을 달아 가독성을 높였습니다. GPU/CPU 모두 동작하며, Colab GPU 기준 전체 학습 ≈ 10 분(10 Epoch)입니다."
      ]
    },
    {
      "cell_type": "code",
      "source": [
        "!pip install sacrebleu"
      ],
      "metadata": {
        "colab": {
          "base_uri": "https://localhost:8080/"
        },
        "id": "Ua6aiFDICu0R",
        "outputId": "6b38071a-1c64-4fce-fbdd-39541e7154f7"
      },
      "id": "Ua6aiFDICu0R",
      "execution_count": 1,
      "outputs": [
        {
          "output_type": "stream",
          "name": "stdout",
          "text": [
            "Requirement already satisfied: sacrebleu in /usr/local/lib/python3.11/dist-packages (2.5.1)\n",
            "Requirement already satisfied: portalocker in /usr/local/lib/python3.11/dist-packages (from sacrebleu) (3.1.1)\n",
            "Requirement already satisfied: regex in /usr/local/lib/python3.11/dist-packages (from sacrebleu) (2024.11.6)\n",
            "Requirement already satisfied: tabulate>=0.8.9 in /usr/local/lib/python3.11/dist-packages (from sacrebleu) (0.9.0)\n",
            "Requirement already satisfied: numpy>=1.17 in /usr/local/lib/python3.11/dist-packages (from sacrebleu) (2.0.2)\n",
            "Requirement already satisfied: colorama in /usr/local/lib/python3.11/dist-packages (from sacrebleu) (0.4.6)\n",
            "Requirement already satisfied: lxml in /usr/local/lib/python3.11/dist-packages (from sacrebleu) (5.4.0)\n"
          ]
        }
      ]
    },
    {
      "cell_type": "code",
      "execution_count": 2,
      "id": "1ceaa38f",
      "metadata": {
        "colab": {
          "base_uri": "https://localhost:8080/"
        },
        "id": "1ceaa38f",
        "outputId": "3ddf5529-7106-46d3-805d-e849311cfc8b"
      },
      "outputs": [
        {
          "output_type": "stream",
          "name": "stdout",
          "text": [
            "✓ Using device: cuda\n"
          ]
        }
      ],
      "source": [
        "import random\n",
        "import numpy as np\n",
        "from pathlib import Path\n",
        "from typing import List, Tuple\n",
        "\n",
        "import torch\n",
        "import torch.nn as nn\n",
        "from torch.utils.data import Dataset, DataLoader\n",
        "from torch.nn.utils.rnn import pad_sequence\n",
        "import sentencepiece as spm\n",
        "from datasets import load_dataset\n",
        "import sacrebleu\n",
        "from tqdm import tqdm\n",
        "\n",
        "# ------------------ Global configuration ------------------ #\n",
        "SEED   = 42\n",
        "\n",
        "if torch.cuda.is_available(): device=torch.device(\"cuda\")\n",
        "elif torch.backends.mps.is_available(): device=torch.device(\"mps\")\n",
        "else: device=torch.device(\"cpu\")\n",
        "DEVICE = device\n",
        "\n",
        "random.seed(SEED)\n",
        "np.random.seed(SEED)\n",
        "torch.manual_seed(SEED)\n",
        "print(f'✓ Using device: {DEVICE}')"
      ]
    },
    {
      "cell_type": "markdown",
      "id": "9b90d707",
      "metadata": {
        "id": "9b90d707"
      },
      "source": [
        "## 1. 데이터셋 다운로드 & BPE 토크나이저 학습"
      ]
    },
    {
      "cell_type": "code",
      "source": [
        "!pip install -U datasets huggingface_hub fsspec"
      ],
      "metadata": {
        "colab": {
          "base_uri": "https://localhost:8080/"
        },
        "id": "yIZstJTWC_vi",
        "outputId": "85b60ee4-eea3-4248-d905-8b98bd767d48"
      },
      "id": "yIZstJTWC_vi",
      "execution_count": 3,
      "outputs": [
        {
          "output_type": "stream",
          "name": "stdout",
          "text": [
            "Requirement already satisfied: datasets in /usr/local/lib/python3.11/dist-packages (3.6.0)\n",
            "Requirement already satisfied: huggingface_hub in /usr/local/lib/python3.11/dist-packages (0.31.4)\n",
            "Requirement already satisfied: fsspec in /usr/local/lib/python3.11/dist-packages (2025.3.0)\n",
            "Collecting fsspec\n",
            "  Using cached fsspec-2025.5.0-py3-none-any.whl.metadata (11 kB)\n",
            "Requirement already satisfied: filelock in /usr/local/lib/python3.11/dist-packages (from datasets) (3.18.0)\n",
            "Requirement already satisfied: numpy>=1.17 in /usr/local/lib/python3.11/dist-packages (from datasets) (2.0.2)\n",
            "Requirement already satisfied: pyarrow>=15.0.0 in /usr/local/lib/python3.11/dist-packages (from datasets) (18.1.0)\n",
            "Requirement already satisfied: dill<0.3.9,>=0.3.0 in /usr/local/lib/python3.11/dist-packages (from datasets) (0.3.7)\n",
            "Requirement already satisfied: pandas in /usr/local/lib/python3.11/dist-packages (from datasets) (2.2.2)\n",
            "Requirement already satisfied: requests>=2.32.2 in /usr/local/lib/python3.11/dist-packages (from datasets) (2.32.3)\n",
            "Requirement already satisfied: tqdm>=4.66.3 in /usr/local/lib/python3.11/dist-packages (from datasets) (4.67.1)\n",
            "Requirement already satisfied: xxhash in /usr/local/lib/python3.11/dist-packages (from datasets) (3.5.0)\n",
            "Requirement already satisfied: multiprocess<0.70.17 in /usr/local/lib/python3.11/dist-packages (from datasets) (0.70.15)\n",
            "Requirement already satisfied: packaging in /usr/local/lib/python3.11/dist-packages (from datasets) (24.2)\n",
            "Requirement already satisfied: pyyaml>=5.1 in /usr/local/lib/python3.11/dist-packages (from datasets) (6.0.2)\n",
            "Requirement already satisfied: typing-extensions>=3.7.4.3 in /usr/local/lib/python3.11/dist-packages (from huggingface_hub) (4.13.2)\n",
            "Requirement already satisfied: aiohttp!=4.0.0a0,!=4.0.0a1 in /usr/local/lib/python3.11/dist-packages (from fsspec[http]<=2025.3.0,>=2023.1.0->datasets) (3.11.15)\n",
            "Requirement already satisfied: charset-normalizer<4,>=2 in /usr/local/lib/python3.11/dist-packages (from requests>=2.32.2->datasets) (3.4.2)\n",
            "Requirement already satisfied: idna<4,>=2.5 in /usr/local/lib/python3.11/dist-packages (from requests>=2.32.2->datasets) (3.10)\n",
            "Requirement already satisfied: urllib3<3,>=1.21.1 in /usr/local/lib/python3.11/dist-packages (from requests>=2.32.2->datasets) (2.4.0)\n",
            "Requirement already satisfied: certifi>=2017.4.17 in /usr/local/lib/python3.11/dist-packages (from requests>=2.32.2->datasets) (2025.4.26)\n",
            "Requirement already satisfied: python-dateutil>=2.8.2 in /usr/local/lib/python3.11/dist-packages (from pandas->datasets) (2.9.0.post0)\n",
            "Requirement already satisfied: pytz>=2020.1 in /usr/local/lib/python3.11/dist-packages (from pandas->datasets) (2025.2)\n",
            "Requirement already satisfied: tzdata>=2022.7 in /usr/local/lib/python3.11/dist-packages (from pandas->datasets) (2025.2)\n",
            "Requirement already satisfied: aiohappyeyeballs>=2.3.0 in /usr/local/lib/python3.11/dist-packages (from aiohttp!=4.0.0a0,!=4.0.0a1->fsspec[http]<=2025.3.0,>=2023.1.0->datasets) (2.6.1)\n",
            "Requirement already satisfied: aiosignal>=1.1.2 in /usr/local/lib/python3.11/dist-packages (from aiohttp!=4.0.0a0,!=4.0.0a1->fsspec[http]<=2025.3.0,>=2023.1.0->datasets) (1.3.2)\n",
            "Requirement already satisfied: attrs>=17.3.0 in /usr/local/lib/python3.11/dist-packages (from aiohttp!=4.0.0a0,!=4.0.0a1->fsspec[http]<=2025.3.0,>=2023.1.0->datasets) (25.3.0)\n",
            "Requirement already satisfied: frozenlist>=1.1.1 in /usr/local/lib/python3.11/dist-packages (from aiohttp!=4.0.0a0,!=4.0.0a1->fsspec[http]<=2025.3.0,>=2023.1.0->datasets) (1.6.0)\n",
            "Requirement already satisfied: multidict<7.0,>=4.5 in /usr/local/lib/python3.11/dist-packages (from aiohttp!=4.0.0a0,!=4.0.0a1->fsspec[http]<=2025.3.0,>=2023.1.0->datasets) (6.4.3)\n",
            "Requirement already satisfied: propcache>=0.2.0 in /usr/local/lib/python3.11/dist-packages (from aiohttp!=4.0.0a0,!=4.0.0a1->fsspec[http]<=2025.3.0,>=2023.1.0->datasets) (0.3.1)\n",
            "Requirement already satisfied: yarl<2.0,>=1.17.0 in /usr/local/lib/python3.11/dist-packages (from aiohttp!=4.0.0a0,!=4.0.0a1->fsspec[http]<=2025.3.0,>=2023.1.0->datasets) (1.20.0)\n",
            "Requirement already satisfied: six>=1.5 in /usr/local/lib/python3.11/dist-packages (from python-dateutil>=2.8.2->pandas->datasets) (1.17.0)\n"
          ]
        }
      ]
    },
    {
      "cell_type": "code",
      "execution_count": 4,
      "id": "5b6fb269",
      "metadata": {
        "colab": {
          "base_uri": "https://localhost:8080/",
          "height": 411,
          "referenced_widgets": [
            "c023aae9c71741d8969da64627eab269",
            "ddd2bf5bb9a24f55a78f140a42dace3e",
            "486f9462d4fe4350b5993a89f6370d7b",
            "890adf24bed345dcafbff65574edbb06",
            "5086a4a7cfb049d5bc355f71e681404d",
            "ee5b3b73727a4ccab0c6b80ba91d5043",
            "bfd02a060c7a429e92916ca1b93abdbf",
            "72c6d6bba6c04d8c983866725ff6be99",
            "bb2702674f744b11981695e34a416bc8",
            "1c5064cf850d44b99d2f835e7d2641d2",
            "4401f7c9ff3f4461be3869278f9e6496",
            "5a965ef98d9b41458aee726818b44672",
            "7d1673b7f0774eb09cdedde8d2add3c0",
            "f066153e2d5a4f36992d7bbeb5058e1e",
            "920a83b8511247a087fb96c987aef1e5",
            "659fc1db796d45a8ab6b998f4afbcdee",
            "63243172b36e4540a2d5cb006fccd804",
            "408b10e6af08434aa712d8c7f51b8bcb",
            "5157e830edc7455fb87995ab420b9a0b",
            "c7a82b5b2946430b871e580bd9704ab6",
            "3eb4aace13164b21b12e9f366a8ac857",
            "de30985ab5a24b68b24474d72480fdf6",
            "40100fa9c52d480c8cb5740d0814fed0",
            "59e763bb82d249468f79ac5c01f90872",
            "a5b8bae180614dc89608740a45229b08",
            "9eaf8f452b70484f9687de3826238d76",
            "0b59a7ee2f5942c18537987a706b67fb",
            "ac1ab6d46b894b63aa772133f9272cac",
            "e916d5810bdf426592cd4060314f15f3",
            "de0b7d4360ee4c038d2983d32b159a65",
            "9dbbdf7f428742c6920324eaff24aeed",
            "7fc688ed285342f88b5327d311c605b0",
            "df183b31ea9940c78652a6cf012c2a96"
          ]
        },
        "id": "5b6fb269",
        "outputId": "c1f971f8-a666-4422-c7d7-6668033b6779"
      },
      "outputs": [
        {
          "output_type": "stream",
          "name": "stderr",
          "text": [
            "/usr/local/lib/python3.11/dist-packages/huggingface_hub/utils/_auth.py:94: UserWarning: \n",
            "The secret `HF_TOKEN` does not exist in your Colab secrets.\n",
            "To authenticate with the Hugging Face Hub, create a token in your settings tab (https://huggingface.co/settings/tokens), set it as secret in your Google Colab and restart your session.\n",
            "You will be able to reuse this secret in all of your notebooks.\n",
            "Please note that authentication is recommended but still optional to access public models or datasets.\n",
            "  warnings.warn(\n"
          ]
        },
        {
          "output_type": "display_data",
          "data": {
            "text/plain": [
              "README.md:   0%|          | 0.00/28.1k [00:00<?, ?B/s]"
            ],
            "application/vnd.jupyter.widget-view+json": {
              "version_major": 2,
              "version_minor": 0,
              "model_id": "c023aae9c71741d8969da64627eab269"
            }
          },
          "metadata": {}
        },
        {
          "output_type": "display_data",
          "data": {
            "text/plain": [
              "train-00000-of-00001.parquet:   0%|          | 0.00/8.80M [00:00<?, ?B/s]"
            ],
            "application/vnd.jupyter.widget-view+json": {
              "version_major": 2,
              "version_minor": 0,
              "model_id": "5a965ef98d9b41458aee726818b44672"
            }
          },
          "metadata": {}
        },
        {
          "output_type": "display_data",
          "data": {
            "text/plain": [
              "Generating train split:   0%|          | 0/51467 [00:00<?, ? examples/s]"
            ],
            "application/vnd.jupyter.widget-view+json": {
              "version_major": 2,
              "version_minor": 0,
              "model_id": "40100fa9c52d480c8cb5740d0814fed0"
            }
          },
          "metadata": {}
        },
        {
          "output_type": "stream",
          "name": "stdout",
          "text": [
            "Dataset({\n",
            "    features: ['id', 'translation'],\n",
            "    num_rows: 41174\n",
            "})\n",
            "en data/train.en\n",
            "de data/train.de\n",
            "✓ Text files written.\n",
            "🛠  Training SentencePiece BPE ...\n",
            "✓ BPE 모델 학습 완료\n",
            "SentencePiece vocab size: 8000\n"
          ]
        }
      ],
      "source": [
        "# 경로 및 데이터셋 로드 -------------------------------------------------\n",
        "DATA_DIR = Path('./data'); DATA_DIR.mkdir(exist_ok=True)\n",
        "TRAIN_SPLIT = 'train[:80%]'  # 학습용으로 전체의 80 % 사용\n",
        "raw_train = load_dataset('opus_books', 'de-en', split=TRAIN_SPLIT)\n",
        "\n",
        "print(raw_train)\n",
        "\n",
        "# 평문(.txt) 파일 작성 – SentencePiece 학습 입력 ------------------------\n",
        "def dump_text(ds, lang: str, path: Path) -> None:\n",
        "    \"\"\"Corpus → plain text 파일(one sentence per line).\"\"\"\n",
        "    with path.open('w', encoding='utf-8') as f:\n",
        "        for ex in ds:\n",
        "            sent = ex['translation'][lang].replace('\\n', ' ')\n",
        "            f.write(sent + '\\n')\n",
        "\n",
        "SRC_TXT, TGT_TXT = DATA_DIR/'train.en', DATA_DIR/'train.de'\n",
        "if not SRC_TXT.exists():\n",
        "    dump_text(raw_train, 'en', SRC_TXT)\n",
        "    dump_text(raw_train, 'de', TGT_TXT)\n",
        "    print('en', SRC_TXT)\n",
        "    print('de', TGT_TXT)\n",
        "    print('✓ Text files written.')\n",
        "\n",
        "# SentencePiece BPE 학습 ----------------------------------------------\n",
        "BPE_VOCAB   = 8000\n",
        "BPE_PREFIX  = str(DATA_DIR/'bpe')\n",
        "\n",
        "if not Path(BPE_PREFIX + '.model').exists():\n",
        "    print('🛠  Training SentencePiece BPE ...')\n",
        "    spm.SentencePieceTrainer.train(\n",
        "        input=f'{SRC_TXT},{TGT_TXT}',\n",
        "        model_prefix=BPE_PREFIX,\n",
        "        vocab_size=BPE_VOCAB,\n",
        "        character_coverage=1.0,         # 모든 유니코드 포함\n",
        "        model_type='bpe',               # BPE 모델\n",
        "        bos_id=1, eos_id=2, pad_id=0, unk_id=3,\n",
        "    )\n",
        "    print('✓ BPE 모델 학습 완료')\n",
        "else:\n",
        "    print('✓ 기존 BPE 모델 사용')\n",
        "\n",
        "sp = spm.SentencePieceProcessor(); sp.load(BPE_PREFIX + '.model')\n",
        "VOCAB_SIZE = sp.vocab_size()\n",
        "print('SentencePiece vocab size:', VOCAB_SIZE)"
      ]
    },
    {
      "cell_type": "markdown",
      "id": "ddf03943",
      "metadata": {
        "id": "ddf03943"
      },
      "source": [
        "## 2. 데이터셋 숫자화 & DataLoader 준비"
      ]
    },
    {
      "cell_type": "code",
      "execution_count": 5,
      "id": "767f6f92",
      "metadata": {
        "colab": {
          "base_uri": "https://localhost:8080/"
        },
        "id": "767f6f92",
        "outputId": "49eca4cf-5cfb-499c-acf3-c03dfdbf69b8"
      },
      "outputs": [
        {
          "output_type": "stream",
          "name": "stdout",
          "text": [
            "✓ DataLoader ready: 644 batches\n"
          ]
        }
      ],
      "source": [
        "class TranslationDataset(Dataset):\n",
        "    \"\"\"영-독 병렬 문장을 <BOS> ... <EOS> 형 ID 시퀀스로 변환.\"\"\"\n",
        "    def __init__(self, ds, tokenizer: spm.SentencePieceProcessor, max_len: int = 100):\n",
        "        self.ds, self.sp, self.max_len = ds, tokenizer, max_len\n",
        "\n",
        "    def __getitem__(self, idx: int):\n",
        "        ex = self.ds[idx]['translation']\n",
        "\n",
        "        # ---------- Source (English) 처리 ---------- #\n",
        "        src_ids = self.sp.encode(ex['en'], out_type=int)[: self.max_len-2]\n",
        "        src = [self.sp.bos_id()] + src_ids + [self.sp.eos_id()]\n",
        "\n",
        "        # ---------- Target (German) 처리 ---------- #\n",
        "        tgt_ids = self.sp.encode(ex['de'], out_type=int)[: self.max_len-2]\n",
        "        tgt_in  = [self.sp.bos_id()] + tgt_ids              # decoder 입력\n",
        "        tgt_out = tgt_ids + [self.sp.eos_id()]              # label\n",
        "\n",
        "        return (\n",
        "            torch.LongTensor(src),\n",
        "            torch.LongTensor(tgt_in),\n",
        "            torch.LongTensor(tgt_out),\n",
        "        )\n",
        "\n",
        "    def __len__(self) -> int:\n",
        "        return len(self.ds)\n",
        "\n",
        "# -------- DataLoader -------- #\n",
        "def collate_fn(batch):\n",
        "    src, tgt_in, tgt_out = zip(*batch)\n",
        "    src, tgt_in, tgt_out = [\n",
        "        pad_sequence(t, batch_first=True, padding_value=0)\n",
        "        for t in (src, tgt_in, tgt_out)\n",
        "    ]\n",
        "    return src.to(DEVICE), tgt_in.to(DEVICE), tgt_out.to(DEVICE)\n",
        "\n",
        "train_ds = TranslationDataset(raw_train, sp)\n",
        "train_dl = DataLoader(train_ds, batch_size=64, shuffle=True, collate_fn=collate_fn)\n",
        "print('✓ DataLoader ready:', len(train_dl), 'batches')"
      ]
    },
    {
      "cell_type": "markdown",
      "id": "5160c86d",
      "metadata": {
        "id": "5160c86d"
      },
      "source": [
        "## 3. LSTM Seq2Seq + Bahdanau Attention 모델"
      ]
    },
    {
      "cell_type": "code",
      "execution_count": 6,
      "id": "fc278e53",
      "metadata": {
        "colab": {
          "base_uri": "https://localhost:8080/"
        },
        "id": "fc278e53",
        "outputId": "4968249a-26e0-4737-bd7f-c5a55d344cff"
      },
      "outputs": [
        {
          "output_type": "stream",
          "name": "stdout",
          "text": [
            "✓ Model params: 7.0 M\n"
          ]
        }
      ],
      "source": [
        "D_MODEL = 256  # 임베딩·히든 차원\n",
        "\n",
        "class AdditiveAttention(nn.Module):\n",
        "    \"\"\"Bahdanau (Additive) Attention.\"\"\"\n",
        "    def __init__(self, d_model: int):\n",
        "        super().__init__()\n",
        "        self.W1 = nn.Linear(d_model, d_model)\n",
        "        self.W2 = nn.Linear(d_model, d_model)\n",
        "        self.v  = nn.Linear(d_model, 1, bias=False)\n",
        "\n",
        "    def forward(self, enc_out: torch.Tensor, dec_h: torch.Tensor) -> torch.Tensor:\n",
        "        \"\"\"enc_out: (B, S, D),  dec_h: (B, 1, D)\"\"\"\n",
        "        score   = self.v(torch.tanh(self.W1(enc_out) + self.W2(dec_h)))  # (B,S,1)\n",
        "        weights = torch.softmax(score, dim=1)                            # attention prob\n",
        "        context = (weights * enc_out).sum(dim=1, keepdim=True)          # (B,1,D)\n",
        "        return context\n",
        "\n",
        "class Encoder(nn.Module):\n",
        "    def __init__(self, vocab_size: int):\n",
        "        super().__init__()\n",
        "        self.emb  = nn.Embedding(vocab_size, D_MODEL, padding_idx=0)\n",
        "        self.lstm = nn.LSTM(D_MODEL, D_MODEL, batch_first=True)\n",
        "\n",
        "    def forward(self, src: torch.Tensor) -> Tuple[torch.Tensor, Tuple[torch.Tensor, torch.Tensor]]:\n",
        "        \"\"\"Returns: enc_out, (h, c)\"\"\"\n",
        "        emb = self.emb(src)\n",
        "        return self.lstm(emb)\n",
        "\n",
        "class Decoder(nn.Module):\n",
        "    def __init__(self, vocab_size: int):\n",
        "        super().__init__()\n",
        "        self.emb  = nn.Embedding(vocab_size, D_MODEL, padding_idx=0)\n",
        "        self.lstm = nn.LSTM(D_MODEL * 2, D_MODEL, batch_first=True)\n",
        "        self.attn = AdditiveAttention(D_MODEL)\n",
        "        self.fc   = nn.Linear(D_MODEL, vocab_size)\n",
        "\n",
        "    def forward(\n",
        "        self,\n",
        "        tgt_in:  torch.Tensor,                      # (B, T)\n",
        "        enc_out: torch.Tensor,                      # (B, S, D)\n",
        "        state:   Tuple[torch.Tensor, torch.Tensor], # (h, c)\n",
        "    ) -> torch.Tensor:\n",
        "        h, c   = state\n",
        "        outputs = []\n",
        "\n",
        "        # Teacher‑forcing: time‑step loop (그래도 빠름 – S 작은 데이터)\n",
        "        for t in range(tgt_in.size(1)):\n",
        "            context = self.attn(enc_out, h[-1].unsqueeze(1))          # (B,1,D)\n",
        "            emb_in  = self.emb(tgt_in[:, t:t+1])                      # (B,1,D)\n",
        "            lstm_in = torch.cat([emb_in, context], dim=-1)            # (B,1,2D)\n",
        "            out, (h, c) = self.lstm(lstm_in, (h, c))                 # (B,1,D)\n",
        "            outputs.append(self.fc(out))                              # logits\n",
        "\n",
        "        return torch.cat(outputs, dim=1)  # (B, T, vocab)\n",
        "\n",
        "class Seq2Seq(nn.Module):\n",
        "    def __init__(self, vocab_size: int):\n",
        "        super().__init__()\n",
        "        self.enc = Encoder(vocab_size)\n",
        "        self.dec = Decoder(vocab_size)\n",
        "\n",
        "    def forward(self, src: torch.Tensor, tgt_in: torch.Tensor) -> torch.Tensor:\n",
        "        enc_out, (h, c) = self.enc(src)\n",
        "        return self.dec(tgt_in, enc_out, (h, c))\n",
        "\n",
        "# Instantiate model --------------------------------------------------\n",
        "model = Seq2Seq(VOCAB_SIZE).to(DEVICE)\n",
        "print('✓ Model params:', sum(p.numel() for p in model.parameters())//1e6, 'M')"
      ]
    },
    {
      "cell_type": "markdown",
      "id": "1aee4cb1",
      "metadata": {
        "id": "1aee4cb1"
      },
      "source": [
        "## 4. 학습 루프 – Teacher Forcing + Gradient Clipping"
      ]
    },
    {
      "cell_type": "code",
      "execution_count": 7,
      "id": "9eac3156",
      "metadata": {
        "colab": {
          "base_uri": "https://localhost:8080/"
        },
        "id": "9eac3156",
        "outputId": "6a0c1279-60c3-4341-b9ac-4fd7835b0803"
      },
      "outputs": [
        {
          "output_type": "stream",
          "name": "stdout",
          "text": [
            "Epoch 01 | loss 6.523\n",
            "Epoch 02 | loss 5.671\n",
            "Epoch 03 | loss 5.276\n",
            "Epoch 04 | loss 5.039\n",
            "Epoch 05 | loss 4.869\n",
            "Epoch 06 | loss 4.731\n",
            "Epoch 07 | loss 4.614\n",
            "Epoch 08 | loss 4.510\n",
            "Epoch 09 | loss 4.418\n",
            "Epoch 10 | loss 4.334\n"
          ]
        }
      ],
      "source": [
        "optimizer = torch.optim.Adam(model.parameters(), lr=1e-3)\n",
        "loss_fn  = nn.CrossEntropyLoss(ignore_index=0, label_smoothing=0.1)\n",
        "\n",
        "EPOCHS       = 10\n",
        "TF_RATIO     = 0.5   # Teacher‑forcing probability\n",
        "CLIP_NORM    = 1.0\n",
        "\n",
        "def run_epoch(epoch: int) -> None:\n",
        "    model.train()\n",
        "    total_loss = 0.0\n",
        "    for src, tgt_in, tgt_out in train_dl:\n",
        "        # --------------------------------------------------------\n",
        "        # Forward pass (Teacher‑forcing always ON → 간단)\n",
        "        # --------------------------------------------------------\n",
        "        logits = model(src, tgt_in)\n",
        "\n",
        "        # Loss 계산\n",
        "        loss = loss_fn(logits.view(-1, VOCAB_SIZE), tgt_out.view(-1))\n",
        "\n",
        "        # Backprop -------------------------------------------------\n",
        "        optimizer.zero_grad()\n",
        "        loss.backward()\n",
        "        torch.nn.utils.clip_grad_norm_(model.parameters(), CLIP_NORM)\n",
        "        optimizer.step()\n",
        "\n",
        "        total_loss += loss.item()\n",
        "\n",
        "    avg_loss = total_loss / len(train_dl)\n",
        "    print(f'Epoch {epoch:02d} | loss {avg_loss:.3f}')\n",
        "\n",
        "for ep in range(1, EPOCHS + 1):\n",
        "    run_epoch(ep)"
      ]
    },
    {
      "cell_type": "markdown",
      "id": "d880579e",
      "metadata": {
        "id": "d880579e"
      },
      "source": [
        "## 5. Greedy Decoding 함수"
      ]
    },
    {
      "cell_type": "code",
      "execution_count": 8,
      "id": "ba1286b8",
      "metadata": {
        "id": "ba1286b8"
      },
      "outputs": [],
      "source": [
        "def greedy_translate(model: Seq2Seq, sentence: str, max_len: int = 60) -> str:\n",
        "    \"\"\"영어 입력을 독어로 번역 (greedy).\"\"\"\n",
        "    model.eval()\n",
        "\n",
        "    # -------- 인코딩 --------\n",
        "    src_ids = [sp.bos_id()] + sp.encode(sentence, out_type=int) + [sp.eos_id()]\n",
        "    src     = torch.LongTensor(src_ids).unsqueeze(0).to(DEVICE)\n",
        "    enc_out, (h, c) = model.enc(src)\n",
        "\n",
        "    # -------- 디코딩 --------\n",
        "    generated: List[int] = []\n",
        "    cur_token = torch.LongTensor([[sp.bos_id()]]).to(DEVICE)\n",
        "\n",
        "    for _ in range(max_len):\n",
        "        # 한 스텝 디코더 실행 (context + lstm)\n",
        "        context = model.dec.attn(enc_out, h[-1].unsqueeze(1))\n",
        "        lstm_in = torch.cat([model.dec.emb(cur_token), context], dim=-1)\n",
        "        out, (h, c) = model.dec.lstm(lstm_in, (h, c))\n",
        "        logit = model.dec.fc(out)           # (1,1,V)\n",
        "        next_id = logit.argmax(dim=-1).item()\n",
        "\n",
        "        if next_id == sp.eos_id():\n",
        "            break\n",
        "        generated.append(next_id)\n",
        "        cur_token = torch.LongTensor([[next_id]]).to(DEVICE)\n",
        "\n",
        "    return sp.decode(generated)"
      ]
    },
    {
      "cell_type": "markdown",
      "id": "5c33cefc",
      "metadata": {
        "id": "5c33cefc"
      },
      "source": [
        "## 6. 간이 BLEU 평가 (마지막 50 샘플)"
      ]
    },
    {
      "cell_type": "code",
      "execution_count": 9,
      "id": "5993bb24",
      "metadata": {
        "colab": {
          "base_uri": "https://localhost:8080/"
        },
        "id": "5993bb24",
        "outputId": "01fbd40d-9e01-4eee-c599-acc04cbafe3a"
      },
      "outputs": [
        {
          "output_type": "stream",
          "name": "stderr",
          "text": [
            "BLEU eval: 100%|██████████| 50/50 [00:01<00:00, 49.90it/s]"
          ]
        },
        {
          "output_type": "stream",
          "name": "stdout",
          "text": [
            "BLEU (50 샘플) ≈ 2.27\n"
          ]
        },
        {
          "output_type": "stream",
          "name": "stderr",
          "text": [
            "\n"
          ]
        }
      ],
      "source": [
        "@torch.no_grad()\n",
        "def compute_bleu(sample: int = 50) -> float:\n",
        "    subset = load_dataset('opus_books', 'de-en', split=f'train[-{sample}:]')\n",
        "    refs, hyps = [], []\n",
        "    for ex in tqdm(subset, desc='BLEU eval'):\n",
        "        refs.append(ex['de'] if 'de' in ex else ex['translation']['de'])\n",
        "        hyps.append(greedy_translate(model, ex['en'] if 'en' in ex else ex['translation']['en']))\n",
        "    return sacrebleu.corpus_bleu(hyps, [refs]).score\n",
        "\n",
        "bleu_score = compute_bleu()\n",
        "print(f'BLEU (50 샘플) ≈ {bleu_score:.2f}')"
      ]
    },
    {
      "cell_type": "markdown",
      "id": "df59a51e",
      "metadata": {
        "id": "df59a51e"
      },
      "source": [
        "## 7. 데모"
      ]
    },
    {
      "cell_type": "code",
      "execution_count": 10,
      "id": "03d3445d",
      "metadata": {
        "colab": {
          "base_uri": "https://localhost:8080/"
        },
        "id": "03d3445d",
        "outputId": "b2690eff-7260-4841-e389-e712f7827c9a"
      },
      "outputs": [
        {
          "output_type": "stream",
          "name": "stdout",
          "text": [
            "\n",
            "EN> Where is the nearest hotel?\n",
            "DE> Wo ist die Nachtwache?\n",
            "\n",
            "EN> I need a taxi to the station.\n",
            "DE> Ich werde einen Kuchen um den Weg zu machen.\n"
          ]
        }
      ],
      "source": [
        "test_sentences = [\n",
        "    \"Where is the nearest hotel?\",\n",
        "    \"I need a taxi to the station.\",\n",
        "]\n",
        "for s in test_sentences:\n",
        "    print('\\nEN>', s)\n",
        "    print('DE>', greedy_translate(model, s))"
      ]
    }
  ],
  "metadata": {
    "kernelspec": {
      "display_name": "Python 3",
      "name": "python3"
    },
    "language_info": {
      "codemirror_mode": {
        "name": "ipython",
        "version": 3
      },
      "file_extension": ".py",
      "mimetype": "text/x-python",
      "name": "python",
      "nbconvert_exporter": "python",
      "pygments_lexer": "ipython3",
      "version": "3.12.7"
    },
    "colab": {
      "provenance": [],
      "gpuType": "T4"
    },
    "accelerator": "GPU",
    "widgets": {
      "application/vnd.jupyter.widget-state+json": {
        "c023aae9c71741d8969da64627eab269": {
          "model_module": "@jupyter-widgets/controls",
          "model_name": "HBoxModel",
          "model_module_version": "1.5.0",
          "state": {
            "_dom_classes": [],
            "_model_module": "@jupyter-widgets/controls",
            "_model_module_version": "1.5.0",
            "_model_name": "HBoxModel",
            "_view_count": null,
            "_view_module": "@jupyter-widgets/controls",
            "_view_module_version": "1.5.0",
            "_view_name": "HBoxView",
            "box_style": "",
            "children": [
              "IPY_MODEL_ddd2bf5bb9a24f55a78f140a42dace3e",
              "IPY_MODEL_486f9462d4fe4350b5993a89f6370d7b",
              "IPY_MODEL_890adf24bed345dcafbff65574edbb06"
            ],
            "layout": "IPY_MODEL_5086a4a7cfb049d5bc355f71e681404d"
          }
        },
        "ddd2bf5bb9a24f55a78f140a42dace3e": {
          "model_module": "@jupyter-widgets/controls",
          "model_name": "HTMLModel",
          "model_module_version": "1.5.0",
          "state": {
            "_dom_classes": [],
            "_model_module": "@jupyter-widgets/controls",
            "_model_module_version": "1.5.0",
            "_model_name": "HTMLModel",
            "_view_count": null,
            "_view_module": "@jupyter-widgets/controls",
            "_view_module_version": "1.5.0",
            "_view_name": "HTMLView",
            "description": "",
            "description_tooltip": null,
            "layout": "IPY_MODEL_ee5b3b73727a4ccab0c6b80ba91d5043",
            "placeholder": "​",
            "style": "IPY_MODEL_bfd02a060c7a429e92916ca1b93abdbf",
            "value": "README.md: 100%"
          }
        },
        "486f9462d4fe4350b5993a89f6370d7b": {
          "model_module": "@jupyter-widgets/controls",
          "model_name": "FloatProgressModel",
          "model_module_version": "1.5.0",
          "state": {
            "_dom_classes": [],
            "_model_module": "@jupyter-widgets/controls",
            "_model_module_version": "1.5.0",
            "_model_name": "FloatProgressModel",
            "_view_count": null,
            "_view_module": "@jupyter-widgets/controls",
            "_view_module_version": "1.5.0",
            "_view_name": "ProgressView",
            "bar_style": "success",
            "description": "",
            "description_tooltip": null,
            "layout": "IPY_MODEL_72c6d6bba6c04d8c983866725ff6be99",
            "max": 28064,
            "min": 0,
            "orientation": "horizontal",
            "style": "IPY_MODEL_bb2702674f744b11981695e34a416bc8",
            "value": 28064
          }
        },
        "890adf24bed345dcafbff65574edbb06": {
          "model_module": "@jupyter-widgets/controls",
          "model_name": "HTMLModel",
          "model_module_version": "1.5.0",
          "state": {
            "_dom_classes": [],
            "_model_module": "@jupyter-widgets/controls",
            "_model_module_version": "1.5.0",
            "_model_name": "HTMLModel",
            "_view_count": null,
            "_view_module": "@jupyter-widgets/controls",
            "_view_module_version": "1.5.0",
            "_view_name": "HTMLView",
            "description": "",
            "description_tooltip": null,
            "layout": "IPY_MODEL_1c5064cf850d44b99d2f835e7d2641d2",
            "placeholder": "​",
            "style": "IPY_MODEL_4401f7c9ff3f4461be3869278f9e6496",
            "value": " 28.1k/28.1k [00:00&lt;00:00, 2.82MB/s]"
          }
        },
        "5086a4a7cfb049d5bc355f71e681404d": {
          "model_module": "@jupyter-widgets/base",
          "model_name": "LayoutModel",
          "model_module_version": "1.2.0",
          "state": {
            "_model_module": "@jupyter-widgets/base",
            "_model_module_version": "1.2.0",
            "_model_name": "LayoutModel",
            "_view_count": null,
            "_view_module": "@jupyter-widgets/base",
            "_view_module_version": "1.2.0",
            "_view_name": "LayoutView",
            "align_content": null,
            "align_items": null,
            "align_self": null,
            "border": null,
            "bottom": null,
            "display": null,
            "flex": null,
            "flex_flow": null,
            "grid_area": null,
            "grid_auto_columns": null,
            "grid_auto_flow": null,
            "grid_auto_rows": null,
            "grid_column": null,
            "grid_gap": null,
            "grid_row": null,
            "grid_template_areas": null,
            "grid_template_columns": null,
            "grid_template_rows": null,
            "height": null,
            "justify_content": null,
            "justify_items": null,
            "left": null,
            "margin": null,
            "max_height": null,
            "max_width": null,
            "min_height": null,
            "min_width": null,
            "object_fit": null,
            "object_position": null,
            "order": null,
            "overflow": null,
            "overflow_x": null,
            "overflow_y": null,
            "padding": null,
            "right": null,
            "top": null,
            "visibility": null,
            "width": null
          }
        },
        "ee5b3b73727a4ccab0c6b80ba91d5043": {
          "model_module": "@jupyter-widgets/base",
          "model_name": "LayoutModel",
          "model_module_version": "1.2.0",
          "state": {
            "_model_module": "@jupyter-widgets/base",
            "_model_module_version": "1.2.0",
            "_model_name": "LayoutModel",
            "_view_count": null,
            "_view_module": "@jupyter-widgets/base",
            "_view_module_version": "1.2.0",
            "_view_name": "LayoutView",
            "align_content": null,
            "align_items": null,
            "align_self": null,
            "border": null,
            "bottom": null,
            "display": null,
            "flex": null,
            "flex_flow": null,
            "grid_area": null,
            "grid_auto_columns": null,
            "grid_auto_flow": null,
            "grid_auto_rows": null,
            "grid_column": null,
            "grid_gap": null,
            "grid_row": null,
            "grid_template_areas": null,
            "grid_template_columns": null,
            "grid_template_rows": null,
            "height": null,
            "justify_content": null,
            "justify_items": null,
            "left": null,
            "margin": null,
            "max_height": null,
            "max_width": null,
            "min_height": null,
            "min_width": null,
            "object_fit": null,
            "object_position": null,
            "order": null,
            "overflow": null,
            "overflow_x": null,
            "overflow_y": null,
            "padding": null,
            "right": null,
            "top": null,
            "visibility": null,
            "width": null
          }
        },
        "bfd02a060c7a429e92916ca1b93abdbf": {
          "model_module": "@jupyter-widgets/controls",
          "model_name": "DescriptionStyleModel",
          "model_module_version": "1.5.0",
          "state": {
            "_model_module": "@jupyter-widgets/controls",
            "_model_module_version": "1.5.0",
            "_model_name": "DescriptionStyleModel",
            "_view_count": null,
            "_view_module": "@jupyter-widgets/base",
            "_view_module_version": "1.2.0",
            "_view_name": "StyleView",
            "description_width": ""
          }
        },
        "72c6d6bba6c04d8c983866725ff6be99": {
          "model_module": "@jupyter-widgets/base",
          "model_name": "LayoutModel",
          "model_module_version": "1.2.0",
          "state": {
            "_model_module": "@jupyter-widgets/base",
            "_model_module_version": "1.2.0",
            "_model_name": "LayoutModel",
            "_view_count": null,
            "_view_module": "@jupyter-widgets/base",
            "_view_module_version": "1.2.0",
            "_view_name": "LayoutView",
            "align_content": null,
            "align_items": null,
            "align_self": null,
            "border": null,
            "bottom": null,
            "display": null,
            "flex": null,
            "flex_flow": null,
            "grid_area": null,
            "grid_auto_columns": null,
            "grid_auto_flow": null,
            "grid_auto_rows": null,
            "grid_column": null,
            "grid_gap": null,
            "grid_row": null,
            "grid_template_areas": null,
            "grid_template_columns": null,
            "grid_template_rows": null,
            "height": null,
            "justify_content": null,
            "justify_items": null,
            "left": null,
            "margin": null,
            "max_height": null,
            "max_width": null,
            "min_height": null,
            "min_width": null,
            "object_fit": null,
            "object_position": null,
            "order": null,
            "overflow": null,
            "overflow_x": null,
            "overflow_y": null,
            "padding": null,
            "right": null,
            "top": null,
            "visibility": null,
            "width": null
          }
        },
        "bb2702674f744b11981695e34a416bc8": {
          "model_module": "@jupyter-widgets/controls",
          "model_name": "ProgressStyleModel",
          "model_module_version": "1.5.0",
          "state": {
            "_model_module": "@jupyter-widgets/controls",
            "_model_module_version": "1.5.0",
            "_model_name": "ProgressStyleModel",
            "_view_count": null,
            "_view_module": "@jupyter-widgets/base",
            "_view_module_version": "1.2.0",
            "_view_name": "StyleView",
            "bar_color": null,
            "description_width": ""
          }
        },
        "1c5064cf850d44b99d2f835e7d2641d2": {
          "model_module": "@jupyter-widgets/base",
          "model_name": "LayoutModel",
          "model_module_version": "1.2.0",
          "state": {
            "_model_module": "@jupyter-widgets/base",
            "_model_module_version": "1.2.0",
            "_model_name": "LayoutModel",
            "_view_count": null,
            "_view_module": "@jupyter-widgets/base",
            "_view_module_version": "1.2.0",
            "_view_name": "LayoutView",
            "align_content": null,
            "align_items": null,
            "align_self": null,
            "border": null,
            "bottom": null,
            "display": null,
            "flex": null,
            "flex_flow": null,
            "grid_area": null,
            "grid_auto_columns": null,
            "grid_auto_flow": null,
            "grid_auto_rows": null,
            "grid_column": null,
            "grid_gap": null,
            "grid_row": null,
            "grid_template_areas": null,
            "grid_template_columns": null,
            "grid_template_rows": null,
            "height": null,
            "justify_content": null,
            "justify_items": null,
            "left": null,
            "margin": null,
            "max_height": null,
            "max_width": null,
            "min_height": null,
            "min_width": null,
            "object_fit": null,
            "object_position": null,
            "order": null,
            "overflow": null,
            "overflow_x": null,
            "overflow_y": null,
            "padding": null,
            "right": null,
            "top": null,
            "visibility": null,
            "width": null
          }
        },
        "4401f7c9ff3f4461be3869278f9e6496": {
          "model_module": "@jupyter-widgets/controls",
          "model_name": "DescriptionStyleModel",
          "model_module_version": "1.5.0",
          "state": {
            "_model_module": "@jupyter-widgets/controls",
            "_model_module_version": "1.5.0",
            "_model_name": "DescriptionStyleModel",
            "_view_count": null,
            "_view_module": "@jupyter-widgets/base",
            "_view_module_version": "1.2.0",
            "_view_name": "StyleView",
            "description_width": ""
          }
        },
        "5a965ef98d9b41458aee726818b44672": {
          "model_module": "@jupyter-widgets/controls",
          "model_name": "HBoxModel",
          "model_module_version": "1.5.0",
          "state": {
            "_dom_classes": [],
            "_model_module": "@jupyter-widgets/controls",
            "_model_module_version": "1.5.0",
            "_model_name": "HBoxModel",
            "_view_count": null,
            "_view_module": "@jupyter-widgets/controls",
            "_view_module_version": "1.5.0",
            "_view_name": "HBoxView",
            "box_style": "",
            "children": [
              "IPY_MODEL_7d1673b7f0774eb09cdedde8d2add3c0",
              "IPY_MODEL_f066153e2d5a4f36992d7bbeb5058e1e",
              "IPY_MODEL_920a83b8511247a087fb96c987aef1e5"
            ],
            "layout": "IPY_MODEL_659fc1db796d45a8ab6b998f4afbcdee"
          }
        },
        "7d1673b7f0774eb09cdedde8d2add3c0": {
          "model_module": "@jupyter-widgets/controls",
          "model_name": "HTMLModel",
          "model_module_version": "1.5.0",
          "state": {
            "_dom_classes": [],
            "_model_module": "@jupyter-widgets/controls",
            "_model_module_version": "1.5.0",
            "_model_name": "HTMLModel",
            "_view_count": null,
            "_view_module": "@jupyter-widgets/controls",
            "_view_module_version": "1.5.0",
            "_view_name": "HTMLView",
            "description": "",
            "description_tooltip": null,
            "layout": "IPY_MODEL_63243172b36e4540a2d5cb006fccd804",
            "placeholder": "​",
            "style": "IPY_MODEL_408b10e6af08434aa712d8c7f51b8bcb",
            "value": "train-00000-of-00001.parquet: 100%"
          }
        },
        "f066153e2d5a4f36992d7bbeb5058e1e": {
          "model_module": "@jupyter-widgets/controls",
          "model_name": "FloatProgressModel",
          "model_module_version": "1.5.0",
          "state": {
            "_dom_classes": [],
            "_model_module": "@jupyter-widgets/controls",
            "_model_module_version": "1.5.0",
            "_model_name": "FloatProgressModel",
            "_view_count": null,
            "_view_module": "@jupyter-widgets/controls",
            "_view_module_version": "1.5.0",
            "_view_name": "ProgressView",
            "bar_style": "success",
            "description": "",
            "description_tooltip": null,
            "layout": "IPY_MODEL_5157e830edc7455fb87995ab420b9a0b",
            "max": 8797832,
            "min": 0,
            "orientation": "horizontal",
            "style": "IPY_MODEL_c7a82b5b2946430b871e580bd9704ab6",
            "value": 8797832
          }
        },
        "920a83b8511247a087fb96c987aef1e5": {
          "model_module": "@jupyter-widgets/controls",
          "model_name": "HTMLModel",
          "model_module_version": "1.5.0",
          "state": {
            "_dom_classes": [],
            "_model_module": "@jupyter-widgets/controls",
            "_model_module_version": "1.5.0",
            "_model_name": "HTMLModel",
            "_view_count": null,
            "_view_module": "@jupyter-widgets/controls",
            "_view_module_version": "1.5.0",
            "_view_name": "HTMLView",
            "description": "",
            "description_tooltip": null,
            "layout": "IPY_MODEL_3eb4aace13164b21b12e9f366a8ac857",
            "placeholder": "​",
            "style": "IPY_MODEL_de30985ab5a24b68b24474d72480fdf6",
            "value": " 8.80M/8.80M [00:00&lt;00:00, 45.0MB/s]"
          }
        },
        "659fc1db796d45a8ab6b998f4afbcdee": {
          "model_module": "@jupyter-widgets/base",
          "model_name": "LayoutModel",
          "model_module_version": "1.2.0",
          "state": {
            "_model_module": "@jupyter-widgets/base",
            "_model_module_version": "1.2.0",
            "_model_name": "LayoutModel",
            "_view_count": null,
            "_view_module": "@jupyter-widgets/base",
            "_view_module_version": "1.2.0",
            "_view_name": "LayoutView",
            "align_content": null,
            "align_items": null,
            "align_self": null,
            "border": null,
            "bottom": null,
            "display": null,
            "flex": null,
            "flex_flow": null,
            "grid_area": null,
            "grid_auto_columns": null,
            "grid_auto_flow": null,
            "grid_auto_rows": null,
            "grid_column": null,
            "grid_gap": null,
            "grid_row": null,
            "grid_template_areas": null,
            "grid_template_columns": null,
            "grid_template_rows": null,
            "height": null,
            "justify_content": null,
            "justify_items": null,
            "left": null,
            "margin": null,
            "max_height": null,
            "max_width": null,
            "min_height": null,
            "min_width": null,
            "object_fit": null,
            "object_position": null,
            "order": null,
            "overflow": null,
            "overflow_x": null,
            "overflow_y": null,
            "padding": null,
            "right": null,
            "top": null,
            "visibility": null,
            "width": null
          }
        },
        "63243172b36e4540a2d5cb006fccd804": {
          "model_module": "@jupyter-widgets/base",
          "model_name": "LayoutModel",
          "model_module_version": "1.2.0",
          "state": {
            "_model_module": "@jupyter-widgets/base",
            "_model_module_version": "1.2.0",
            "_model_name": "LayoutModel",
            "_view_count": null,
            "_view_module": "@jupyter-widgets/base",
            "_view_module_version": "1.2.0",
            "_view_name": "LayoutView",
            "align_content": null,
            "align_items": null,
            "align_self": null,
            "border": null,
            "bottom": null,
            "display": null,
            "flex": null,
            "flex_flow": null,
            "grid_area": null,
            "grid_auto_columns": null,
            "grid_auto_flow": null,
            "grid_auto_rows": null,
            "grid_column": null,
            "grid_gap": null,
            "grid_row": null,
            "grid_template_areas": null,
            "grid_template_columns": null,
            "grid_template_rows": null,
            "height": null,
            "justify_content": null,
            "justify_items": null,
            "left": null,
            "margin": null,
            "max_height": null,
            "max_width": null,
            "min_height": null,
            "min_width": null,
            "object_fit": null,
            "object_position": null,
            "order": null,
            "overflow": null,
            "overflow_x": null,
            "overflow_y": null,
            "padding": null,
            "right": null,
            "top": null,
            "visibility": null,
            "width": null
          }
        },
        "408b10e6af08434aa712d8c7f51b8bcb": {
          "model_module": "@jupyter-widgets/controls",
          "model_name": "DescriptionStyleModel",
          "model_module_version": "1.5.0",
          "state": {
            "_model_module": "@jupyter-widgets/controls",
            "_model_module_version": "1.5.0",
            "_model_name": "DescriptionStyleModel",
            "_view_count": null,
            "_view_module": "@jupyter-widgets/base",
            "_view_module_version": "1.2.0",
            "_view_name": "StyleView",
            "description_width": ""
          }
        },
        "5157e830edc7455fb87995ab420b9a0b": {
          "model_module": "@jupyter-widgets/base",
          "model_name": "LayoutModel",
          "model_module_version": "1.2.0",
          "state": {
            "_model_module": "@jupyter-widgets/base",
            "_model_module_version": "1.2.0",
            "_model_name": "LayoutModel",
            "_view_count": null,
            "_view_module": "@jupyter-widgets/base",
            "_view_module_version": "1.2.0",
            "_view_name": "LayoutView",
            "align_content": null,
            "align_items": null,
            "align_self": null,
            "border": null,
            "bottom": null,
            "display": null,
            "flex": null,
            "flex_flow": null,
            "grid_area": null,
            "grid_auto_columns": null,
            "grid_auto_flow": null,
            "grid_auto_rows": null,
            "grid_column": null,
            "grid_gap": null,
            "grid_row": null,
            "grid_template_areas": null,
            "grid_template_columns": null,
            "grid_template_rows": null,
            "height": null,
            "justify_content": null,
            "justify_items": null,
            "left": null,
            "margin": null,
            "max_height": null,
            "max_width": null,
            "min_height": null,
            "min_width": null,
            "object_fit": null,
            "object_position": null,
            "order": null,
            "overflow": null,
            "overflow_x": null,
            "overflow_y": null,
            "padding": null,
            "right": null,
            "top": null,
            "visibility": null,
            "width": null
          }
        },
        "c7a82b5b2946430b871e580bd9704ab6": {
          "model_module": "@jupyter-widgets/controls",
          "model_name": "ProgressStyleModel",
          "model_module_version": "1.5.0",
          "state": {
            "_model_module": "@jupyter-widgets/controls",
            "_model_module_version": "1.5.0",
            "_model_name": "ProgressStyleModel",
            "_view_count": null,
            "_view_module": "@jupyter-widgets/base",
            "_view_module_version": "1.2.0",
            "_view_name": "StyleView",
            "bar_color": null,
            "description_width": ""
          }
        },
        "3eb4aace13164b21b12e9f366a8ac857": {
          "model_module": "@jupyter-widgets/base",
          "model_name": "LayoutModel",
          "model_module_version": "1.2.0",
          "state": {
            "_model_module": "@jupyter-widgets/base",
            "_model_module_version": "1.2.0",
            "_model_name": "LayoutModel",
            "_view_count": null,
            "_view_module": "@jupyter-widgets/base",
            "_view_module_version": "1.2.0",
            "_view_name": "LayoutView",
            "align_content": null,
            "align_items": null,
            "align_self": null,
            "border": null,
            "bottom": null,
            "display": null,
            "flex": null,
            "flex_flow": null,
            "grid_area": null,
            "grid_auto_columns": null,
            "grid_auto_flow": null,
            "grid_auto_rows": null,
            "grid_column": null,
            "grid_gap": null,
            "grid_row": null,
            "grid_template_areas": null,
            "grid_template_columns": null,
            "grid_template_rows": null,
            "height": null,
            "justify_content": null,
            "justify_items": null,
            "left": null,
            "margin": null,
            "max_height": null,
            "max_width": null,
            "min_height": null,
            "min_width": null,
            "object_fit": null,
            "object_position": null,
            "order": null,
            "overflow": null,
            "overflow_x": null,
            "overflow_y": null,
            "padding": null,
            "right": null,
            "top": null,
            "visibility": null,
            "width": null
          }
        },
        "de30985ab5a24b68b24474d72480fdf6": {
          "model_module": "@jupyter-widgets/controls",
          "model_name": "DescriptionStyleModel",
          "model_module_version": "1.5.0",
          "state": {
            "_model_module": "@jupyter-widgets/controls",
            "_model_module_version": "1.5.0",
            "_model_name": "DescriptionStyleModel",
            "_view_count": null,
            "_view_module": "@jupyter-widgets/base",
            "_view_module_version": "1.2.0",
            "_view_name": "StyleView",
            "description_width": ""
          }
        },
        "40100fa9c52d480c8cb5740d0814fed0": {
          "model_module": "@jupyter-widgets/controls",
          "model_name": "HBoxModel",
          "model_module_version": "1.5.0",
          "state": {
            "_dom_classes": [],
            "_model_module": "@jupyter-widgets/controls",
            "_model_module_version": "1.5.0",
            "_model_name": "HBoxModel",
            "_view_count": null,
            "_view_module": "@jupyter-widgets/controls",
            "_view_module_version": "1.5.0",
            "_view_name": "HBoxView",
            "box_style": "",
            "children": [
              "IPY_MODEL_59e763bb82d249468f79ac5c01f90872",
              "IPY_MODEL_a5b8bae180614dc89608740a45229b08",
              "IPY_MODEL_9eaf8f452b70484f9687de3826238d76"
            ],
            "layout": "IPY_MODEL_0b59a7ee2f5942c18537987a706b67fb"
          }
        },
        "59e763bb82d249468f79ac5c01f90872": {
          "model_module": "@jupyter-widgets/controls",
          "model_name": "HTMLModel",
          "model_module_version": "1.5.0",
          "state": {
            "_dom_classes": [],
            "_model_module": "@jupyter-widgets/controls",
            "_model_module_version": "1.5.0",
            "_model_name": "HTMLModel",
            "_view_count": null,
            "_view_module": "@jupyter-widgets/controls",
            "_view_module_version": "1.5.0",
            "_view_name": "HTMLView",
            "description": "",
            "description_tooltip": null,
            "layout": "IPY_MODEL_ac1ab6d46b894b63aa772133f9272cac",
            "placeholder": "​",
            "style": "IPY_MODEL_e916d5810bdf426592cd4060314f15f3",
            "value": "Generating train split: 100%"
          }
        },
        "a5b8bae180614dc89608740a45229b08": {
          "model_module": "@jupyter-widgets/controls",
          "model_name": "FloatProgressModel",
          "model_module_version": "1.5.0",
          "state": {
            "_dom_classes": [],
            "_model_module": "@jupyter-widgets/controls",
            "_model_module_version": "1.5.0",
            "_model_name": "FloatProgressModel",
            "_view_count": null,
            "_view_module": "@jupyter-widgets/controls",
            "_view_module_version": "1.5.0",
            "_view_name": "ProgressView",
            "bar_style": "success",
            "description": "",
            "description_tooltip": null,
            "layout": "IPY_MODEL_de0b7d4360ee4c038d2983d32b159a65",
            "max": 51467,
            "min": 0,
            "orientation": "horizontal",
            "style": "IPY_MODEL_9dbbdf7f428742c6920324eaff24aeed",
            "value": 51467
          }
        },
        "9eaf8f452b70484f9687de3826238d76": {
          "model_module": "@jupyter-widgets/controls",
          "model_name": "HTMLModel",
          "model_module_version": "1.5.0",
          "state": {
            "_dom_classes": [],
            "_model_module": "@jupyter-widgets/controls",
            "_model_module_version": "1.5.0",
            "_model_name": "HTMLModel",
            "_view_count": null,
            "_view_module": "@jupyter-widgets/controls",
            "_view_module_version": "1.5.0",
            "_view_name": "HTMLView",
            "description": "",
            "description_tooltip": null,
            "layout": "IPY_MODEL_7fc688ed285342f88b5327d311c605b0",
            "placeholder": "​",
            "style": "IPY_MODEL_df183b31ea9940c78652a6cf012c2a96",
            "value": " 51467/51467 [00:00&lt;00:00, 180461.20 examples/s]"
          }
        },
        "0b59a7ee2f5942c18537987a706b67fb": {
          "model_module": "@jupyter-widgets/base",
          "model_name": "LayoutModel",
          "model_module_version": "1.2.0",
          "state": {
            "_model_module": "@jupyter-widgets/base",
            "_model_module_version": "1.2.0",
            "_model_name": "LayoutModel",
            "_view_count": null,
            "_view_module": "@jupyter-widgets/base",
            "_view_module_version": "1.2.0",
            "_view_name": "LayoutView",
            "align_content": null,
            "align_items": null,
            "align_self": null,
            "border": null,
            "bottom": null,
            "display": null,
            "flex": null,
            "flex_flow": null,
            "grid_area": null,
            "grid_auto_columns": null,
            "grid_auto_flow": null,
            "grid_auto_rows": null,
            "grid_column": null,
            "grid_gap": null,
            "grid_row": null,
            "grid_template_areas": null,
            "grid_template_columns": null,
            "grid_template_rows": null,
            "height": null,
            "justify_content": null,
            "justify_items": null,
            "left": null,
            "margin": null,
            "max_height": null,
            "max_width": null,
            "min_height": null,
            "min_width": null,
            "object_fit": null,
            "object_position": null,
            "order": null,
            "overflow": null,
            "overflow_x": null,
            "overflow_y": null,
            "padding": null,
            "right": null,
            "top": null,
            "visibility": null,
            "width": null
          }
        },
        "ac1ab6d46b894b63aa772133f9272cac": {
          "model_module": "@jupyter-widgets/base",
          "model_name": "LayoutModel",
          "model_module_version": "1.2.0",
          "state": {
            "_model_module": "@jupyter-widgets/base",
            "_model_module_version": "1.2.0",
            "_model_name": "LayoutModel",
            "_view_count": null,
            "_view_module": "@jupyter-widgets/base",
            "_view_module_version": "1.2.0",
            "_view_name": "LayoutView",
            "align_content": null,
            "align_items": null,
            "align_self": null,
            "border": null,
            "bottom": null,
            "display": null,
            "flex": null,
            "flex_flow": null,
            "grid_area": null,
            "grid_auto_columns": null,
            "grid_auto_flow": null,
            "grid_auto_rows": null,
            "grid_column": null,
            "grid_gap": null,
            "grid_row": null,
            "grid_template_areas": null,
            "grid_template_columns": null,
            "grid_template_rows": null,
            "height": null,
            "justify_content": null,
            "justify_items": null,
            "left": null,
            "margin": null,
            "max_height": null,
            "max_width": null,
            "min_height": null,
            "min_width": null,
            "object_fit": null,
            "object_position": null,
            "order": null,
            "overflow": null,
            "overflow_x": null,
            "overflow_y": null,
            "padding": null,
            "right": null,
            "top": null,
            "visibility": null,
            "width": null
          }
        },
        "e916d5810bdf426592cd4060314f15f3": {
          "model_module": "@jupyter-widgets/controls",
          "model_name": "DescriptionStyleModel",
          "model_module_version": "1.5.0",
          "state": {
            "_model_module": "@jupyter-widgets/controls",
            "_model_module_version": "1.5.0",
            "_model_name": "DescriptionStyleModel",
            "_view_count": null,
            "_view_module": "@jupyter-widgets/base",
            "_view_module_version": "1.2.0",
            "_view_name": "StyleView",
            "description_width": ""
          }
        },
        "de0b7d4360ee4c038d2983d32b159a65": {
          "model_module": "@jupyter-widgets/base",
          "model_name": "LayoutModel",
          "model_module_version": "1.2.0",
          "state": {
            "_model_module": "@jupyter-widgets/base",
            "_model_module_version": "1.2.0",
            "_model_name": "LayoutModel",
            "_view_count": null,
            "_view_module": "@jupyter-widgets/base",
            "_view_module_version": "1.2.0",
            "_view_name": "LayoutView",
            "align_content": null,
            "align_items": null,
            "align_self": null,
            "border": null,
            "bottom": null,
            "display": null,
            "flex": null,
            "flex_flow": null,
            "grid_area": null,
            "grid_auto_columns": null,
            "grid_auto_flow": null,
            "grid_auto_rows": null,
            "grid_column": null,
            "grid_gap": null,
            "grid_row": null,
            "grid_template_areas": null,
            "grid_template_columns": null,
            "grid_template_rows": null,
            "height": null,
            "justify_content": null,
            "justify_items": null,
            "left": null,
            "margin": null,
            "max_height": null,
            "max_width": null,
            "min_height": null,
            "min_width": null,
            "object_fit": null,
            "object_position": null,
            "order": null,
            "overflow": null,
            "overflow_x": null,
            "overflow_y": null,
            "padding": null,
            "right": null,
            "top": null,
            "visibility": null,
            "width": null
          }
        },
        "9dbbdf7f428742c6920324eaff24aeed": {
          "model_module": "@jupyter-widgets/controls",
          "model_name": "ProgressStyleModel",
          "model_module_version": "1.5.0",
          "state": {
            "_model_module": "@jupyter-widgets/controls",
            "_model_module_version": "1.5.0",
            "_model_name": "ProgressStyleModel",
            "_view_count": null,
            "_view_module": "@jupyter-widgets/base",
            "_view_module_version": "1.2.0",
            "_view_name": "StyleView",
            "bar_color": null,
            "description_width": ""
          }
        },
        "7fc688ed285342f88b5327d311c605b0": {
          "model_module": "@jupyter-widgets/base",
          "model_name": "LayoutModel",
          "model_module_version": "1.2.0",
          "state": {
            "_model_module": "@jupyter-widgets/base",
            "_model_module_version": "1.2.0",
            "_model_name": "LayoutModel",
            "_view_count": null,
            "_view_module": "@jupyter-widgets/base",
            "_view_module_version": "1.2.0",
            "_view_name": "LayoutView",
            "align_content": null,
            "align_items": null,
            "align_self": null,
            "border": null,
            "bottom": null,
            "display": null,
            "flex": null,
            "flex_flow": null,
            "grid_area": null,
            "grid_auto_columns": null,
            "grid_auto_flow": null,
            "grid_auto_rows": null,
            "grid_column": null,
            "grid_gap": null,
            "grid_row": null,
            "grid_template_areas": null,
            "grid_template_columns": null,
            "grid_template_rows": null,
            "height": null,
            "justify_content": null,
            "justify_items": null,
            "left": null,
            "margin": null,
            "max_height": null,
            "max_width": null,
            "min_height": null,
            "min_width": null,
            "object_fit": null,
            "object_position": null,
            "order": null,
            "overflow": null,
            "overflow_x": null,
            "overflow_y": null,
            "padding": null,
            "right": null,
            "top": null,
            "visibility": null,
            "width": null
          }
        },
        "df183b31ea9940c78652a6cf012c2a96": {
          "model_module": "@jupyter-widgets/controls",
          "model_name": "DescriptionStyleModel",
          "model_module_version": "1.5.0",
          "state": {
            "_model_module": "@jupyter-widgets/controls",
            "_model_module_version": "1.5.0",
            "_model_name": "DescriptionStyleModel",
            "_view_count": null,
            "_view_module": "@jupyter-widgets/base",
            "_view_module_version": "1.2.0",
            "_view_name": "StyleView",
            "description_width": ""
          }
        }
      }
    }
  },
  "nbformat": 4,
  "nbformat_minor": 5
}
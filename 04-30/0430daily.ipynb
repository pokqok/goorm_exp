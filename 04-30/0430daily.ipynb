{
 "cells": [
  {
   "cell_type": "markdown",
   "id": "dde9e605",
   "metadata": {},
   "source": [
    "# 🚀 다변수 입력 및 3D 착륙 위치 예측 미션\n",
    "\n",
    "## \"AI 드론의 고급 착륙 예측: 3D 좌표 학습하기\""
   ]
  },
  {
   "cell_type": "markdown",
   "id": "a87ce40f",
   "metadata": {},
   "source": [
    "### 📜 시나리오\n",
    "\n",
    "이제는 드론이 3차원 공간에서 착륙해야 합니다.  \n",
    "입력은 `(위도, 경도, 고도)`이고, 드론은 이 정보를 바탕으로 `(목표 X, Y, Z)` 좌표에 정확히 착륙해야 합니다.\n",
    "\n",
    "단순한 회귀가 아닌, **3차원 벡터 예측 문제**로 확장됩니다.\n"
   ]
  },
  {
   "cell_type": "markdown",
   "id": "ec8a0b2e",
   "metadata": {},
   "source": [
    "### 🧪 실습 목표\n",
    "\n",
    "- 다변수 입력 (3D 위치: 위도, 경도, 고도)\n",
    "- 다차원 출력 (착륙 좌표: X, Y, Z)\n",
    "- 신경망 순전파, 역전파 구현\n",
    "- MSE 손실과 학습 시각화\n"
   ]
  },
  {
   "cell_type": "markdown",
   "id": "fd47f903",
   "metadata": {},
   "source": [
    "### 📂 데이터 구성"
   ]
  },
  {
   "cell_type": "code",
   "execution_count": 2,
   "id": "38881f1c",
   "metadata": {},
   "outputs": [],
   "source": [
    "import numpy as np\n",
    "import matplotlib.pyplot as plt\n",
    "\n",
    "# 입력: 위도, 경도, 고도 (예시 데이터 4개)\n",
    "X = np.array([\n",
    "    [10.0, 20.0, 100.0],\n",
    "    [15.0, 25.0, 120.0],\n",
    "    [12.0, 22.0, 110.0],\n",
    "    [14.0, 24.0, 115.0],\n",
    "])\n",
    "\n",
    "# 출력: 착륙해야 할 3D 위치 (X, Y, Z)\n",
    "y = np.array([\n",
    "    [5.0,  3.0,  0.5],\n",
    "    [6.5,  4.0,  0.8],\n",
    "    [5.5,  3.5,  0.6],\n",
    "    [6.2,  3.8,  0.7],\n",
    "])\n",
    "\n",
    "# 초기 가중치 및 편향 설정\n",
    "np.random.seed(1)\n",
    "W1 = np.random.randn(3, 6)  # 입력 3 → 은닉 6\n",
    "b1 = np.zeros((1, 6))\n",
    "W2 = np.random.randn(6, 3)  # 은닉 6 → 출력 3\n",
    "b2 = np.zeros((1, 3))"
   ]
  },
  {
   "cell_type": "markdown",
   "id": "4351e2a3",
   "metadata": {},
   "source": [
    "### 🔧 ReLU 활성화 함수"
   ]
  },
  {
   "cell_type": "code",
   "execution_count": 1,
   "id": "075d121c",
   "metadata": {},
   "outputs": [],
   "source": [
    "def relu(x):\n",
    "    return np.maximum(0, x)\n",
    "\n",
    "def relu_grad(x):\n",
    "    return (x > 0).astype(float)\n"
   ]
  },
  {
   "cell_type": "markdown",
   "id": "91b15df7",
   "metadata": {},
   "source": [
    "### 🔍 순전파"
   ]
  },
  {
   "cell_type": "code",
   "execution_count": 3,
   "id": "0dab0eeb",
   "metadata": {},
   "outputs": [],
   "source": [
    "def forward(X):\n",
    "    global Z1, A1, Z2, y_pred\n",
    "    Z1 = X @ W1 + b1\n",
    "    A1 = relu(Z1)\n",
    "    Z2 = A1 @ W2 + b2\n",
    "    y_pred = Z2\n",
    "    \n",
    "    return y_pred\n"
   ]
  },
  {
   "cell_type": "markdown",
   "id": "eea96c19",
   "metadata": {},
   "source": [
    "### 🔄 역전파 및 경사하강법"
   ]
  },
  {
   "cell_type": "code",
   "execution_count": 4,
   "id": "fa39cc48",
   "metadata": {},
   "outputs": [],
   "source": [
    "def mse_loss(y_pred, y_true):\n",
    "    return np.mean(np.square(y_pred - y_true))\n",
    "\n",
    "def backward(X, y_true, lr=0.001):\n",
    "    global W1, b1, W2, b2\n",
    "    m = X.shape[0]\n",
    "\n",
    "    dZ2 = (y_pred - y_true) / m\n",
    "    dW2 = A1.T @ dZ2\n",
    "    db2 = np.sum(dZ2, axis=0, keepdims=True)\n",
    "\n",
    "    dA1 = dZ2 @ W2.T\n",
    "    dZ1 = dA1 * relu_grad(Z1)\n",
    "    dW1 = X.T @ dZ1\n",
    "    db1 = np.sum(dZ1, axis=0, keepdims=True)\n",
    "\n",
    "    # 가중치 및 편향 업데이트\n",
    "    W2 -= lr * dW2\n",
    "    b2 -= lr * db2\n",
    "    W1 -= lr * dW1\n",
    "    b1 -= lr * db1"
   ]
  },
  {
   "cell_type": "markdown",
   "id": "41a501fb",
   "metadata": {},
   "source": [
    "### 🧮 학습 실행"
   ]
  },
  {
   "cell_type": "code",
   "execution_count": 5,
   "id": "017e9895",
   "metadata": {},
   "outputs": [],
   "source": [
    "loss_history = []\n",
    "\n",
    "for epoch in range(500):\n",
    "    forward(X)\n",
    "\n",
    "    loss = mse_loss(y_pred, y)\n",
    "    loss_history.append(loss)\n",
    "    \n",
    "    backward(X, y, lr=0.01)\n",
    "\n"
   ]
  },
  {
   "cell_type": "markdown",
   "id": "1a1948ab",
   "metadata": {},
   "source": [
    "### 📊 손실 시각화"
   ]
  },
  {
   "cell_type": "code",
   "execution_count": 8,
   "id": "009ab16c",
   "metadata": {},
   "outputs": [
    {
     "data": {
      "image/png": "[encoded data removed]",
      "text/plain": [
       "<Figure size 640x480 with 1 Axes>"
      ]
     },
     "metadata": {},
     "output_type": "display_data"
    },
    {
     "name": "stdout",
     "output_type": "stream",
     "text": [
      "최종 예측 결과:\n",
      "[[5.75495228 3.55678803 0.64969681]\n",
      " [5.75495228 3.55678803 0.64969681]\n",
      " [5.75495228 3.55678803 0.64969681]\n",
      " [5.75495228 3.55678803 0.64969681]]\n",
      "\n",
      "실제 목표 좌표:\n",
      "[[5.  3.  0.5]\n",
      " [6.5 4.  0.8]\n",
      " [5.5 3.5 0.6]\n",
      " [6.2 3.8 0.7]]\n"
     ]
    }
   ],
   "source": [
    "# 한글 폰트 설정\n",
    "plt.rcParams['font.family'] = 'Malgun Gothic'\n",
    "plt.rcParams['axes.unicode_minus'] = False\n",
    "\n",
    "plt.plot(loss_history)\n",
    "plt.xlabel(\"Epoch\")\n",
    "plt.ylabel(\"Loss (MSE)\")\n",
    "plt.title(\"3D 착륙 예측 신경망 학습 과정\")\n",
    "plt.grid(True)\n",
    "plt.show()\n",
    "\n",
    "print(\"최종 예측 결과:\")\n",
    "print(y_pred)\n",
    "print(\"\\n실제 목표 좌표:\")\n",
    "print(y)"
   ]
  },
  {
   "cell_type": "markdown",
   "id": "274924f1",
   "metadata": {},
   "source": [
    "### 🎁 보너스 미션\n",
    "\n",
    "- `tanh` 또는 `sigmoid` 활성화 함수로 변경해 보세요.\n",
    "- 드론의 현재 속도, 풍속, 배터리 잔량 등을 추가 입력 특성으로 확장해보세요.\n"
   ]
  }
 ],
 "metadata": {
  "kernelspec": {
   "display_name": "base",
   "language": "python",
   "name": "python3"
  },
  "language_info": {
   "codemirror_mode": {
    "name": "ipython",
    "version": 3
   },
   "file_extension": ".py",
   "mimetype": "text/x-python",
   "name": "python",
   "nbconvert_exporter": "python",
   "pygments_lexer": "ipython3",
   "version": "3.12.7"
  }
 },
 "nbformat": 4,
 "nbformat_minor": 5
}
